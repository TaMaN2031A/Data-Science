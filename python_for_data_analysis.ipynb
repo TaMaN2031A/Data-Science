{
 "cells": [
  {
   "metadata": {},
   "cell_type": "markdown",
   "source": "## Chapter 1, 2",
   "id": "9353a60654196a84"
  },
  {
   "metadata": {
    "ExecuteTime": {
     "end_time": "2025-09-25T12:39:50.576311Z",
     "start_time": "2025-09-25T12:39:43.580054Z"
    }
   },
   "cell_type": "code",
   "source": [
    "# Main imports\n",
    "\n",
    "# Secondary imports\n",
    "import numpy as np\n",
    "import pandas as pd\n",
    "import matplotlib.pyplot as plt\n",
    "# Local imports"
   ],
   "id": "initial_id",
   "outputs": [],
   "execution_count": 1
  },
  {
   "metadata": {
    "ExecuteTime": {
     "end_time": "2025-09-15T15:08:57.509368Z",
     "start_time": "2025-09-15T15:08:57.496635Z"
    }
   },
   "cell_type": "code",
   "source": [
    "pd.options.display.max_columns = 20\n",
    "pd.options.display.max_rows = 20\n",
    "pd.options.display.max_colwidth = 20\n",
    "np.set_printoptions(precision=4, suppress=True)\n"
   ],
   "id": "70e41b9cbc45b038",
   "outputs": [],
   "execution_count": 3
  },
  {
   "metadata": {
    "ExecuteTime": {
     "end_time": "2025-09-15T15:09:59.478704Z",
     "start_time": "2025-09-15T15:08:57.543465Z"
    }
   },
   "cell_type": "code",
   "source": "!python",
   "id": "b99fef45c59c5b4f",
   "outputs": [
    {
     "name": "stdout",
     "output_type": "stream",
     "text": [
      "^C\n"
     ]
    }
   ],
   "execution_count": 4
  },
  {
   "metadata": {
    "ExecuteTime": {
     "end_time": "2025-09-15T15:10:03.691008Z",
     "start_time": "2025-09-15T15:10:03.678331Z"
    }
   },
   "cell_type": "code",
   "source": "print(\"Hello World!\")",
   "id": "53e535a4c7dff6e4",
   "outputs": [
    {
     "name": "stdout",
     "output_type": "stream",
     "text": [
      "Hello World!\n"
     ]
    }
   ],
   "execution_count": 5
  },
  {
   "metadata": {
    "ExecuteTime": {
     "end_time": "2025-09-15T15:10:03.801320Z",
     "start_time": "2025-09-15T15:10:03.779141Z"
    }
   },
   "cell_type": "code",
   "source": [
    "a = 5\n",
    "a"
   ],
   "id": "5ea970557256d52b",
   "outputs": [
    {
     "data": {
      "text/plain": [
       "5"
      ]
     },
     "execution_count": 6,
     "metadata": {},
     "output_type": "execute_result"
    }
   ],
   "execution_count": 6
  },
  {
   "metadata": {
    "ExecuteTime": {
     "end_time": "2025-09-15T15:10:04.013380Z",
     "start_time": "2025-09-15T15:10:03.997728Z"
    }
   },
   "cell_type": "code",
   "source": [
    "data = [np.random.standard_normal() for i in range(7)]\n",
    "data\n",
    "# Prettier print than using `print()` function"
   ],
   "id": "9d993fbc2255bdb",
   "outputs": [
    {
     "data": {
      "text/plain": [
       "[0.3419597038896397,\n",
       " -0.14376820927105727,\n",
       " -0.987323738990567,\n",
       " -1.4548773373584702,\n",
       " -0.35231251583403905,\n",
       " -0.14540514869168378,\n",
       " -0.1552536560472769]"
      ]
     },
     "execution_count": 7,
     "metadata": {},
     "output_type": "execute_result"
    }
   ],
   "execution_count": 7
  },
  {
   "metadata": {
    "ExecuteTime": {
     "end_time": "2025-09-15T15:10:04.182241Z",
     "start_time": "2025-09-15T15:10:04.169690Z"
    }
   },
   "cell_type": "code",
   "source": "print(data)",
   "id": "7c6c9660dcb8016f",
   "outputs": [
    {
     "name": "stdout",
     "output_type": "stream",
     "text": [
      "[0.3419597038896397, -0.14376820927105727, -0.987323738990567, -1.4548773373584702, -0.35231251583403905, -0.14540514869168378, -0.1552536560472769]\n"
     ]
    }
   ],
   "execution_count": 8
  },
  {
   "metadata": {
    "ExecuteTime": {
     "end_time": "2025-09-15T15:10:04.354083Z",
     "start_time": "2025-09-15T15:10:04.343626Z"
    }
   },
   "cell_type": "code",
   "source": [
    "# Tab Completion\n",
    "an_apple = 27\n",
    "an_example = 42"
   ],
   "id": "5a26793fa925d72",
   "outputs": [],
   "execution_count": 9
  },
  {
   "metadata": {
    "ExecuteTime": {
     "end_time": "2025-09-15T15:10:04.456477Z",
     "start_time": "2025-09-15T15:10:04.443432Z"
    }
   },
   "cell_type": "code",
   "source": [
    "b = [1, 2, 3]\n",
    "b.sort()"
   ],
   "id": "80294b4083595df",
   "outputs": [],
   "execution_count": 10
  },
  {
   "metadata": {
    "ExecuteTime": {
     "end_time": "2025-09-15T15:10:04.530874Z",
     "start_time": "2025-09-15T15:10:04.517464Z"
    }
   },
   "cell_type": "code",
   "source": "b",
   "id": "b9d09e0e091fccbf",
   "outputs": [
    {
     "data": {
      "text/plain": [
       "[1, 2, 3]"
      ]
     },
     "execution_count": 11,
     "metadata": {},
     "output_type": "execute_result"
    }
   ],
   "execution_count": 11
  },
  {
   "metadata": {
    "ExecuteTime": {
     "end_time": "2025-09-15T15:10:04.645354Z",
     "start_time": "2025-09-15T15:10:04.631318Z"
    }
   },
   "cell_type": "code",
   "source": [
    "import datetime\n",
    "datetime.MAXYEAR"
   ],
   "id": "67233e95951c8bee",
   "outputs": [
    {
     "data": {
      "text/plain": [
       "9999"
      ]
     },
     "execution_count": 12,
     "metadata": {},
     "output_type": "execute_result"
    }
   ],
   "execution_count": 12
  },
  {
   "metadata": {
    "ExecuteTime": {
     "end_time": "2025-09-15T15:10:04.792038Z",
     "start_time": "2025-09-15T15:10:04.781370Z"
    }
   },
   "cell_type": "code",
   "source": [
    "# Introspection\n",
    "b?"
   ],
   "id": "2d6e3040d2f25ea9",
   "outputs": [],
   "execution_count": 13
  },
  {
   "metadata": {
    "ExecuteTime": {
     "end_time": "2025-09-15T15:10:05.170059Z",
     "start_time": "2025-09-15T15:10:05.018622Z"
    }
   },
   "cell_type": "code",
   "source": "print?",
   "id": "5e381c94c9363cb2",
   "outputs": [],
   "execution_count": 14
  },
  {
   "metadata": {
    "ExecuteTime": {
     "end_time": "2025-09-15T15:10:05.236744Z",
     "start_time": "2025-09-15T15:10:05.223649Z"
    }
   },
   "cell_type": "code",
   "source": [
    "def intrpospector_fn(a, b):\n",
    "    \"\"\"\n",
    "    A function to discuss how to add introspectors\n",
    "    :param a: useless\n",
    "    :param b: useless\n",
    "    :return: doesn't return anything\n",
    "    \"\"\""
   ],
   "id": "5f44eee66337e875",
   "outputs": [],
   "execution_count": 15
  },
  {
   "metadata": {
    "ExecuteTime": {
     "end_time": "2025-09-15T15:10:05.291556Z",
     "start_time": "2025-09-15T15:10:05.279105Z"
    }
   },
   "cell_type": "code",
   "source": "intrpospector_fn?",
   "id": "e1fb178e77edf517",
   "outputs": [],
   "execution_count": 16
  },
  {
   "metadata": {
    "ExecuteTime": {
     "end_time": "2025-09-15T15:10:05.372580Z",
     "start_time": "2025-09-15T15:10:05.361482Z"
    }
   },
   "cell_type": "code",
   "source": "a = [1, 2, 3]",
   "id": "f3ea7881daefcd77",
   "outputs": [],
   "execution_count": 17
  },
  {
   "metadata": {
    "ExecuteTime": {
     "end_time": "2025-09-15T15:10:05.445455Z",
     "start_time": "2025-09-15T15:10:05.430830Z"
    }
   },
   "cell_type": "code",
   "source": "b",
   "id": "361f0cc8c33fbdb",
   "outputs": [
    {
     "data": {
      "text/plain": [
       "[1, 2, 3]"
      ]
     },
     "execution_count": 18,
     "metadata": {},
     "output_type": "execute_result"
    }
   ],
   "execution_count": 18
  },
  {
   "metadata": {
    "ExecuteTime": {
     "end_time": "2025-09-15T15:10:05.585057Z",
     "start_time": "2025-09-15T15:10:05.574621Z"
    }
   },
   "cell_type": "code",
   "source": "a.append(4)",
   "id": "60190985b5ffd879",
   "outputs": [],
   "execution_count": 19
  },
  {
   "metadata": {
    "ExecuteTime": {
     "end_time": "2025-09-15T15:10:05.665409Z",
     "start_time": "2025-09-15T15:10:05.652839Z"
    }
   },
   "cell_type": "code",
   "source": "b",
   "id": "6c8b33107b95f20d",
   "outputs": [
    {
     "data": {
      "text/plain": [
       "[1, 2, 3]"
      ]
     },
     "execution_count": 20,
     "metadata": {},
     "output_type": "execute_result"
    }
   ],
   "execution_count": 20
  },
  {
   "metadata": {
    "ExecuteTime": {
     "end_time": "2025-09-15T15:10:13.465907Z",
     "start_time": "2025-09-15T15:10:13.454225Z"
    }
   },
   "cell_type": "code",
   "source": "a = 5",
   "id": "b81df331db8141b8",
   "outputs": [],
   "execution_count": 21
  },
  {
   "metadata": {
    "ExecuteTime": {
     "end_time": "2025-09-15T15:10:29.339572Z",
     "start_time": "2025-09-15T15:10:29.323070Z"
    }
   },
   "cell_type": "code",
   "source": "isinstance(a, int)",
   "id": "e446f6995370cf12",
   "outputs": [
    {
     "data": {
      "text/plain": [
       "True"
      ]
     },
     "execution_count": 23,
     "metadata": {},
     "output_type": "execute_result"
    }
   ],
   "execution_count": 23
  },
  {
   "metadata": {
    "ExecuteTime": {
     "end_time": "2025-09-15T15:10:47.658308Z",
     "start_time": "2025-09-15T15:10:47.642412Z"
    }
   },
   "cell_type": "code",
   "source": "isinstance(a, (str, bool))",
   "id": "730323b32039601d",
   "outputs": [
    {
     "data": {
      "text/plain": [
       "False"
      ]
     },
     "execution_count": 24,
     "metadata": {},
     "output_type": "execute_result"
    }
   ],
   "execution_count": 24
  },
  {
   "metadata": {
    "ExecuteTime": {
     "end_time": "2025-09-15T15:11:06.690758Z",
     "start_time": "2025-09-15T15:11:06.673109Z"
    }
   },
   "cell_type": "code",
   "source": "isinstance(a, (int, str, bool))",
   "id": "22bf33b1ca94d4b5",
   "outputs": [
    {
     "data": {
      "text/plain": [
       "True"
      ]
     },
     "execution_count": 25,
     "metadata": {},
     "output_type": "execute_result"
    }
   ],
   "execution_count": 25
  },
  {
   "metadata": {
    "ExecuteTime": {
     "end_time": "2025-09-15T15:11:47.007731Z",
     "start_time": "2025-09-15T15:11:46.998108Z"
    }
   },
   "cell_type": "code",
   "source": "a = \"foo\"",
   "id": "d183ab66833ff251",
   "outputs": [],
   "execution_count": 26
  },
  {
   "metadata": {
    "ExecuteTime": {
     "end_time": "2025-09-15T15:12:26.397999Z",
     "start_time": "2025-09-15T15:12:26.380004Z"
    }
   },
   "cell_type": "code",
   "source": "a.isalnum()",
   "id": "9e660d8be19aea07",
   "outputs": [
    {
     "data": {
      "text/plain": [
       "True"
      ]
     },
     "execution_count": 27,
     "metadata": {},
     "output_type": "execute_result"
    }
   ],
   "execution_count": 27
  },
  {
   "metadata": {
    "ExecuteTime": {
     "end_time": "2025-09-15T15:12:35.420202Z",
     "start_time": "2025-09-15T15:12:35.407451Z"
    }
   },
   "cell_type": "code",
   "source": "a.isdigit()",
   "id": "e9966eaa545adff3",
   "outputs": [
    {
     "data": {
      "text/plain": [
       "False"
      ]
     },
     "execution_count": 28,
     "metadata": {},
     "output_type": "execute_result"
    }
   ],
   "execution_count": 28
  },
  {
   "metadata": {
    "ExecuteTime": {
     "end_time": "2025-09-15T15:12:43.958095Z",
     "start_time": "2025-09-15T15:12:43.942360Z"
    }
   },
   "cell_type": "code",
   "source": "getattr(a, \"split\")",
   "id": "5e585ba3efa40051",
   "outputs": [
    {
     "data": {
      "text/plain": [
       "<function str.split(sep=None, maxsplit=-1)>"
      ]
     },
     "execution_count": 29,
     "metadata": {},
     "output_type": "execute_result"
    }
   ],
   "execution_count": 29
  },
  {
   "metadata": {},
   "cell_type": "markdown",
   "source": [
    "Duck typing\n",
    "If it walks like a duck and quacks like a duck -> then it is a duck"
   ],
   "id": "fc9f25a3615f35f2"
  },
  {
   "metadata": {
    "ExecuteTime": {
     "end_time": "2025-09-15T15:15:14.415070Z",
     "start_time": "2025-09-15T15:15:14.402607Z"
    }
   },
   "cell_type": "code",
   "source": [
    "#Duck typing\n",
    "#If it walks like a duck and quacks like a duck -> then it is a duck\n",
    "def isiterable(obj):\n",
    "    try:\n",
    "        iter(obj)\n",
    "        return True\n",
    "    except TypeError:\n",
    "        return False"
   ],
   "id": "185942cc9ee95ae2",
   "outputs": [],
   "execution_count": 30
  },
  {
   "metadata": {
    "ExecuteTime": {
     "end_time": "2025-09-15T15:15:26.909166Z",
     "start_time": "2025-09-15T15:15:26.895407Z"
    }
   },
   "cell_type": "code",
   "source": "isiterable(\"rlmvglkmvg\")",
   "id": "8990993e447f85f9",
   "outputs": [
    {
     "data": {
      "text/plain": [
       "True"
      ]
     },
     "execution_count": 31,
     "metadata": {},
     "output_type": "execute_result"
    }
   ],
   "execution_count": 31
  },
  {
   "metadata": {
    "ExecuteTime": {
     "end_time": "2025-09-15T15:15:30.147314Z",
     "start_time": "2025-09-15T15:15:30.132653Z"
    }
   },
   "cell_type": "code",
   "source": "isiterable([])",
   "id": "e905f59d16fd6849",
   "outputs": [
    {
     "data": {
      "text/plain": [
       "True"
      ]
     },
     "execution_count": 32,
     "metadata": {},
     "output_type": "execute_result"
    }
   ],
   "execution_count": 32
  },
  {
   "metadata": {
    "ExecuteTime": {
     "end_time": "2025-09-15T15:15:38.553559Z",
     "start_time": "2025-09-15T15:15:38.535652Z"
    }
   },
   "cell_type": "code",
   "source": "isiterable(5)",
   "id": "3f14597d6b674363",
   "outputs": [
    {
     "data": {
      "text/plain": [
       "False"
      ]
     },
     "execution_count": 33,
     "metadata": {},
     "output_type": "execute_result"
    }
   ],
   "execution_count": 33
  },
  {
   "metadata": {
    "ExecuteTime": {
     "end_time": "2025-09-15T15:16:51.313997Z",
     "start_time": "2025-09-15T15:16:51.279319Z"
    }
   },
   "cell_type": "code",
   "source": [
    "a = [1, 2, 3]\n",
    "b = a\n",
    "c = [1, 2, 3]"
   ],
   "id": "41325c575442a15d",
   "outputs": [],
   "execution_count": 34
  },
  {
   "metadata": {
    "ExecuteTime": {
     "end_time": "2025-09-15T15:16:56.301516Z",
     "start_time": "2025-09-15T15:16:56.287453Z"
    }
   },
   "cell_type": "code",
   "source": "a is b",
   "id": "df03dd7cb9882dc6",
   "outputs": [
    {
     "data": {
      "text/plain": [
       "True"
      ]
     },
     "execution_count": 35,
     "metadata": {},
     "output_type": "execute_result"
    }
   ],
   "execution_count": 35
  },
  {
   "metadata": {
    "ExecuteTime": {
     "end_time": "2025-09-15T15:16:58.498815Z",
     "start_time": "2025-09-15T15:16:58.483957Z"
    }
   },
   "cell_type": "code",
   "source": "a is c",
   "id": "ee78286c7b001328",
   "outputs": [
    {
     "data": {
      "text/plain": [
       "False"
      ]
     },
     "execution_count": 36,
     "metadata": {},
     "output_type": "execute_result"
    }
   ],
   "execution_count": 36
  },
  {
   "metadata": {
    "ExecuteTime": {
     "end_time": "2025-09-15T15:17:02.842745Z",
     "start_time": "2025-09-15T15:17:02.829167Z"
    }
   },
   "cell_type": "code",
   "source": "a == c",
   "id": "5fa4eff4d6f1ee17",
   "outputs": [
    {
     "data": {
      "text/plain": [
       "True"
      ]
     },
     "execution_count": 37,
     "metadata": {},
     "output_type": "execute_result"
    }
   ],
   "execution_count": 37
  },
  {
   "metadata": {
    "ExecuteTime": {
     "end_time": "2025-09-15T15:17:27.500373Z",
     "start_time": "2025-09-15T15:17:27.487759Z"
    }
   },
   "cell_type": "code",
   "source": "assert a is not c",
   "id": "149ee08f558e25fc",
   "outputs": [],
   "execution_count": 38
  },
  {
   "metadata": {
    "ExecuteTime": {
     "end_time": "2025-09-15T15:19:05.184684Z",
     "start_time": "2025-09-15T15:19:05.171129Z"
    }
   },
   "cell_type": "code",
   "source": [
    "a = 64561651\n",
    "a ** 6"
   ],
   "id": "d62fabd1260b13eb",
   "outputs": [
    {
     "data": {
      "text/plain": [
       "72418206844053502254282716836430322923584457401"
      ]
     },
     "execution_count": 39,
     "metadata": {},
     "output_type": "execute_result"
    }
   ],
   "execution_count": 39
  },
  {
   "metadata": {
    "ExecuteTime": {
     "end_time": "2025-09-15T15:19:25.050454Z",
     "start_time": "2025-09-15T15:19:25.034652Z"
    }
   },
   "cell_type": "code",
   "source": "3 // 2",
   "id": "28e241a65c46011f",
   "outputs": [
    {
     "data": {
      "text/plain": [
       "1"
      ]
     },
     "execution_count": 40,
     "metadata": {},
     "output_type": "execute_result"
    }
   ],
   "execution_count": 40
  },
  {
   "metadata": {
    "ExecuteTime": {
     "end_time": "2025-09-15T15:19:28.366584Z",
     "start_time": "2025-09-15T15:19:28.353182Z"
    }
   },
   "cell_type": "code",
   "source": "3 / 2",
   "id": "71810c1a45633e4c",
   "outputs": [
    {
     "data": {
      "text/plain": [
       "1.5"
      ]
     },
     "execution_count": 41,
     "metadata": {},
     "output_type": "execute_result"
    }
   ],
   "execution_count": 41
  },
  {
   "metadata": {
    "ExecuteTime": {
     "end_time": "2025-09-15T15:20:16.199036Z",
     "start_time": "2025-09-15T15:20:16.188956Z"
    }
   },
   "cell_type": "code",
   "source": [
    "a = 'qwe'\n",
    "b = \"eqw\""
   ],
   "id": "74485ddc4e9709b0",
   "outputs": [],
   "execution_count": 43
  },
  {
   "metadata": {
    "ExecuteTime": {
     "end_time": "2025-09-15T15:20:26.356375Z",
     "start_time": "2025-09-15T15:20:26.342925Z"
    }
   },
   "cell_type": "code",
   "source": [
    "a = \"\"\"\n",
    "rlkmrklmrl;g\n",
    "lkgmrklmg\n",
    "\"\"\"\n",
    "a"
   ],
   "id": "a3305e31fdb50098",
   "outputs": [
    {
     "data": {
      "text/plain": [
       "'\\nrlkmrklmrl;g\\nlkgmrklmg\\n'"
      ]
     },
     "execution_count": 44,
     "metadata": {},
     "output_type": "execute_result"
    }
   ],
   "execution_count": 44
  },
  {
   "metadata": {
    "ExecuteTime": {
     "end_time": "2025-09-15T15:20:36.456215Z",
     "start_time": "2025-09-15T15:20:36.442091Z"
    }
   },
   "cell_type": "code",
   "source": [
    "b = '''\n",
    "ffflr\n",
    "rl;mgl;trg\n",
    ";rl;rl;\n",
    "'''\n",
    "b"
   ],
   "id": "73d3dc82de257ede",
   "outputs": [
    {
     "data": {
      "text/plain": [
       "'\\nffflr\\nrl;mgl;trg\\n;rl;rl;\\n'"
      ]
     },
     "execution_count": 45,
     "metadata": {},
     "output_type": "execute_result"
    }
   ],
   "execution_count": 45
  },
  {
   "metadata": {
    "ExecuteTime": {
     "end_time": "2025-09-15T15:21:17.291644Z",
     "start_time": "2025-09-15T15:21:17.277524Z"
    }
   },
   "cell_type": "code",
   "source": "b.count('\\n')",
   "id": "de3418d3da01c9d5",
   "outputs": [
    {
     "data": {
      "text/plain": [
       "4"
      ]
     },
     "execution_count": 47,
     "metadata": {},
     "output_type": "execute_result"
    }
   ],
   "execution_count": 47
  },
  {
   "metadata": {
    "ExecuteTime": {
     "end_time": "2025-09-15T15:21:34.058491Z",
     "start_time": "2025-09-15T15:21:34.014671Z"
    }
   },
   "cell_type": "code",
   "source": "b[0] = 'r'",
   "id": "7fc4b0c6040f6ad7",
   "outputs": [
    {
     "ename": "TypeError",
     "evalue": "'str' object does not support item assignment",
     "output_type": "error",
     "traceback": [
      "\u001B[1;31m---------------------------------------------------------------------------\u001B[0m",
      "\u001B[1;31mTypeError\u001B[0m                                 Traceback (most recent call last)",
      "Cell \u001B[1;32mIn[48], line 1\u001B[0m\n\u001B[1;32m----> 1\u001B[0m \u001B[43mb\u001B[49m\u001B[43m[\u001B[49m\u001B[38;5;241;43m0\u001B[39;49m\u001B[43m]\u001B[49m \u001B[38;5;241m=\u001B[39m \u001B[38;5;124m'\u001B[39m\u001B[38;5;124mr\u001B[39m\u001B[38;5;124m'\u001B[39m\n",
      "\u001B[1;31mTypeError\u001B[0m: 'str' object does not support item assignment"
     ]
    }
   ],
   "execution_count": 48
  },
  {
   "metadata": {
    "ExecuteTime": {
     "end_time": "2025-09-16T14:50:01.594575Z",
     "start_time": "2025-09-16T14:50:01.576637Z"
    }
   },
   "cell_type": "code",
   "source": [
    "a = \"this is a string\"\n",
    "b = a.replace('is', 'was')"
   ],
   "id": "f75a2ff893e34e0d",
   "outputs": [],
   "execution_count": 1
  },
  {
   "metadata": {
    "ExecuteTime": {
     "end_time": "2025-09-16T14:50:01.668237Z",
     "start_time": "2025-09-16T14:50:01.643749Z"
    }
   },
   "cell_type": "code",
   "source": "a",
   "id": "abbfd95287574abb",
   "outputs": [
    {
     "data": {
      "text/plain": [
       "'this is a string'"
      ]
     },
     "execution_count": 2,
     "metadata": {},
     "output_type": "execute_result"
    }
   ],
   "execution_count": 2
  },
  {
   "metadata": {
    "ExecuteTime": {
     "end_time": "2025-09-16T14:50:06.588696Z",
     "start_time": "2025-09-16T14:50:06.573130Z"
    }
   },
   "cell_type": "code",
   "source": "b",
   "id": "97dcdeb5ec5ba540",
   "outputs": [
    {
     "data": {
      "text/plain": [
       "'thwas was a string'"
      ]
     },
     "execution_count": 3,
     "metadata": {},
     "output_type": "execute_result"
    }
   ],
   "execution_count": 3
  },
  {
   "metadata": {
    "ExecuteTime": {
     "end_time": "2025-09-16T14:50:06.879081Z",
     "start_time": "2025-09-16T14:50:06.867546Z"
    }
   },
   "cell_type": "code",
   "source": "a = 5.6",
   "id": "a20ff0175629abf7",
   "outputs": [],
   "execution_count": 4
  },
  {
   "metadata": {
    "ExecuteTime": {
     "end_time": "2025-09-16T14:50:06.989372Z",
     "start_time": "2025-09-16T14:50:06.977640Z"
    }
   },
   "cell_type": "code",
   "source": "s = str(a)",
   "id": "7431634543852b95",
   "outputs": [],
   "execution_count": 5
  },
  {
   "metadata": {
    "ExecuteTime": {
     "end_time": "2025-09-16T14:50:07.067438Z",
     "start_time": "2025-09-16T14:50:07.055343Z"
    }
   },
   "cell_type": "code",
   "source": "print(s)",
   "id": "eeeab79fdda5401d",
   "outputs": [
    {
     "name": "stdout",
     "output_type": "stream",
     "text": [
      "5.6\n"
     ]
    }
   ],
   "execution_count": 6
  },
  {
   "metadata": {
    "ExecuteTime": {
     "end_time": "2025-09-16T14:50:21.726162Z",
     "start_time": "2025-09-16T14:50:21.708606Z"
    }
   },
   "cell_type": "code",
   "source": [
    "s = \"python\"\n",
    "list(s)"
   ],
   "id": "f3a1476f9e71ef41",
   "outputs": [
    {
     "data": {
      "text/plain": [
       "['p', 'y', 't', 'h', 'o', 'n']"
      ]
     },
     "execution_count": 7,
     "metadata": {},
     "output_type": "execute_result"
    }
   ],
   "execution_count": 7
  },
  {
   "metadata": {
    "ExecuteTime": {
     "end_time": "2025-09-16T14:50:25.881701Z",
     "start_time": "2025-09-16T14:50:25.865710Z"
    }
   },
   "cell_type": "code",
   "source": "s[:3]",
   "id": "f09c83e7e748b3ae",
   "outputs": [
    {
     "data": {
      "text/plain": [
       "'pyt'"
      ]
     },
     "execution_count": 8,
     "metadata": {},
     "output_type": "execute_result"
    }
   ],
   "execution_count": 8
  },
  {
   "metadata": {
    "ExecuteTime": {
     "end_time": "2025-09-16T14:52:57.408726Z",
     "start_time": "2025-09-16T14:52:57.397805Z"
    }
   },
   "cell_type": "code",
   "source": [
    "s = \"12\\\\34\"\n",
    "print(s)"
   ],
   "id": "29237e6a3d569191",
   "outputs": [
    {
     "name": "stdout",
     "output_type": "stream",
     "text": [
      "12\\34\n"
     ]
    }
   ],
   "execution_count": 10
  },
  {
   "metadata": {
    "ExecuteTime": {
     "end_time": "2025-09-16T14:53:15.409828Z",
     "start_time": "2025-09-16T14:53:15.398318Z"
    }
   },
   "cell_type": "code",
   "source": [
    "s = r\"this\\kdfnlkgn\\fl;gml;fg\\g\"\n",
    "print(s)"
   ],
   "id": "8037240a0fb8ebf5",
   "outputs": [
    {
     "name": "stdout",
     "output_type": "stream",
     "text": [
      "this\\kdfnlkgn\\fl;gml;fg\\g\n"
     ]
    }
   ],
   "execution_count": 11
  },
  {
   "metadata": {
    "ExecuteTime": {
     "end_time": "2025-09-16T14:53:58.407283Z",
     "start_time": "2025-09-16T14:53:58.393637Z"
    }
   },
   "cell_type": "code",
   "source": "s + s",
   "id": "58985422733997fc",
   "outputs": [
    {
     "data": {
      "text/plain": [
       "'this\\\\kdfnlkgn\\\\fl;gml;fg\\\\gthis\\\\kdfnlkgn\\\\fl;gml;fg\\\\g'"
      ]
     },
     "execution_count": 12,
     "metadata": {},
     "output_type": "execute_result"
    }
   ],
   "execution_count": 12
  },
  {
   "metadata": {
    "ExecuteTime": {
     "end_time": "2025-09-16T14:55:14.190320Z",
     "start_time": "2025-09-16T14:55:14.177298Z"
    }
   },
   "cell_type": "code",
   "source": "template = \"{0:.2f} {1:s} are worth US${2:d}\"",
   "id": "972da0cadb673d1a",
   "outputs": [],
   "execution_count": 13
  },
  {
   "metadata": {
    "ExecuteTime": {
     "end_time": "2025-09-16T14:56:11.815284Z",
     "start_time": "2025-09-16T14:56:11.801839Z"
    }
   },
   "cell_type": "code",
   "source": "template.format(88.46, \"Argentine Pesos\", 1)",
   "id": "f6ca1c31e45ce2f7",
   "outputs": [
    {
     "data": {
      "text/plain": [
       "'88.46 Argentine Pesos are worth US$1'"
      ]
     },
     "execution_count": 16,
     "metadata": {},
     "output_type": "execute_result"
    }
   ],
   "execution_count": 16
  },
  {
   "metadata": {
    "ExecuteTime": {
     "end_time": "2025-09-16T14:57:16.693334Z",
     "start_time": "2025-09-16T14:57:16.681524Z"
    }
   },
   "cell_type": "code",
   "source": [
    "amount = 10\n",
    "rate = 88.46\n",
    "currency = \"pesos\"\n",
    "result = f\"{amount} {currency} is worth US${amount/rate}\""
   ],
   "id": "9422a4d3dc61f326",
   "outputs": [],
   "execution_count": 18
  },
  {
   "metadata": {
    "ExecuteTime": {
     "end_time": "2025-09-16T14:57:19.556520Z",
     "start_time": "2025-09-16T14:57:19.537009Z"
    }
   },
   "cell_type": "code",
   "source": "result",
   "id": "e48d7465d4b73feb",
   "outputs": [
    {
     "data": {
      "text/plain": [
       "'10 pesos is worth US$0.11304544426859599'"
      ]
     },
     "execution_count": 19,
     "metadata": {},
     "output_type": "execute_result"
    }
   ],
   "execution_count": 19
  },
  {
   "metadata": {
    "ExecuteTime": {
     "end_time": "2025-09-16T14:57:46.616904Z",
     "start_time": "2025-09-16T14:57:46.599868Z"
    }
   },
   "cell_type": "code",
   "source": [
    "result = f\"{amount} {currency} is worth US${amount/rate: .2f}\"\n",
    "result"
   ],
   "id": "db5df7a824d4bcf3",
   "outputs": [
    {
     "data": {
      "text/plain": [
       "'10 pesos is worth US$ 0.11'"
      ]
     },
     "execution_count": 20,
     "metadata": {},
     "output_type": "execute_result"
    }
   ],
   "execution_count": 20
  },
  {
   "metadata": {
    "ExecuteTime": {
     "end_time": "2025-09-17T15:12:07.723386Z",
     "start_time": "2025-09-17T15:12:07.702616Z"
    }
   },
   "cell_type": "code",
   "source": "val = \"اليونيكود اللي مظبطني ظبيط\"",
   "id": "55c0a25c6d0c4881",
   "outputs": [],
   "execution_count": 1
  },
  {
   "metadata": {
    "ExecuteTime": {
     "end_time": "2025-09-17T15:12:07.812950Z",
     "start_time": "2025-09-17T15:12:07.786328Z"
    }
   },
   "cell_type": "code",
   "source": "val",
   "id": "6356aeffbff8035c",
   "outputs": [
    {
     "data": {
      "text/plain": [
       "'اليونيكود اللي مظبطني ظبيط'"
      ]
     },
     "execution_count": 2,
     "metadata": {},
     "output_type": "execute_result"
    }
   ],
   "execution_count": 2
  },
  {
   "metadata": {
    "ExecuteTime": {
     "end_time": "2025-09-17T15:12:36.685953Z",
     "start_time": "2025-09-17T15:12:36.665631Z"
    }
   },
   "cell_type": "code",
   "source": [
    "a = \"lol\"\n",
    "b = a\n",
    "c = \"lol\"\n",
    "\n",
    "a is b"
   ],
   "id": "394314e34d0ae323",
   "outputs": [
    {
     "data": {
      "text/plain": [
       "True"
      ]
     },
     "execution_count": 3,
     "metadata": {},
     "output_type": "execute_result"
    }
   ],
   "execution_count": 3
  },
  {
   "metadata": {
    "ExecuteTime": {
     "end_time": "2025-09-17T15:12:57.141630Z",
     "start_time": "2025-09-17T15:12:57.120833Z"
    }
   },
   "cell_type": "code",
   "source": "a == c",
   "id": "9219e721c9c79549",
   "outputs": [
    {
     "data": {
      "text/plain": [
       "True"
      ]
     },
     "execution_count": 5,
     "metadata": {},
     "output_type": "execute_result"
    }
   ],
   "execution_count": 5
  },
  {
   "metadata": {
    "ExecuteTime": {
     "end_time": "2025-09-17T15:14:57.925370Z",
     "start_time": "2025-09-17T15:14:57.906169Z"
    }
   },
   "cell_type": "code",
   "source": [
    "b is c\n",
    "# This is strange actually! this mean that pthon makes us of strings\n",
    "# immutability so that it create them once and whoever needs them just\n",
    "# point to the existing ones since they will never change\n"
   ],
   "id": "1dbcd0e38287347",
   "outputs": [
    {
     "data": {
      "text/plain": [
       "True"
      ]
     },
     "execution_count": 7,
     "metadata": {},
     "output_type": "execute_result"
    }
   ],
   "execution_count": 7
  },
  {
   "metadata": {},
   "cell_type": "code",
   "outputs": [],
   "execution_count": null,
   "source": [
    "x = 5\n",
    "if x < 5:\n",
    "    x*=2\n",
    "elif x == 0:\n",
    "    pass\n",
    "else:\n",
    "    x /= 2"
   ],
   "id": "c57f27b5069cf33e"
  },
  {
   "metadata": {
    "ExecuteTime": {
     "end_time": "2025-09-18T13:06:18.287139Z",
     "start_time": "2025-09-18T13:06:18.255224Z"
    }
   },
   "cell_type": "code",
   "source": "list(range(0, 20, 2))",
   "id": "a8b722128bd8ece6",
   "outputs": [
    {
     "data": {
      "text/plain": [
       "[0, 2, 4, 6, 8, 10, 12, 14, 16, 18]"
      ]
     },
     "execution_count": 1,
     "metadata": {},
     "output_type": "execute_result"
    }
   ],
   "execution_count": 1
  },
  {
   "metadata": {
    "ExecuteTime": {
     "end_time": "2025-09-18T13:06:18.570636Z",
     "start_time": "2025-09-18T13:06:18.551599Z"
    }
   },
   "cell_type": "code",
   "source": [
    "seq = [1, 2, 3, 4]\n",
    "\n",
    "for i in range(len(seq)):\n",
    "    print(f\"element {i}:{seq[i]}\")"
   ],
   "id": "ddd2923beb772522",
   "outputs": [
    {
     "name": "stdout",
     "output_type": "stream",
     "text": [
      "element 0:1\n",
      "element 1:2\n",
      "element 2:3\n",
      "element 3:4\n"
     ]
    }
   ],
   "execution_count": 2
  },
  {
   "metadata": {},
   "cell_type": "code",
   "outputs": [],
   "execution_count": null,
   "source": "",
   "id": "8fd18bf91d0ebbb9"
  },
  {
   "metadata": {},
   "cell_type": "markdown",
   "source": "## Chapter 3: Built-in DS",
   "id": "6ba48962afd74be"
  },
  {
   "metadata": {},
   "cell_type": "code",
   "outputs": [],
   "execution_count": null,
   "source": [
    "\"\"\"\n",
    "Chapter 3: Built-in DS, functions and files\n",
    "\"\"\""
   ],
   "id": "9ccaf3ac511dacf9"
  },
  {
   "metadata": {
    "ExecuteTime": {
     "end_time": "2025-09-18T13:12:55.856614Z",
     "start_time": "2025-09-18T13:12:55.845523Z"
    }
   },
   "cell_type": "code",
   "source": "tup = (1, 2, 3)",
   "id": "ec021c45332ade6",
   "outputs": [],
   "execution_count": 3
  },
  {
   "metadata": {
    "ExecuteTime": {
     "end_time": "2025-09-18T13:12:58.440233Z",
     "start_time": "2025-09-18T13:12:58.424748Z"
    }
   },
   "cell_type": "code",
   "source": "tup",
   "id": "a5dccfe1b9c99607",
   "outputs": [
    {
     "data": {
      "text/plain": [
       "(1, 2, 3)"
      ]
     },
     "execution_count": 4,
     "metadata": {},
     "output_type": "execute_result"
    }
   ],
   "execution_count": 4
  },
  {
   "metadata": {
    "ExecuteTime": {
     "end_time": "2025-09-18T13:13:04.029047Z",
     "start_time": "2025-09-18T13:13:04.017722Z"
    }
   },
   "cell_type": "code",
   "source": "tup = 1,2,3",
   "id": "ca502968024eea8b",
   "outputs": [],
   "execution_count": 5
  },
  {
   "metadata": {
    "ExecuteTime": {
     "end_time": "2025-09-18T13:13:08.009868Z",
     "start_time": "2025-09-18T13:13:07.994389Z"
    }
   },
   "cell_type": "code",
   "source": "tup",
   "id": "21074ce312ac74c3",
   "outputs": [
    {
     "data": {
      "text/plain": [
       "(1, 2, 3)"
      ]
     },
     "execution_count": 6,
     "metadata": {},
     "output_type": "execute_result"
    }
   ],
   "execution_count": 6
  },
  {
   "metadata": {
    "ExecuteTime": {
     "end_time": "2025-09-18T13:13:43.647934Z",
     "start_time": "2025-09-18T13:13:43.631468Z"
    }
   },
   "cell_type": "code",
   "source": "tuple([4, 5, 6])",
   "id": "b27651e759276ff7",
   "outputs": [
    {
     "data": {
      "text/plain": [
       "(4, 5, 6)"
      ]
     },
     "execution_count": 7,
     "metadata": {},
     "output_type": "execute_result"
    }
   ],
   "execution_count": 7
  },
  {
   "metadata": {
    "ExecuteTime": {
     "end_time": "2025-09-18T13:14:08.449312Z",
     "start_time": "2025-09-18T13:14:08.436758Z"
    }
   },
   "cell_type": "code",
   "source": "tup = tuple('dklnlkdndf')",
   "id": "22935ebf44e57ae8",
   "outputs": [],
   "execution_count": 8
  },
  {
   "metadata": {
    "ExecuteTime": {
     "end_time": "2025-09-18T13:14:10.859084Z",
     "start_time": "2025-09-18T13:14:10.838151Z"
    }
   },
   "cell_type": "code",
   "source": "tup",
   "id": "8ce9b4ab1f6444c8",
   "outputs": [
    {
     "data": {
      "text/plain": [
       "('d', 'k', 'l', 'n', 'l', 'k', 'd', 'n', 'd', 'f')"
      ]
     },
     "execution_count": 9,
     "metadata": {},
     "output_type": "execute_result"
    }
   ],
   "execution_count": 9
  },
  {
   "metadata": {
    "ExecuteTime": {
     "end_time": "2025-09-18T13:14:28.745389Z",
     "start_time": "2025-09-18T13:14:28.538655Z"
    }
   },
   "cell_type": "code",
   "source": "tuple?",
   "id": "a91ce7288ab78805",
   "outputs": [],
   "execution_count": 11
  },
  {
   "metadata": {
    "ExecuteTime": {
     "end_time": "2025-09-18T13:14:51.771723Z",
     "start_time": "2025-09-18T13:14:51.753591Z"
    }
   },
   "cell_type": "code",
   "source": "str?",
   "id": "638033e9a1d9595e",
   "outputs": [],
   "execution_count": 13
  },
  {
   "metadata": {
    "ExecuteTime": {
     "end_time": "2025-09-18T13:17:16.827596Z",
     "start_time": "2025-09-18T13:17:16.813285Z"
    }
   },
   "cell_type": "code",
   "source": "(1, 2, 'dfdf') + ([\"Gh\", 54], 7)",
   "id": "92b407ac43d330da",
   "outputs": [
    {
     "data": {
      "text/plain": [
       "(1, 2, 'dfdf', ['Gh', 54], 7)"
      ]
     },
     "execution_count": 14,
     "metadata": {},
     "output_type": "execute_result"
    }
   ],
   "execution_count": 14
  },
  {
   "metadata": {
    "ExecuteTime": {
     "end_time": "2025-09-18T13:17:28.394140Z",
     "start_time": "2025-09-18T13:17:28.373448Z"
    }
   },
   "cell_type": "code",
   "source": "(1, 2, 'dfdf') + ([\"Gh\", 54], 7) * 2",
   "id": "ac5f14ade1a5604a",
   "outputs": [
    {
     "data": {
      "text/plain": [
       "(1, 2, 'dfdf', ['Gh', 54], 7, ['Gh', 54], 7)"
      ]
     },
     "execution_count": 15,
     "metadata": {},
     "output_type": "execute_result"
    }
   ],
   "execution_count": 15
  },
  {
   "metadata": {
    "ExecuteTime": {
     "end_time": "2025-09-18T13:18:46.978205Z",
     "start_time": "2025-09-18T13:18:46.966051Z"
    }
   },
   "cell_type": "code",
   "source": [
    "a = 4\n",
    "b = 6"
   ],
   "id": "fb1fd0419c88d7bd",
   "outputs": [],
   "execution_count": 16
  },
  {
   "metadata": {
    "ExecuteTime": {
     "end_time": "2025-09-18T13:18:52.002255Z",
     "start_time": "2025-09-18T13:18:51.991319Z"
    }
   },
   "cell_type": "code",
   "source": "a, b = b, a",
   "id": "45d4e308dd3fe316",
   "outputs": [],
   "execution_count": 17
  },
  {
   "metadata": {
    "ExecuteTime": {
     "end_time": "2025-09-18T13:18:54.104822Z",
     "start_time": "2025-09-18T13:18:54.090540Z"
    }
   },
   "cell_type": "code",
   "source": "a",
   "id": "3562d2adaf5a39ef",
   "outputs": [
    {
     "data": {
      "text/plain": [
       "6"
      ]
     },
     "execution_count": 18,
     "metadata": {},
     "output_type": "execute_result"
    }
   ],
   "execution_count": 18
  },
  {
   "metadata": {
    "ExecuteTime": {
     "end_time": "2025-09-18T13:20:18.416448Z",
     "start_time": "2025-09-18T13:20:18.401617Z"
    }
   },
   "cell_type": "code",
   "source": [
    "seq = [(1, 2, 3), (4, 5, 6), (7, 8, 9)]\n",
    "for a, b, c in seq:\n",
    "    print(f\"a = {a}, b = {b}, c = {c}\")"
   ],
   "id": "2551dc5bc53a0876",
   "outputs": [
    {
     "name": "stdout",
     "output_type": "stream",
     "text": [
      "a = 1, b = 2, c = 3\n",
      "a = 4, b = 5, c = 6\n",
      "a = 7, b = 8, c = 9\n"
     ]
    }
   ],
   "execution_count": 20
  },
  {
   "metadata": {
    "ExecuteTime": {
     "end_time": "2025-09-18T13:21:08.192076Z",
     "start_time": "2025-09-18T13:21:08.182564Z"
    }
   },
   "cell_type": "code",
   "source": "a, *b = seq[0]",
   "id": "fbb999ab0a3ff076",
   "outputs": [],
   "execution_count": 21
  },
  {
   "metadata": {
    "ExecuteTime": {
     "end_time": "2025-09-18T13:21:25.094060Z",
     "start_time": "2025-09-18T13:21:25.079979Z"
    }
   },
   "cell_type": "code",
   "source": [
    "b\n",
    "# llliiiissssssttttt"
   ],
   "id": "4d9272dbc618e971",
   "outputs": [
    {
     "data": {
      "text/plain": [
       "[2, 3]"
      ]
     },
     "execution_count": 24,
     "metadata": {},
     "output_type": "execute_result"
    }
   ],
   "execution_count": 24
  },
  {
   "metadata": {
    "ExecuteTime": {
     "end_time": "2025-09-18T13:21:11.485012Z",
     "start_time": "2025-09-18T13:21:11.470537Z"
    }
   },
   "cell_type": "code",
   "source": "a",
   "id": "6b4753c9c80d0db3",
   "outputs": [
    {
     "data": {
      "text/plain": [
       "1"
      ]
     },
     "execution_count": 23,
     "metadata": {},
     "output_type": "execute_result"
    }
   ],
   "execution_count": 23
  },
  {
   "metadata": {
    "ExecuteTime": {
     "end_time": "2025-09-18T13:21:58.267085Z",
     "start_time": "2025-09-18T13:21:58.252460Z"
    }
   },
   "cell_type": "code",
   "source": "a?",
   "id": "1d6f77347a6658d",
   "outputs": [],
   "execution_count": 25
  },
  {
   "metadata": {
    "ExecuteTime": {
     "end_time": "2025-09-18T13:22:17.071655Z",
     "start_time": "2025-09-18T13:22:17.057251Z"
    }
   },
   "cell_type": "code",
   "source": "a = 1,2,5,8,7,4,2,15,7,5",
   "id": "cf39c89ee3aba8be",
   "outputs": [],
   "execution_count": 26
  },
  {
   "metadata": {
    "ExecuteTime": {
     "end_time": "2025-09-18T13:22:23.409534Z",
     "start_time": "2025-09-18T13:22:23.392277Z"
    }
   },
   "cell_type": "code",
   "source": "a.count(2)",
   "id": "5ae6b2cbea73233a",
   "outputs": [
    {
     "data": {
      "text/plain": [
       "2"
      ]
     },
     "execution_count": 27,
     "metadata": {},
     "output_type": "execute_result"
    }
   ],
   "execution_count": 27
  },
  {
   "metadata": {
    "ExecuteTime": {
     "end_time": "2025-09-19T13:09:50.222710Z",
     "start_time": "2025-09-19T13:09:50.213357Z"
    }
   },
   "cell_type": "code",
   "source": "gen = range(10)",
   "id": "35323aba133e09a0",
   "outputs": [],
   "execution_count": 1
  },
  {
   "metadata": {
    "ExecuteTime": {
     "end_time": "2025-09-19T13:10:07.531857Z",
     "start_time": "2025-09-19T13:10:07.518361Z"
    }
   },
   "cell_type": "code",
   "source": "gen",
   "id": "613fd21b13d52f17",
   "outputs": [
    {
     "data": {
      "text/plain": [
       "range(0, 10)"
      ]
     },
     "execution_count": 2,
     "metadata": {},
     "output_type": "execute_result"
    }
   ],
   "execution_count": 2
  },
  {
   "metadata": {
    "ExecuteTime": {
     "end_time": "2025-09-19T13:10:47.856096Z",
     "start_time": "2025-09-19T13:10:47.847948Z"
    }
   },
   "cell_type": "code",
   "source": [
    "# Materialize an iterator or generator by list\n",
    "list(gen)"
   ],
   "id": "32d15e1f4ceee7ea",
   "outputs": [
    {
     "data": {
      "text/plain": [
       "[0, 1, 2, 3, 4, 5, 6, 7, 8, 9]"
      ]
     },
     "execution_count": 3,
     "metadata": {},
     "output_type": "execute_result"
    }
   ],
   "execution_count": 3
  },
  {
   "metadata": {
    "ExecuteTime": {
     "end_time": "2025-09-19T13:11:23.567815Z",
     "start_time": "2025-09-19T13:11:23.560013Z"
    }
   },
   "cell_type": "code",
   "source": "a = list(gen)",
   "id": "49c893caf0672c3d",
   "outputs": [],
   "execution_count": 4
  },
  {
   "metadata": {
    "ExecuteTime": {
     "end_time": "2025-09-19T13:11:37.075053Z",
     "start_time": "2025-09-19T13:11:37.069002Z"
    }
   },
   "cell_type": "code",
   "source": "a.append(\"klgnfg\")",
   "id": "b0ca8d6e4a6b22b",
   "outputs": [],
   "execution_count": 5
  },
  {
   "metadata": {
    "ExecuteTime": {
     "end_time": "2025-09-19T13:11:37.638083Z",
     "start_time": "2025-09-19T13:11:37.627948Z"
    }
   },
   "cell_type": "code",
   "source": "a",
   "id": "4923b8f70aa9a25c",
   "outputs": [
    {
     "data": {
      "text/plain": [
       "[0, 1, 2, 3, 4, 5, 6, 7, 8, 9, 'klgnfg']"
      ]
     },
     "execution_count": 6,
     "metadata": {},
     "output_type": "execute_result"
    }
   ],
   "execution_count": 6
  },
  {
   "metadata": {
    "ExecuteTime": {
     "end_time": "2025-09-19T13:11:54.076410Z",
     "start_time": "2025-09-19T13:11:54.065465Z"
    }
   },
   "cell_type": "code",
   "source": [
    "a.insert(2, \"After 1 before 2\")\n",
    "# Or just only in the 2nd index and push whatever there forward"
   ],
   "id": "10caafcf69224bb1",
   "outputs": [],
   "execution_count": 7
  },
  {
   "metadata": {
    "ExecuteTime": {
     "end_time": "2025-09-19T13:11:56.627701Z",
     "start_time": "2025-09-19T13:11:56.617613Z"
    }
   },
   "cell_type": "code",
   "source": "a",
   "id": "e5edc30e5f191bb8",
   "outputs": [
    {
     "data": {
      "text/plain": [
       "[0, 1, 'After 1 before 2', 2, 3, 4, 5, 6, 7, 8, 9, 'klgnfg']"
      ]
     },
     "execution_count": 8,
     "metadata": {},
     "output_type": "execute_result"
    }
   ],
   "execution_count": 8
  },
  {
   "metadata": {
    "ExecuteTime": {
     "end_time": "2025-09-19T13:13:14.637237Z",
     "start_time": "2025-09-19T13:13:14.628110Z"
    }
   },
   "cell_type": "code",
   "source": "# insert is computationally expensive compared with append",
   "id": "9ea7f2160b6bb977",
   "outputs": [],
   "execution_count": 9
  },
  {
   "metadata": {
    "ExecuteTime": {
     "end_time": "2025-09-19T13:14:17.194311Z",
     "start_time": "2025-09-19T13:14:17.184210Z"
    }
   },
   "cell_type": "code",
   "source": [
    "# Insert XXXXXX Pop\n",
    "a.pop(2)"
   ],
   "id": "d13a65a888607546",
   "outputs": [
    {
     "data": {
      "text/plain": [
       "'After 1 before 2'"
      ]
     },
     "execution_count": 10,
     "metadata": {},
     "output_type": "execute_result"
    }
   ],
   "execution_count": 10
  },
  {
   "metadata": {
    "ExecuteTime": {
     "end_time": "2025-09-19T13:14:17.870070Z",
     "start_time": "2025-09-19T13:14:17.859439Z"
    }
   },
   "cell_type": "code",
   "source": "a",
   "id": "bcded527fd7b8dcd",
   "outputs": [
    {
     "data": {
      "text/plain": [
       "[0, 1, 2, 3, 4, 5, 6, 7, 8, 9, 'klgnfg']"
      ]
     },
     "execution_count": 11,
     "metadata": {},
     "output_type": "execute_result"
    }
   ],
   "execution_count": 11
  },
  {
   "metadata": {
    "ExecuteTime": {
     "end_time": "2025-09-19T13:15:58.721476Z",
     "start_time": "2025-09-19T13:15:58.713802Z"
    }
   },
   "cell_type": "code",
   "source": [
    "# Remove by value not index\n",
    "a.remove('klgnfg')"
   ],
   "id": "1bb9590572fe63f3",
   "outputs": [],
   "execution_count": 12
  },
  {
   "metadata": {
    "ExecuteTime": {
     "end_time": "2025-09-19T13:15:59.445464Z",
     "start_time": "2025-09-19T13:15:59.437848Z"
    }
   },
   "cell_type": "code",
   "source": "a",
   "id": "3f12a6c08ffb7e27",
   "outputs": [
    {
     "data": {
      "text/plain": [
       "[0, 1, 2, 3, 4, 5, 6, 7, 8, 9]"
      ]
     },
     "execution_count": 13,
     "metadata": {},
     "output_type": "execute_result"
    }
   ],
   "execution_count": 13
  },
  {
   "metadata": {
    "ExecuteTime": {
     "end_time": "2025-09-19T13:16:53.000798Z",
     "start_time": "2025-09-19T13:16:52.994126Z"
    }
   },
   "cell_type": "code",
   "source": [
    "if(a):\n",
    "   print(\"Exist\")"
   ],
   "id": "5e66a2841968307b",
   "outputs": [
    {
     "name": "stdout",
     "output_type": "stream",
     "text": [
      "Exist\n"
     ]
    }
   ],
   "execution_count": 14
  },
  {
   "metadata": {
    "ExecuteTime": {
     "end_time": "2025-09-19T13:17:15.190617Z",
     "start_time": "2025-09-19T13:17:15.183609Z"
    }
   },
   "cell_type": "code",
   "source": [
    "b = None\n",
    "if(not b):\n",
    "    print(\"Not exist\")"
   ],
   "id": "b8b9b7e76f69f368",
   "outputs": [
    {
     "name": "stdout",
     "output_type": "stream",
     "text": [
      "Not exist\n"
     ]
    }
   ],
   "execution_count": 15
  },
  {
   "metadata": {
    "ExecuteTime": {
     "end_time": "2025-09-19T13:17:26.598550Z",
     "start_time": "2025-09-19T13:17:26.592612Z"
    }
   },
   "cell_type": "code",
   "source": "0 in a",
   "id": "83ba9bb12f6410ab",
   "outputs": [
    {
     "data": {
      "text/plain": [
       "True"
      ]
     },
     "execution_count": 16,
     "metadata": {},
     "output_type": "execute_result"
    }
   ],
   "execution_count": 16
  },
  {
   "metadata": {
    "ExecuteTime": {
     "end_time": "2025-09-19T13:17:32.090358Z",
     "start_time": "2025-09-19T13:17:32.083323Z"
    }
   },
   "cell_type": "code",
   "source": "51 not in a",
   "id": "b9818de41dfc5c19",
   "outputs": [
    {
     "data": {
      "text/plain": [
       "True"
      ]
     },
     "execution_count": 17,
     "metadata": {},
     "output_type": "execute_result"
    }
   ],
   "execution_count": 17
  },
  {
   "metadata": {
    "ExecuteTime": {
     "end_time": "2025-09-19T13:18:02.442195Z",
     "start_time": "2025-09-19T13:18:02.433432Z"
    }
   },
   "cell_type": "code",
   "source": "(1, 2, 3) + (8, 9)",
   "id": "3168990278c8b827",
   "outputs": [
    {
     "data": {
      "text/plain": [
       "(1, 2, 3, 8, 9)"
      ]
     },
     "execution_count": 18,
     "metadata": {},
     "output_type": "execute_result"
    }
   ],
   "execution_count": 18
  },
  {
   "metadata": {
    "ExecuteTime": {
     "end_time": "2025-09-19T13:18:15.795814Z",
     "start_time": "2025-09-19T13:18:15.786141Z"
    }
   },
   "cell_type": "code",
   "source": "[1, 4, 9] + [65, 79, 988]",
   "id": "bbbea2f2d2a276f1",
   "outputs": [
    {
     "data": {
      "text/plain": [
       "[1, 4, 9, 65, 79, 988]"
      ]
     },
     "execution_count": 19,
     "metadata": {},
     "output_type": "execute_result"
    }
   ],
   "execution_count": 19
  },
  {
   "metadata": {
    "ExecuteTime": {
     "end_time": "2025-09-19T13:19:21.551819Z",
     "start_time": "2025-09-19T13:19:21.542686Z"
    }
   },
   "cell_type": "code",
   "source": "x = [1, None, 3]",
   "id": "2635eca9936b0cb7",
   "outputs": [],
   "execution_count": 20
  },
  {
   "metadata": {
    "ExecuteTime": {
     "end_time": "2025-09-19T13:19:28.178017Z",
     "start_time": "2025-09-19T13:19:28.170514Z"
    }
   },
   "cell_type": "code",
   "source": "x.extend([4, 5, 6])",
   "id": "f9f319347d410c22",
   "outputs": [],
   "execution_count": 21
  },
  {
   "metadata": {
    "ExecuteTime": {
     "end_time": "2025-09-19T13:19:28.624038Z",
     "start_time": "2025-09-19T13:19:28.615071Z"
    }
   },
   "cell_type": "code",
   "source": "x",
   "id": "6a6b7f88fa0210d5",
   "outputs": [
    {
     "data": {
      "text/plain": [
       "[1, None, 3, 4, 5, 6]"
      ]
     },
     "execution_count": 22,
     "metadata": {},
     "output_type": "execute_result"
    }
   ],
   "execution_count": 22
  },
  {
   "metadata": {
    "ExecuteTime": {
     "end_time": "2025-09-19T13:20:30.498587Z",
     "start_time": "2025-09-19T13:20:30.490357Z"
    }
   },
   "cell_type": "code",
   "source": [
    "a = [7, 2, 8, 2, 0, 78]\n",
    "a.sort()"
   ],
   "id": "91c0bfb89a1b18e4",
   "outputs": [],
   "execution_count": 23
  },
  {
   "metadata": {
    "ExecuteTime": {
     "end_time": "2025-09-19T13:20:30.961550Z",
     "start_time": "2025-09-19T13:20:30.952725Z"
    }
   },
   "cell_type": "code",
   "source": "a",
   "id": "aad91a8f62f6172c",
   "outputs": [
    {
     "data": {
      "text/plain": [
       "[0, 2, 2, 7, 8, 78]"
      ]
     },
     "execution_count": 24,
     "metadata": {},
     "output_type": "execute_result"
    }
   ],
   "execution_count": 24
  },
  {
   "metadata": {
    "ExecuteTime": {
     "end_time": "2025-09-20T04:10:29.053895Z",
     "start_time": "2025-09-20T04:10:29.045840Z"
    }
   },
   "cell_type": "code",
   "source": [
    "b = [\"sd\", \"f, 545\", \"Dfdf\"]\n",
    "b.sort(key=len)"
   ],
   "id": "7e45e269ccc23bd5",
   "outputs": [],
   "execution_count": 1
  },
  {
   "metadata": {
    "ExecuteTime": {
     "end_time": "2025-09-20T04:10:29.102348Z",
     "start_time": "2025-09-20T04:10:29.092168Z"
    }
   },
   "cell_type": "code",
   "source": "b",
   "id": "4842a1c0d79224d",
   "outputs": [
    {
     "data": {
      "text/plain": [
       "['sd', 'Dfdf', 'f, 545']"
      ]
     },
     "execution_count": 2,
     "metadata": {},
     "output_type": "execute_result"
    }
   ],
   "execution_count": 2
  },
  {
   "metadata": {
    "ExecuteTime": {
     "end_time": "2025-09-20T04:12:08.710241Z",
     "start_time": "2025-09-20T04:12:08.705209Z"
    }
   },
   "cell_type": "code",
   "source": "seq = [7, 2, 3, 7, 5, 6, 0, 1]",
   "id": "e5c266ac24844ca1",
   "outputs": [],
   "execution_count": 6
  },
  {
   "metadata": {
    "ExecuteTime": {
     "end_time": "2025-09-20T04:12:12.332283Z",
     "start_time": "2025-09-20T04:12:12.326757Z"
    }
   },
   "cell_type": "code",
   "source": "seq[1] = [5, 5]",
   "id": "f1bc657a8800e358",
   "outputs": [],
   "execution_count": 7
  },
  {
   "metadata": {
    "ExecuteTime": {
     "end_time": "2025-09-20T04:12:12.602704Z",
     "start_time": "2025-09-20T04:12:12.596044Z"
    }
   },
   "cell_type": "code",
   "source": "seq",
   "id": "614564cb6b83e9f5",
   "outputs": [
    {
     "data": {
      "text/plain": [
       "[7, [5, 5], 3, 7, 5, 6, 0, 1]"
      ]
     },
     "execution_count": 8,
     "metadata": {},
     "output_type": "execute_result"
    }
   ],
   "execution_count": 8
  },
  {
   "metadata": {
    "ExecuteTime": {
     "end_time": "2025-09-20T04:12:24.480842Z",
     "start_time": "2025-09-20T04:12:24.475317Z"
    }
   },
   "cell_type": "code",
   "source": "seq = [7, 2, 3, 7, 5, 6, 0, 1]\n",
   "id": "5805608996a95a29",
   "outputs": [],
   "execution_count": 9
  },
  {
   "metadata": {
    "ExecuteTime": {
     "end_time": "2025-09-20T04:12:38.136317Z",
     "start_time": "2025-09-20T04:12:38.131199Z"
    }
   },
   "cell_type": "code",
   "source": "seq[1:] = [5, 5]",
   "id": "1f0c95d8bc7e169a",
   "outputs": [],
   "execution_count": 10
  },
  {
   "metadata": {
    "ExecuteTime": {
     "end_time": "2025-09-20T04:12:39.823172Z",
     "start_time": "2025-09-20T04:12:39.817693Z"
    }
   },
   "cell_type": "code",
   "source": "seq",
   "id": "e682e807dd6edac7",
   "outputs": [
    {
     "data": {
      "text/plain": [
       "[7, 5, 5]"
      ]
     },
     "execution_count": 11,
     "metadata": {},
     "output_type": "execute_result"
    }
   ],
   "execution_count": 11
  },
  {
   "metadata": {
    "ExecuteTime": {
     "end_time": "2025-09-20T04:17:14.566480Z",
     "start_time": "2025-09-20T04:17:14.559932Z"
    }
   },
   "cell_type": "code",
   "source": "d1 = {\"a\": \"some value\", \"b\": [1, 2, 3, 4]}",
   "id": "8a96cacd7d6c5449",
   "outputs": [],
   "execution_count": 12
  },
  {
   "metadata": {
    "ExecuteTime": {
     "end_time": "2025-09-20T04:17:16.020810Z",
     "start_time": "2025-09-20T04:17:16.014286Z"
    }
   },
   "cell_type": "code",
   "source": "d1",
   "id": "67153f4398fba18d",
   "outputs": [
    {
     "data": {
      "text/plain": [
       "{'a': 'some value', 'b': [1, 2, 3, 4]}"
      ]
     },
     "execution_count": 13,
     "metadata": {},
     "output_type": "execute_result"
    }
   ],
   "execution_count": 13
  },
  {
   "metadata": {
    "ExecuteTime": {
     "end_time": "2025-09-20T04:17:34.104631Z",
     "start_time": "2025-09-20T04:17:34.099102Z"
    }
   },
   "cell_type": "code",
   "source": "d1[7] = \"an integer\"",
   "id": "4abf1864df0301f",
   "outputs": [],
   "execution_count": 14
  },
  {
   "metadata": {
    "ExecuteTime": {
     "end_time": "2025-09-20T04:17:35.449368Z",
     "start_time": "2025-09-20T04:17:35.440788Z"
    }
   },
   "cell_type": "code",
   "source": "d1",
   "id": "dbc2773451996bc0",
   "outputs": [
    {
     "data": {
      "text/plain": [
       "{'a': 'some value', 'b': [1, 2, 3, 4], 7: 'an integer'}"
      ]
     },
     "execution_count": 15,
     "metadata": {},
     "output_type": "execute_result"
    }
   ],
   "execution_count": 15
  },
  {
   "metadata": {
    "ExecuteTime": {
     "end_time": "2025-09-20T04:17:49.010841Z",
     "start_time": "2025-09-20T04:17:49.005318Z"
    }
   },
   "cell_type": "code",
   "source": "d1['b']",
   "id": "7381271d328ccb6a",
   "outputs": [
    {
     "data": {
      "text/plain": [
       "[1, 2, 3, 4]"
      ]
     },
     "execution_count": 16,
     "metadata": {},
     "output_type": "execute_result"
    }
   ],
   "execution_count": 16
  },
  {
   "metadata": {
    "ExecuteTime": {
     "end_time": "2025-09-20T04:17:57.691915Z",
     "start_time": "2025-09-20T04:17:57.685401Z"
    }
   },
   "cell_type": "code",
   "source": "'b' in d1",
   "id": "69f5357a17bd2ab7",
   "outputs": [
    {
     "data": {
      "text/plain": [
       "True"
      ]
     },
     "execution_count": 17,
     "metadata": {},
     "output_type": "execute_result"
    }
   ],
   "execution_count": 17
  },
  {
   "metadata": {
    "ExecuteTime": {
     "end_time": "2025-09-20T04:18:30.832347Z",
     "start_time": "2025-09-20T04:18:30.827014Z"
    }
   },
   "cell_type": "code",
   "source": "d1[5] = \"some value\"",
   "id": "ec4c18e31091368d",
   "outputs": [],
   "execution_count": 18
  },
  {
   "metadata": {
    "ExecuteTime": {
     "end_time": "2025-09-20T04:18:33.813435Z",
     "start_time": "2025-09-20T04:18:33.806890Z"
    }
   },
   "cell_type": "code",
   "source": "d1",
   "id": "9b22accce831531f",
   "outputs": [
    {
     "data": {
      "text/plain": [
       "{'a': 'some value', 'b': [1, 2, 3, 4], 7: 'an integer', 5: 'some value'}"
      ]
     },
     "execution_count": 19,
     "metadata": {},
     "output_type": "execute_result"
    }
   ],
   "execution_count": 19
  },
  {
   "metadata": {
    "ExecuteTime": {
     "end_time": "2025-09-20T04:18:53.066177Z",
     "start_time": "2025-09-20T04:18:53.059886Z"
    }
   },
   "cell_type": "code",
   "source": [
    "d1[\"dummy\"] = \"another value\"\n",
    "d1"
   ],
   "id": "e97869dbf9e40c0b",
   "outputs": [
    {
     "data": {
      "text/plain": [
       "{'a': 'some value',\n",
       " 'b': [1, 2, 3, 4],\n",
       " 7: 'an integer',\n",
       " 5: 'some value',\n",
       " 'dummy': 'another value'}"
      ]
     },
     "execution_count": 20,
     "metadata": {},
     "output_type": "execute_result"
    }
   ],
   "execution_count": 20
  },
  {
   "metadata": {
    "ExecuteTime": {
     "end_time": "2025-09-20T04:19:02.722262Z",
     "start_time": "2025-09-20T04:19:02.716848Z"
    }
   },
   "cell_type": "code",
   "source": "del d1[\"dummy\"]",
   "id": "d9a7099ffbe17de4",
   "outputs": [],
   "execution_count": 21
  },
  {
   "metadata": {
    "ExecuteTime": {
     "end_time": "2025-09-20T04:19:05.445968Z",
     "start_time": "2025-09-20T04:19:05.439516Z"
    }
   },
   "cell_type": "code",
   "source": "d1",
   "id": "8b8ce77aca25b1e1",
   "outputs": [
    {
     "data": {
      "text/plain": [
       "{'a': 'some value', 'b': [1, 2, 3, 4], 7: 'an integer', 5: 'some value'}"
      ]
     },
     "execution_count": 22,
     "metadata": {},
     "output_type": "execute_result"
    }
   ],
   "execution_count": 22
  },
  {
   "metadata": {
    "ExecuteTime": {
     "end_time": "2025-09-20T04:19:41.178818Z",
     "start_time": "2025-09-20T04:19:41.169287Z"
    }
   },
   "cell_type": "code",
   "source": "d1.pop(5)",
   "id": "ea30112923b8e779",
   "outputs": [
    {
     "data": {
      "text/plain": [
       "'some value'"
      ]
     },
     "execution_count": 24,
     "metadata": {},
     "output_type": "execute_result"
    }
   ],
   "execution_count": 24
  },
  {
   "metadata": {
    "ExecuteTime": {
     "end_time": "2025-09-20T04:19:42.795481Z",
     "start_time": "2025-09-20T04:19:42.788212Z"
    }
   },
   "cell_type": "code",
   "source": "d1",
   "id": "dbcedbd2da9c58a5",
   "outputs": [
    {
     "data": {
      "text/plain": [
       "{'a': 'some value', 'b': [1, 2, 3, 4], 7: 'an integer'}"
      ]
     },
     "execution_count": 25,
     "metadata": {},
     "output_type": "execute_result"
    }
   ],
   "execution_count": 25
  },
  {
   "metadata": {
    "ExecuteTime": {
     "end_time": "2025-09-20T04:20:16.754254Z",
     "start_time": "2025-09-20T04:20:16.746762Z"
    }
   },
   "cell_type": "code",
   "source": "list(d1.items())",
   "id": "8efb39b56853ca3f",
   "outputs": [
    {
     "data": {
      "text/plain": [
       "[('a', 'some value'), ('b', [1, 2, 3, 4]), (7, 'an integer')]"
      ]
     },
     "execution_count": 26,
     "metadata": {},
     "output_type": "execute_result"
    }
   ],
   "execution_count": 26
  },
  {
   "metadata": {
    "ExecuteTime": {
     "end_time": "2025-09-20T04:20:33.801084Z",
     "start_time": "2025-09-20T04:20:33.794082Z"
    }
   },
   "cell_type": "code",
   "source": "list(d1.keys())",
   "id": "360cb940a53b3d12",
   "outputs": [
    {
     "data": {
      "text/plain": [
       "['a', 'b', 7]"
      ]
     },
     "execution_count": 27,
     "metadata": {},
     "output_type": "execute_result"
    }
   ],
   "execution_count": 27
  },
  {
   "metadata": {
    "ExecuteTime": {
     "end_time": "2025-09-20T04:20:53.406382Z",
     "start_time": "2025-09-20T04:20:53.399863Z"
    }
   },
   "cell_type": "code",
   "source": "list(d1.values())",
   "id": "272c2b6b3d17c411",
   "outputs": [
    {
     "data": {
      "text/plain": [
       "['some value', [1, 2, 3, 4], 'an integer']"
      ]
     },
     "execution_count": 30,
     "metadata": {},
     "output_type": "execute_result"
    }
   ],
   "execution_count": 30
  },
  {
   "metadata": {
    "ExecuteTime": {
     "end_time": "2025-09-20T04:21:37.236091Z",
     "start_time": "2025-09-20T04:21:37.231596Z"
    }
   },
   "cell_type": "code",
   "source": "d1.update({'b': 'foo', \"c\": 54})",
   "id": "23623e83b8e4ad0c",
   "outputs": [],
   "execution_count": 31
  },
  {
   "metadata": {
    "ExecuteTime": {
     "end_time": "2025-09-20T04:21:38.803316Z",
     "start_time": "2025-09-20T04:21:38.795774Z"
    }
   },
   "cell_type": "code",
   "source": "d1",
   "id": "2e57bd169f836aee",
   "outputs": [
    {
     "data": {
      "text/plain": [
       "{'a': 'some value', 'b': 'foo', 7: 'an integer', 'c': 54}"
      ]
     },
     "execution_count": 32,
     "metadata": {},
     "output_type": "execute_result"
    }
   ],
   "execution_count": 32
  },
  {
   "metadata": {
    "ExecuteTime": {
     "end_time": "2025-09-25T12:07:33.531987Z",
     "start_time": "2025-09-25T12:07:33.525154Z"
    }
   },
   "cell_type": "code",
   "source": [
    "tuples = zip(range(10), reversed(range(10)))\n",
    "mapping = dict(tuples)\n",
    "mapping"
   ],
   "id": "feaec870becf7630",
   "outputs": [
    {
     "data": {
      "text/plain": [
       "{0: 9, 1: 8, 2: 7, 3: 6, 4: 5, 5: 4, 6: 3, 7: 2, 8: 1, 9: 0}"
      ]
     },
     "execution_count": 2,
     "metadata": {},
     "output_type": "execute_result"
    }
   ],
   "execution_count": 2
  },
  {
   "metadata": {
    "ExecuteTime": {
     "end_time": "2025-09-26T01:54:51.202134Z",
     "start_time": "2025-09-26T01:54:51.192696Z"
    }
   },
   "cell_type": "code",
   "source": [
    "words = [\"apple\", \"bat\", \"bar\", \"atom\", \"book\"]\n",
    "by_letter = {}\n",
    "for word in words:\n",
    "    by_letter.setdefault(word[0], []).append(word)"
   ],
   "id": "4dbeefa1ac324816",
   "outputs": [],
   "execution_count": 1
  },
  {
   "metadata": {
    "ExecuteTime": {
     "end_time": "2025-09-26T01:54:52.347812Z",
     "start_time": "2025-09-26T01:54:52.338418Z"
    }
   },
   "cell_type": "code",
   "source": "by_letter",
   "id": "cb8fb762ce70201",
   "outputs": [
    {
     "data": {
      "text/plain": [
       "{'a': ['apple', 'atom'], 'b': ['bat', 'bar', 'book']}"
      ]
     },
     "execution_count": 2,
     "metadata": {},
     "output_type": "execute_result"
    }
   ],
   "execution_count": 2
  },
  {
   "metadata": {
    "ExecuteTime": {
     "end_time": "2025-09-26T01:55:24.240961Z",
     "start_time": "2025-09-26T01:55:24.235873Z"
    }
   },
   "cell_type": "code",
   "source": [
    "from collections import defaultdict\n",
    "by_letter = defaultdict(list)\n",
    "\n",
    "for word in words:\n",
    "    by_letter[word[0]].append(word)"
   ],
   "id": "62557c0e083ece03",
   "outputs": [],
   "execution_count": 3
  },
  {
   "metadata": {
    "ExecuteTime": {
     "end_time": "2025-09-26T01:56:02.128121Z",
     "start_time": "2025-09-26T01:56:02.122075Z"
    }
   },
   "cell_type": "code",
   "source": "hash(\"sd\")",
   "id": "f8a50119d7986c07",
   "outputs": [
    {
     "data": {
      "text/plain": [
       "-7498495525349040318"
      ]
     },
     "execution_count": 4,
     "metadata": {},
     "output_type": "execute_result"
    }
   ],
   "execution_count": 4
  },
  {
   "metadata": {
    "ExecuteTime": {
     "end_time": "2025-09-26T01:56:15.093364Z",
     "start_time": "2025-09-26T01:56:15.086089Z"
    }
   },
   "cell_type": "code",
   "source": "hash((1, 2))",
   "id": "525dc67795c77735",
   "outputs": [
    {
     "data": {
      "text/plain": [
       "-3550055125485641917"
      ]
     },
     "execution_count": 6,
     "metadata": {},
     "output_type": "execute_result"
    }
   ],
   "execution_count": 6
  },
  {
   "metadata": {
    "ExecuteTime": {
     "end_time": "2025-09-26T01:56:24.635141Z",
     "start_time": "2025-09-26T01:56:24.619193Z"
    }
   },
   "cell_type": "code",
   "source": "hash([1, 4])",
   "id": "d186a2d5e5e65748",
   "outputs": [
    {
     "ename": "TypeError",
     "evalue": "unhashable type: 'list'",
     "output_type": "error",
     "traceback": [
      "\u001B[1;31m---------------------------------------------------------------------------\u001B[0m",
      "\u001B[1;31mTypeError\u001B[0m                                 Traceback (most recent call last)",
      "Cell \u001B[1;32mIn[7], line 1\u001B[0m\n\u001B[1;32m----> 1\u001B[0m \u001B[38;5;28;43mhash\u001B[39;49m\u001B[43m(\u001B[49m\u001B[43m[\u001B[49m\u001B[38;5;241;43m1\u001B[39;49m\u001B[43m,\u001B[49m\u001B[43m \u001B[49m\u001B[38;5;241;43m4\u001B[39;49m\u001B[43m]\u001B[49m\u001B[43m)\u001B[49m\n",
      "\u001B[1;31mTypeError\u001B[0m: unhashable type: 'list'"
     ]
    }
   ],
   "execution_count": 7
  },
  {
   "metadata": {
    "ExecuteTime": {
     "end_time": "2025-09-26T01:56:36.314895Z",
     "start_time": "2025-09-26T01:56:36.299855Z"
    }
   },
   "cell_type": "code",
   "source": "hash((1, 2, 3, []))",
   "id": "ee87852bbfe109b0",
   "outputs": [
    {
     "ename": "TypeError",
     "evalue": "unhashable type: 'list'",
     "output_type": "error",
     "traceback": [
      "\u001B[1;31m---------------------------------------------------------------------------\u001B[0m",
      "\u001B[1;31mTypeError\u001B[0m                                 Traceback (most recent call last)",
      "Cell \u001B[1;32mIn[8], line 1\u001B[0m\n\u001B[1;32m----> 1\u001B[0m \u001B[38;5;28;43mhash\u001B[39;49m\u001B[43m(\u001B[49m\u001B[43m(\u001B[49m\u001B[38;5;241;43m1\u001B[39;49m\u001B[43m,\u001B[49m\u001B[43m \u001B[49m\u001B[38;5;241;43m2\u001B[39;49m\u001B[43m,\u001B[49m\u001B[43m \u001B[49m\u001B[38;5;241;43m3\u001B[39;49m\u001B[43m,\u001B[49m\u001B[43m \u001B[49m\u001B[43m[\u001B[49m\u001B[43m]\u001B[49m\u001B[43m)\u001B[49m\u001B[43m)\u001B[49m\n",
      "\u001B[1;31mTypeError\u001B[0m: unhashable type: 'list'"
     ]
    }
   ],
   "execution_count": 8
  },
  {
   "metadata": {
    "ExecuteTime": {
     "end_time": "2025-09-26T01:57:08.919800Z",
     "start_time": "2025-09-26T01:57:08.913786Z"
    }
   },
   "cell_type": "code",
   "source": [
    "d = {}\n",
    "d[tuple([1, 2])] = 5\n",
    "d"
   ],
   "id": "b94c9ff39110e281",
   "outputs": [
    {
     "data": {
      "text/plain": [
       "{(1, 2): 5}"
      ]
     },
     "execution_count": 9,
     "metadata": {},
     "output_type": "execute_result"
    }
   ],
   "execution_count": 9
  },
  {
   "metadata": {
    "ExecuteTime": {
     "end_time": "2025-09-26T01:57:44.624904Z",
     "start_time": "2025-09-26T01:57:44.618874Z"
    }
   },
   "cell_type": "code",
   "source": [
    "sd = {1,2,1,2,4,5,8,7,6,2,2,3,4,5,6}\n",
    "sd"
   ],
   "id": "baae7d801d281c9f",
   "outputs": [
    {
     "data": {
      "text/plain": [
       "{1, 2, 3, 4, 5, 6, 7, 8}"
      ]
     },
     "execution_count": 10,
     "metadata": {},
     "output_type": "execute_result"
    }
   ],
   "execution_count": 10
  },
  {
   "metadata": {
    "ExecuteTime": {
     "end_time": "2025-09-26T01:58:15.133623Z",
     "start_time": "2025-09-26T01:58:15.128743Z"
    }
   },
   "cell_type": "code",
   "source": [
    "a = {1, 2, 3, 4, 5}\n",
    "b = {6, 7, 8, 9, 10, 11, 12}"
   ],
   "id": "4c94a9076ab02063",
   "outputs": [],
   "execution_count": 11
  },
  {
   "metadata": {
    "ExecuteTime": {
     "end_time": "2025-09-26T01:58:29.471462Z",
     "start_time": "2025-09-26T01:58:29.465423Z"
    }
   },
   "cell_type": "code",
   "source": "a.union(b)",
   "id": "2a4921a983a1cd2a",
   "outputs": [
    {
     "data": {
      "text/plain": [
       "{1, 2, 3, 4, 5, 6, 7, 8, 9, 10, 11, 12}"
      ]
     },
     "execution_count": 13,
     "metadata": {},
     "output_type": "execute_result"
    }
   ],
   "execution_count": 13
  },
  {
   "metadata": {
    "ExecuteTime": {
     "end_time": "2025-09-26T01:58:32.497397Z",
     "start_time": "2025-09-26T01:58:32.491414Z"
    }
   },
   "cell_type": "code",
   "source": "a.intersection(b)",
   "id": "3f84c742b7845284",
   "outputs": [
    {
     "data": {
      "text/plain": [
       "set()"
      ]
     },
     "execution_count": 14,
     "metadata": {},
     "output_type": "execute_result"
    }
   ],
   "execution_count": 14
  },
  {
   "metadata": {
    "ExecuteTime": {
     "end_time": "2025-09-26T01:58:35.574451Z",
     "start_time": "2025-09-26T01:58:35.569098Z"
    }
   },
   "cell_type": "code",
   "source": "a.difference(b)",
   "id": "f956f9b29b78b1e0",
   "outputs": [
    {
     "data": {
      "text/plain": [
       "{1, 2, 3, 4, 5}"
      ]
     },
     "execution_count": 15,
     "metadata": {},
     "output_type": "execute_result"
    }
   ],
   "execution_count": 15
  },
  {
   "metadata": {
    "ExecuteTime": {
     "end_time": "2025-09-26T01:58:42.361412Z",
     "start_time": "2025-09-26T01:58:42.355484Z"
    }
   },
   "cell_type": "code",
   "source": "a|b",
   "id": "690093e33ea58b5e",
   "outputs": [
    {
     "data": {
      "text/plain": [
       "{1, 2, 3, 4, 5, 6, 7, 8, 9, 10, 11, 12}"
      ]
     },
     "execution_count": 16,
     "metadata": {},
     "output_type": "execute_result"
    }
   ],
   "execution_count": 16
  },
  {
   "metadata": {
    "ExecuteTime": {
     "end_time": "2025-09-26T01:58:52.302233Z",
     "start_time": "2025-09-26T01:58:52.296233Z"
    }
   },
   "cell_type": "code",
   "source": "a & b",
   "id": "a5a95669204f0659",
   "outputs": [
    {
     "data": {
      "text/plain": [
       "set()"
      ]
     },
     "execution_count": 18,
     "metadata": {},
     "output_type": "execute_result"
    }
   ],
   "execution_count": 18
  },
  {
   "metadata": {
    "ExecuteTime": {
     "end_time": "2025-09-26T01:58:54.266338Z",
     "start_time": "2025-09-26T01:58:54.260829Z"
    }
   },
   "cell_type": "code",
   "source": "a - b",
   "id": "3057c4efcc21c033",
   "outputs": [
    {
     "data": {
      "text/plain": [
       "{1, 2, 3, 4, 5}"
      ]
     },
     "execution_count": 19,
     "metadata": {},
     "output_type": "execute_result"
    }
   ],
   "execution_count": 19
  },
  {
   "metadata": {
    "ExecuteTime": {
     "end_time": "2025-09-26T01:59:23.265915Z",
     "start_time": "2025-09-26T01:59:23.261913Z"
    }
   },
   "cell_type": "code",
   "source": "a &= b",
   "id": "b140941ba9fa1e43",
   "outputs": [],
   "execution_count": 20
  },
  {
   "metadata": {
    "ExecuteTime": {
     "end_time": "2025-09-26T01:59:24.147827Z",
     "start_time": "2025-09-26T01:59:24.142768Z"
    }
   },
   "cell_type": "code",
   "source": "a",
   "id": "efbb1aefc3933c5a",
   "outputs": [
    {
     "data": {
      "text/plain": [
       "set()"
      ]
     },
     "execution_count": 21,
     "metadata": {},
     "output_type": "execute_result"
    }
   ],
   "execution_count": 21
  },
  {
   "metadata": {
    "ExecuteTime": {
     "end_time": "2025-09-26T01:59:59.686660Z",
     "start_time": "2025-09-26T01:59:59.671362Z"
    }
   },
   "cell_type": "code",
   "source": "a.add([1, 2, 3])",
   "id": "7c0e29cd30ba58ea",
   "outputs": [
    {
     "ename": "TypeError",
     "evalue": "unhashable type: 'list'",
     "output_type": "error",
     "traceback": [
      "\u001B[1;31m---------------------------------------------------------------------------\u001B[0m",
      "\u001B[1;31mTypeError\u001B[0m                                 Traceback (most recent call last)",
      "Cell \u001B[1;32mIn[22], line 1\u001B[0m\n\u001B[1;32m----> 1\u001B[0m \u001B[43ma\u001B[49m\u001B[38;5;241;43m.\u001B[39;49m\u001B[43madd\u001B[49m\u001B[43m(\u001B[49m\u001B[43m[\u001B[49m\u001B[38;5;241;43m1\u001B[39;49m\u001B[43m,\u001B[49m\u001B[43m \u001B[49m\u001B[38;5;241;43m2\u001B[39;49m\u001B[43m,\u001B[49m\u001B[43m \u001B[49m\u001B[38;5;241;43m3\u001B[39;49m\u001B[43m]\u001B[49m\u001B[43m)\u001B[49m\n",
      "\u001B[1;31mTypeError\u001B[0m: unhashable type: 'list'"
     ]
    }
   ],
   "execution_count": 22
  },
  {
   "metadata": {
    "ExecuteTime": {
     "end_time": "2025-09-26T02:00:16.838435Z",
     "start_time": "2025-09-26T02:00:16.834066Z"
    }
   },
   "cell_type": "code",
   "source": "a.add(tuple([1, 2, 3]))",
   "id": "9385921652336c83",
   "outputs": [],
   "execution_count": 24
  },
  {
   "metadata": {
    "ExecuteTime": {
     "end_time": "2025-09-26T02:00:18.745181Z",
     "start_time": "2025-09-26T02:00:18.739527Z"
    }
   },
   "cell_type": "code",
   "source": "a",
   "id": "65b835a7121a3042",
   "outputs": [
    {
     "data": {
      "text/plain": [
       "{(1, 2, 3)}"
      ]
     },
     "execution_count": 25,
     "metadata": {},
     "output_type": "execute_result"
    }
   ],
   "execution_count": 25
  },
  {
   "metadata": {
    "ExecuteTime": {
     "end_time": "2025-09-27T12:37:47.415385Z",
     "start_time": "2025-09-27T12:37:47.403020Z"
    }
   },
   "cell_type": "code",
   "source": [
    "strings = [\"a\", \"as\", \"bat\", \"car\", \"dove\", \"python\"]\n",
    "[x.upper() for x in strings if len(x) > 2]"
   ],
   "id": "ec23fceb377db376",
   "outputs": [
    {
     "data": {
      "text/plain": [
       "['BAT', 'CAR', 'DOVE', 'PYTHON']"
      ]
     },
     "execution_count": 1,
     "metadata": {},
     "output_type": "execute_result"
    }
   ],
   "execution_count": 1
  },
  {
   "metadata": {
    "ExecuteTime": {
     "end_time": "2025-09-27T12:38:55.420708Z",
     "start_time": "2025-09-27T12:38:55.415861Z"
    }
   },
   "cell_type": "code",
   "source": "unique_lengths = {len(x) for x in strings}",
   "id": "351ab5bfe2066f40",
   "outputs": [],
   "execution_count": 2
  },
  {
   "metadata": {
    "ExecuteTime": {
     "end_time": "2025-09-27T12:39:04.901997Z",
     "start_time": "2025-09-27T12:39:04.896555Z"
    }
   },
   "cell_type": "code",
   "source": "unique_lengths",
   "id": "aafeb664ed8ea16b",
   "outputs": [
    {
     "data": {
      "text/plain": [
       "{1, 2, 3, 4, 6}"
      ]
     },
     "execution_count": 5,
     "metadata": {},
     "output_type": "execute_result"
    }
   ],
   "execution_count": 5
  },
  {
   "metadata": {
    "ExecuteTime": {
     "end_time": "2025-09-27T12:39:22.624758Z",
     "start_time": "2025-09-27T12:39:22.619643Z"
    }
   },
   "cell_type": "code",
   "source": "set(map(len, strings))",
   "id": "bf330038ad40f3d5",
   "outputs": [
    {
     "data": {
      "text/plain": [
       "{1, 2, 3, 4, 6}"
      ]
     },
     "execution_count": 6,
     "metadata": {},
     "output_type": "execute_result"
    }
   ],
   "execution_count": 6
  },
  {
   "metadata": {
    "ExecuteTime": {
     "end_time": "2025-09-27T12:40:20.611341Z",
     "start_time": "2025-09-27T12:40:20.604999Z"
    }
   },
   "cell_type": "code",
   "source": [
    "loc_mapping = {value: index for index, value in enumerate(strings)}\n",
    "loc_mapping"
   ],
   "id": "318bf4bae7816e88",
   "outputs": [
    {
     "data": {
      "text/plain": [
       "{'a': 0, 'as': 1, 'bat': 2, 'car': 3, 'dove': 4, 'python': 5}"
      ]
     },
     "execution_count": 7,
     "metadata": {},
     "output_type": "execute_result"
    }
   ],
   "execution_count": 7
  },
  {
   "metadata": {
    "ExecuteTime": {
     "end_time": "2025-09-27T12:43:01.197817Z",
     "start_time": "2025-09-27T12:43:01.193660Z"
    }
   },
   "cell_type": "code",
   "source": "all_data = [[\"John\", \"Emily\", \"Michael\", \"Mary\",\"Steven\"], [\"Maria\", \"Juan\", \"Javier\", \"Natalia\", \"Pilar\"]]",
   "id": "7c2e48bf9adde214",
   "outputs": [],
   "execution_count": 8
  },
  {
   "metadata": {
    "ExecuteTime": {
     "end_time": "2025-09-27T12:45:14.971199Z",
     "start_time": "2025-09-27T12:45:14.966654Z"
    }
   },
   "cell_type": "code",
   "source": [
    "name_of_interest = []\n",
    "\n",
    "for names in all_data:\n",
    "    enough_as = [name for name in names if name.count(\"a\") >= 2]\n",
    "    name_of_interest.extend(enough_as)"
   ],
   "id": "5ea9c73e857c83d1",
   "outputs": [],
   "execution_count": 9
  },
  {
   "metadata": {
    "ExecuteTime": {
     "end_time": "2025-09-27T12:45:21.652741Z",
     "start_time": "2025-09-27T12:45:21.647362Z"
    }
   },
   "cell_type": "code",
   "source": "name_of_interest",
   "id": "b12e35c191df070c",
   "outputs": [
    {
     "data": {
      "text/plain": [
       "['Maria', 'Natalia']"
      ]
     },
     "execution_count": 10,
     "metadata": {},
     "output_type": "execute_result"
    }
   ],
   "execution_count": 10
  },
  {
   "metadata": {
    "ExecuteTime": {
     "end_time": "2025-09-27T12:46:40.519202Z",
     "start_time": "2025-09-27T12:46:40.512198Z"
    }
   },
   "cell_type": "code",
   "source": [
    "result = [name for names in all_data for name in names if name.count(\"a\") >= 2]\n",
    "result"
   ],
   "id": "6da6adadf84e0e7",
   "outputs": [
    {
     "data": {
      "text/plain": [
       "['Maria', 'Natalia']"
      ]
     },
     "execution_count": 11,
     "metadata": {},
     "output_type": "execute_result"
    }
   ],
   "execution_count": 11
  },
  {
   "metadata": {
    "ExecuteTime": {
     "end_time": "2025-09-30T11:28:17.194734Z",
     "start_time": "2025-09-30T11:28:17.183131Z"
    }
   },
   "cell_type": "code",
   "source": [
    "some_tuples = [(1, 2, 3), (4, 5, 6), (7, 8, 9)]\n",
    "flattened = [x for tup in some_tuples for x in tup]"
   ],
   "id": "42c19ad288db3578",
   "outputs": [],
   "execution_count": 3
  },
  {
   "metadata": {
    "ExecuteTime": {
     "end_time": "2025-09-30T11:28:17.780250Z",
     "start_time": "2025-09-30T11:28:17.757463Z"
    }
   },
   "cell_type": "code",
   "source": "flattened",
   "id": "aceeb140ef9df9ae",
   "outputs": [
    {
     "data": {
      "text/plain": [
       "[1, 2, 3, 4, 5, 6, 7, 8, 9]"
      ]
     },
     "execution_count": 4,
     "metadata": {},
     "output_type": "execute_result"
    }
   ],
   "execution_count": 4
  },
  {
   "metadata": {
    "ExecuteTime": {
     "end_time": "2025-09-30T11:29:15.443070Z",
     "start_time": "2025-09-30T11:29:15.429263Z"
    }
   },
   "cell_type": "code",
   "source": [
    "\"\"\"\n",
    "You can have arbitrarily many levels of nesting, though if you have more than two or three levels of nesting, you should probably start to question whether this makes sense from a code readability standpoint.\n",
    "\"\"\""
   ],
   "id": "69aeba9f04266e05",
   "outputs": [
    {
     "data": {
      "text/plain": [
       "'\\nYou can have arbitrarily many levels of nesting, though if you have more than two or three levels of nesting, you should probably start to question whether this makes sense from a code readability standpoint.\\n'"
      ]
     },
     "execution_count": 6,
     "metadata": {},
     "output_type": "execute_result"
    }
   ],
   "execution_count": 6
  },
  {
   "metadata": {
    "ExecuteTime": {
     "end_time": "2025-09-30T11:30:06.518121Z",
     "start_time": "2025-09-30T11:30:06.504503Z"
    }
   },
   "cell_type": "code",
   "source": "[{x for x in tup} for tup in some_tuples]",
   "id": "b0416ac2a0ec4e97",
   "outputs": [
    {
     "data": {
      "text/plain": [
       "[{1, 2, 3}, {4, 5, 6}, {7, 8, 9}]"
      ]
     },
     "execution_count": 8,
     "metadata": {},
     "output_type": "execute_result"
    }
   ],
   "execution_count": 8
  },
  {
   "metadata": {
    "ExecuteTime": {
     "end_time": "2025-09-30T11:30:27.781088Z",
     "start_time": "2025-09-30T11:30:27.582709Z"
    }
   },
   "cell_type": "code",
   "source": "{[x for x in tup] for tup in some_tuples}",
   "id": "64d3b5cd06d58d60",
   "outputs": [
    {
     "ename": "TypeError",
     "evalue": "unhashable type: 'list'",
     "output_type": "error",
     "traceback": [
      "\u001B[1;31m---------------------------------------------------------------------------\u001B[0m",
      "\u001B[1;31mTypeError\u001B[0m                                 Traceback (most recent call last)",
      "Cell \u001B[1;32mIn[9], line 1\u001B[0m\n\u001B[1;32m----> 1\u001B[0m \u001B[43m{\u001B[49m\u001B[43m[\u001B[49m\u001B[43mx\u001B[49m\u001B[43m \u001B[49m\u001B[38;5;28;43;01mfor\u001B[39;49;00m\u001B[43m \u001B[49m\u001B[43mx\u001B[49m\u001B[43m \u001B[49m\u001B[38;5;129;43;01min\u001B[39;49;00m\u001B[43m \u001B[49m\u001B[43mtup\u001B[49m\u001B[43m]\u001B[49m\u001B[43m \u001B[49m\u001B[38;5;28;43;01mfor\u001B[39;49;00m\u001B[43m \u001B[49m\u001B[43mtup\u001B[49m\u001B[43m \u001B[49m\u001B[38;5;129;43;01min\u001B[39;49;00m\u001B[43m \u001B[49m\u001B[43msome_tuples\u001B[49m\u001B[43m}\u001B[49m\n",
      "Cell \u001B[1;32mIn[9], line 1\u001B[0m, in \u001B[0;36m<setcomp>\u001B[1;34m(.0)\u001B[0m\n\u001B[1;32m----> 1\u001B[0m {[x \u001B[38;5;28;01mfor\u001B[39;00m x \u001B[38;5;129;01min\u001B[39;00m tup] \u001B[38;5;28;01mfor\u001B[39;00m tup \u001B[38;5;129;01min\u001B[39;00m some_tuples}\n",
      "\u001B[1;31mTypeError\u001B[0m: unhashable type: 'list'"
     ]
    }
   ],
   "execution_count": 9
  },
  {
   "metadata": {
    "ExecuteTime": {
     "end_time": "2025-09-30T11:33:09.604194Z",
     "start_time": "2025-09-30T11:33:09.591708Z"
    }
   },
   "cell_type": "code",
   "source": [
    "def my_function2(x, y, z=1.5):\n",
    "    if z > 1:\n",
    "        return x * y / z\n",
    "    else:\n",
    "        return x * y * z"
   ],
   "id": "a05c995c44feabdb",
   "outputs": [],
   "execution_count": 10
  },
  {
   "metadata": {
    "ExecuteTime": {
     "end_time": "2025-09-30T11:33:26.362752Z",
     "start_time": "2025-09-30T11:33:26.342369Z"
    }
   },
   "cell_type": "code",
   "source": "my_function2(1, 2, 3)",
   "id": "6ac9bf029d5c8f0b",
   "outputs": [
    {
     "data": {
      "text/plain": [
       "0.6666666666666666"
      ]
     },
     "execution_count": 11,
     "metadata": {},
     "output_type": "execute_result"
    }
   ],
   "execution_count": 11
  },
  {
   "metadata": {
    "ExecuteTime": {
     "end_time": "2025-09-30T11:33:41.090899Z",
     "start_time": "2025-09-30T11:33:41.076882Z"
    }
   },
   "cell_type": "code",
   "source": "my_function2(1, 2, z=3)\n",
   "id": "9a969b63ffd43611",
   "outputs": [
    {
     "data": {
      "text/plain": [
       "0.6666666666666666"
      ]
     },
     "execution_count": 12,
     "metadata": {},
     "output_type": "execute_result"
    }
   ],
   "execution_count": 12
  },
  {
   "metadata": {
    "ExecuteTime": {
     "end_time": "2025-09-30T11:33:44.685375Z",
     "start_time": "2025-09-30T11:33:44.668688Z"
    }
   },
   "cell_type": "code",
   "source": "my_function2(1, 2)\n",
   "id": "ea55c6828b8c5116",
   "outputs": [
    {
     "data": {
      "text/plain": [
       "1.3333333333333333"
      ]
     },
     "execution_count": 13,
     "metadata": {},
     "output_type": "execute_result"
    }
   ],
   "execution_count": 13
  },
  {
   "metadata": {
    "ExecuteTime": {
     "end_time": "2025-09-30T11:34:44.461264Z",
     "start_time": "2025-09-30T11:34:44.444317Z"
    }
   },
   "cell_type": "code",
   "source": [
    "\"\"\"\n",
    "The main restriction on function arguments is that the keyword arguments must follow the positional arguments (if any). You can specify keyword arguments in any order. This frees you from having to remember the order in which the function arguments were specified. You need to remember only what their names are.\n",
    "\"\"\""
   ],
   "id": "fa4794719cc7bf95",
   "outputs": [
    {
     "data": {
      "text/plain": [
       "'\\nThe main restriction on function arguments is that the keyword arguments must follow the positional arguments (if any). You can specify keyword arguments in any order. This frees you from having to remember the order in which the function arguments were specified. You need to remember only what their names are.\\n'"
      ]
     },
     "execution_count": 14,
     "metadata": {},
     "output_type": "execute_result"
    }
   ],
   "execution_count": 14
  },
  {
   "metadata": {
    "ExecuteTime": {
     "end_time": "2025-09-30T11:37:15.438106Z",
     "start_time": "2025-09-30T11:37:15.424418Z"
    }
   },
   "cell_type": "code",
   "source": [
    "a = []\n",
    "def func():\n",
    "    for i in range(5):\n",
    "        a.append(i)\n",
    "\n",
    "a"
   ],
   "id": "c7a2ffbe2cbf64dc",
   "outputs": [
    {
     "data": {
      "text/plain": [
       "[]"
      ]
     },
     "execution_count": 15,
     "metadata": {},
     "output_type": "execute_result"
    }
   ],
   "execution_count": 15
  },
  {
   "metadata": {
    "ExecuteTime": {
     "end_time": "2025-09-30T11:37:26.370886Z",
     "start_time": "2025-09-30T11:37:26.355242Z"
    }
   },
   "cell_type": "code",
   "source": [
    "func()\n",
    "a"
   ],
   "id": "eb455eb01d114c21",
   "outputs": [
    {
     "data": {
      "text/plain": [
       "[0, 1, 2, 3, 4]"
      ]
     },
     "execution_count": 16,
     "metadata": {},
     "output_type": "execute_result"
    }
   ],
   "execution_count": 16
  },
  {
   "metadata": {
    "ExecuteTime": {
     "end_time": "2025-09-30T11:37:49.399924Z",
     "start_time": "2025-09-30T11:37:49.381095Z"
    }
   },
   "cell_type": "code",
   "source": [
    "func(); func()\n",
    "a"
   ],
   "id": "cea5d75d153048da",
   "outputs": [
    {
     "data": {
      "text/plain": [
       "[0, 1, 2, 3, 4, 0, 1, 2, 3, 4, 0, 1, 2, 3, 4]"
      ]
     },
     "execution_count": 17,
     "metadata": {},
     "output_type": "execute_result"
    }
   ],
   "execution_count": 17
  },
  {
   "metadata": {
    "ExecuteTime": {
     "end_time": "2025-09-30T11:44:03.095897Z",
     "start_time": "2025-09-30T11:44:03.090871Z"
    }
   },
   "cell_type": "code",
   "source": [
    "\"\"\"\n",
    "Assigning variables outside of the function’s scope is possible, but those\n",
    "variables must be declared explicitly using either the global or nonlocal\n",
    "keywords:\n",
    "\"\"\"\n",
    "a = 5\n",
    "def bind_a_variable():\n",
    "    global a\n",
    "    # nonlocal a\n",
    "    a = []\n",
    "\n",
    "bind_a_variable()"
   ],
   "id": "4922d6ccf72e0468",
   "outputs": [],
   "execution_count": 25
  },
  {
   "metadata": {
    "ExecuteTime": {
     "end_time": "2025-09-30T11:44:04.577993Z",
     "start_time": "2025-09-30T11:44:04.571326Z"
    }
   },
   "cell_type": "code",
   "source": "a",
   "id": "1b5f47d62bdae6f0",
   "outputs": [
    {
     "data": {
      "text/plain": [
       "[]"
      ]
     },
     "execution_count": 26,
     "metadata": {},
     "output_type": "execute_result"
    }
   ],
   "execution_count": 26
  },
  {
   "metadata": {
    "ExecuteTime": {
     "end_time": "2025-10-02T14:30:00.843629Z",
     "start_time": "2025-10-02T14:30:00.823767Z"
    }
   },
   "cell_type": "code",
   "source": [
    "import re\n",
    "\n",
    "def clean_strings(strings):\n",
    "    results = []\n",
    "    for string in strings:\n",
    "        string = string.strip()\n",
    "        string = re.sub(\"[!#?]\", \"\", string)\n",
    "        string = string.title()\n",
    "        results.append(string)\n",
    "\n",
    "    return results\n",
    "clean_strings([\" Alabama \", \"Georgia!\", \"Georgia\",\n",
    "\"georgia\", \"FlOrIda\", \"south carolina##\", \"West virginia?\"])"
   ],
   "id": "958e61e367feb023",
   "outputs": [
    {
     "data": {
      "text/plain": [
       "['Alabama',\n",
       " 'Georgia',\n",
       " 'Georgia',\n",
       " 'Georgia',\n",
       " 'Florida',\n",
       " 'South Carolina',\n",
       " 'West Virginia']"
      ]
     },
     "execution_count": 2,
     "metadata": {},
     "output_type": "execute_result"
    }
   ],
   "execution_count": 2
  },
  {
   "metadata": {
    "ExecuteTime": {
     "end_time": "2025-10-02T14:30:07.502971Z",
     "start_time": "2025-10-02T14:30:07.485556Z"
    }
   },
   "cell_type": "code",
   "source": [
    "def remove_panctuation(value):\n",
    "    return re.sub(\"[!#?]\", \"\", value)\n",
    "\n",
    "clean_ops = [str.strip, remove_panctuation, str.title]\n",
    "\n",
    "def clean_strings(strings, ops):\n",
    "    result = []\n",
    "    for value in strings:\n",
    "        for function in clean_ops:\n",
    "            value = function(value)\n",
    "        result.append(value)\n",
    "    return result\n",
    "\n",
    "clean_strings([\" Alabama \", \"Georgia!\", \"Georgia\",\n",
    "\"georgia\", \"FlOrIda\", \"south carolina##\", \"West virginia?\"], clean_ops)"
   ],
   "id": "cfdc94c9bde5cf2b",
   "outputs": [
    {
     "data": {
      "text/plain": [
       "['Alabama',\n",
       " 'Georgia',\n",
       " 'Georgia',\n",
       " 'Georgia',\n",
       " 'Florida',\n",
       " 'South Carolina',\n",
       " 'West Virginia']"
      ]
     },
     "execution_count": 3,
     "metadata": {},
     "output_type": "execute_result"
    }
   ],
   "execution_count": 3
  },
  {
   "metadata": {
    "ExecuteTime": {
     "end_time": "2025-10-02T14:31:16.085430Z",
     "start_time": "2025-10-02T14:31:16.060559Z"
    }
   },
   "cell_type": "code",
   "source": [
    "states = [\" Alabama \", \"Georgia!\", \"Georgia\",\n",
    "\"georgia\", \"FlOrIda\", \"south carolina##\", \"West virginia?\"]\n",
    "\n",
    "for x in map(remove_panctuation, states):\n",
    "    print(x)"
   ],
   "id": "bc0ba44fa75c6cb7",
   "outputs": [
    {
     "name": "stdout",
     "output_type": "stream",
     "text": [
      " Alabama \n",
      "Georgia\n",
      "Georgia\n",
      "georgia\n",
      "FlOrIda\n",
      "south carolina\n",
      "West virginia\n"
     ]
    }
   ],
   "execution_count": 6
  },
  {
   "metadata": {
    "ExecuteTime": {
     "end_time": "2025-10-02T14:32:51.053568Z",
     "start_time": "2025-10-02T14:32:51.034341Z"
    }
   },
   "cell_type": "code",
   "source": [
    "def short_function(x):\n",
    "    return x * 2\n",
    "\n",
    "equiv_anonymous = lambda x: x * 2"
   ],
   "id": "bc2e728720c2f289",
   "outputs": [],
   "execution_count": 7
  },
  {
   "metadata": {
    "ExecuteTime": {
     "end_time": "2025-10-02T14:35:24.594567Z",
     "start_time": "2025-10-02T14:35:24.578453Z"
    }
   },
   "cell_type": "code",
   "source": [
    "def apply_to_list(some_list, f):\n",
    "    return [f(x) for x in some_list]\n",
    "\n",
    "ints = [4, 0, 1, 5, 6]\n",
    "apply_to_list(ints, lambda x: x * 2)"
   ],
   "id": "dfe111b8c0819b8c",
   "outputs": [
    {
     "data": {
      "text/plain": [
       "[8, 0, 2, 10, 12]"
      ]
     },
     "execution_count": 8,
     "metadata": {},
     "output_type": "execute_result"
    }
   ],
   "execution_count": 8
  },
  {
   "metadata": {
    "ExecuteTime": {
     "end_time": "2025-10-02T14:36:58.444965Z",
     "start_time": "2025-10-02T14:36:58.432529Z"
    }
   },
   "cell_type": "code",
   "source": [
    "strings = [\"foo\", \"fkgnfgkl\", 'ffgfg', 'a', 'b']\n",
    "\n",
    "strings.sort(key=lambda x: len(x))"
   ],
   "id": "8960e422ec9e721",
   "outputs": [],
   "execution_count": 11
  },
  {
   "metadata": {
    "ExecuteTime": {
     "end_time": "2025-10-02T14:37:00.676395Z",
     "start_time": "2025-10-02T14:37:00.661785Z"
    }
   },
   "cell_type": "code",
   "source": "strings",
   "id": "766d312b7750ca50",
   "outputs": [
    {
     "data": {
      "text/plain": [
       "['a', 'b', 'foo', 'ffgfg', 'fkgnfgkl']"
      ]
     },
     "execution_count": 12,
     "metadata": {},
     "output_type": "execute_result"
    }
   ],
   "execution_count": 12
  },
  {
   "metadata": {},
   "cell_type": "code",
   "outputs": [],
   "execution_count": null,
   "source": "",
   "id": "5125f55001517e56"
  },
  {
   "metadata": {},
   "cell_type": "markdown",
   "source": "### Generators",
   "id": "6be0f368cade6543"
  },
  {
   "metadata": {
    "ExecuteTime": {
     "end_time": "2025-10-03T12:46:33.805499Z",
     "start_time": "2025-10-03T12:46:33.682957Z"
    }
   },
   "cell_type": "code",
   "source": [
    "d = {\"a\": 1, \"b\": 2, \"c\": 3}\n",
    "for key in d:\n",
    "    print(key, d[key])"
   ],
   "id": "e77d251b7a673e24",
   "outputs": [
    {
     "name": "stdout",
     "output_type": "stream",
     "text": [
      "a 1\n",
      "b 2\n",
      "c 3\n"
     ]
    }
   ],
   "execution_count": 1
  },
  {
   "metadata": {
    "ExecuteTime": {
     "end_time": "2025-10-03T12:47:21.501459Z",
     "start_time": "2025-10-03T12:47:21.482072Z"
    }
   },
   "cell_type": "code",
   "source": [
    "# First step that python do\n",
    "dict_iterator = iter(d)\n",
    "\n",
    "dict_iterator"
   ],
   "id": "9c3b91615e79036f",
   "outputs": [
    {
     "data": {
      "text/plain": [
       "<dict_keyiterator at 0x2a308818d10>"
      ]
     },
     "execution_count": 2,
     "metadata": {},
     "output_type": "execute_result"
    }
   ],
   "execution_count": 2
  },
  {
   "metadata": {
    "ExecuteTime": {
     "end_time": "2025-10-03T12:48:37.063658Z",
     "start_time": "2025-10-03T12:48:37.048575Z"
    }
   },
   "cell_type": "code",
   "source": "min(dict_iterator)",
   "id": "ac32d31fb93896a3",
   "outputs": [
    {
     "data": {
      "text/plain": [
       "'a'"
      ]
     },
     "execution_count": 3,
     "metadata": {},
     "output_type": "execute_result"
    }
   ],
   "execution_count": 3
  },
  {
   "metadata": {
    "ExecuteTime": {
     "end_time": "2025-10-03T12:48:47.485044Z",
     "start_time": "2025-10-03T12:48:47.472153Z"
    }
   },
   "cell_type": "code",
   "source": "sum(dict_iterator)",
   "id": "221717c3874c23ad",
   "outputs": [
    {
     "data": {
      "text/plain": [
       "0"
      ]
     },
     "execution_count": 4,
     "metadata": {},
     "output_type": "execute_result"
    }
   ],
   "execution_count": 4
  },
  {
   "metadata": {
    "ExecuteTime": {
     "end_time": "2025-10-03T12:50:23.131592Z",
     "start_time": "2025-10-03T12:50:23.117491Z"
    }
   },
   "cell_type": "code",
   "source": [
    "nums = [1, 2, 3]\n",
    "it = iter(nums)     # ده iterator\n",
    "print(next(it))     # 1\n",
    "print(next(it))     # 2\n",
    "print(next(it))     # 3\n"
   ],
   "id": "6c8a0157f9642b1c",
   "outputs": [
    {
     "name": "stdout",
     "output_type": "stream",
     "text": [
      "1\n",
      "2\n",
      "3\n"
     ]
    }
   ],
   "execution_count": 5
  },
  {
   "metadata": {
    "ExecuteTime": {
     "end_time": "2025-10-03T12:50:58.589066Z",
     "start_time": "2025-10-03T12:50:58.578211Z"
    }
   },
   "cell_type": "code",
   "source": "# Generators are special case of iterators",
   "id": "1554683311004f31",
   "outputs": [],
   "execution_count": 6
  },
  {
   "metadata": {
    "ExecuteTime": {
     "end_time": "2025-10-03T12:52:13.816724Z",
     "start_time": "2025-10-03T12:52:13.802111Z"
    }
   },
   "cell_type": "code",
   "source": [
    "def squares(n=10):\n",
    "    print(f\"Generating squares from 1 to {n ** 2}\")\n",
    "    for i in range(1, n + 1):\n",
    "         yield i ** 2"
   ],
   "id": "c611f055f1ad5aed",
   "outputs": [],
   "execution_count": 7
  },
  {
   "metadata": {
    "ExecuteTime": {
     "end_time": "2025-10-03T12:52:25.593734Z",
     "start_time": "2025-10-03T12:52:25.584089Z"
    }
   },
   "cell_type": "code",
   "source": "gen = squares()",
   "id": "ad9e251c27df567b",
   "outputs": [],
   "execution_count": 8
  },
  {
   "metadata": {
    "ExecuteTime": {
     "end_time": "2025-10-03T12:53:24.182652Z",
     "start_time": "2025-10-03T12:53:24.171980Z"
    }
   },
   "cell_type": "code",
   "source": [
    "for x in gen:\n",
    "    print(x, end = \" \")"
   ],
   "id": "248788d4278c5055",
   "outputs": [
    {
     "name": "stdout",
     "output_type": "stream",
     "text": [
      "Generating squares from 1 to 100\n",
      "1 4 9 16 25 36 49 64 81 100 "
     ]
    }
   ],
   "execution_count": 9
  },
  {
   "metadata": {
    "ExecuteTime": {
     "end_time": "2025-10-03T12:54:48.893992Z",
     "start_time": "2025-10-03T12:54:48.877404Z"
    }
   },
   "cell_type": "code",
   "source": [
    "# Generator expressions\n",
    "\n",
    "gen = (x ** 2 for x in range(100))\n",
    "gen"
   ],
   "id": "7612ab7ad7e6e265",
   "outputs": [
    {
     "data": {
      "text/plain": [
       "<generator object <genexpr> at 0x000002A308888EE0>"
      ]
     },
     "execution_count": 10,
     "metadata": {},
     "output_type": "execute_result"
    }
   ],
   "execution_count": 10
  },
  {
   "metadata": {
    "ExecuteTime": {
     "end_time": "2025-10-03T12:55:27.975769Z",
     "start_time": "2025-10-03T12:55:27.962813Z"
    }
   },
   "cell_type": "code",
   "source": "sum(gen)",
   "id": "7431f248f697fccd",
   "outputs": [
    {
     "data": {
      "text/plain": [
       "328350"
      ]
     },
     "execution_count": 11,
     "metadata": {},
     "output_type": "execute_result"
    }
   ],
   "execution_count": 11
  },
  {
   "metadata": {
    "ExecuteTime": {
     "end_time": "2025-10-03T12:56:09.280967Z",
     "start_time": "2025-10-03T12:56:09.266263Z"
    }
   },
   "cell_type": "code",
   "source": [
    "# Generator expressions can be used instead of list comprehensions as function arguments in some cases:\n",
    "\n",
    "sum(x ** 2 for x in range(100))"
   ],
   "id": "26283738c4dffaea",
   "outputs": [
    {
     "data": {
      "text/plain": [
       "328350"
      ]
     },
     "execution_count": 12,
     "metadata": {},
     "output_type": "execute_result"
    }
   ],
   "execution_count": 12
  },
  {
   "metadata": {
    "ExecuteTime": {
     "end_time": "2025-10-03T12:56:32.048980Z",
     "start_time": "2025-10-03T12:56:32.033890Z"
    }
   },
   "cell_type": "code",
   "source": "dict((i, i ** 2) for i in range(5))",
   "id": "d3dbb709da24367d",
   "outputs": [
    {
     "data": {
      "text/plain": [
       "{0: 0, 1: 1, 2: 4, 3: 9, 4: 16}"
      ]
     },
     "execution_count": 13,
     "metadata": {},
     "output_type": "execute_result"
    }
   ],
   "execution_count": 13
  },
  {
   "metadata": {
    "ExecuteTime": {
     "end_time": "2025-10-04T07:25:01.830765Z",
     "start_time": "2025-10-04T07:25:01.817295Z"
    }
   },
   "cell_type": "code",
   "source": [
    "import itertools\n",
    "first_letter = lambda x: x[0]\n",
    "names = [\"Alan\", \"Adam\", \"Wes\", \"Will\", \"Albert\", \"Steven\"]\n",
    "for letter, names in itertools.groupby(names, first_letter):\n",
    "    print(letter, list(names))"
   ],
   "id": "39e2221efda0980d",
   "outputs": [
    {
     "name": "stdout",
     "output_type": "stream",
     "text": [
      "A ['Alan', 'Adam']\n",
      "W ['Wes', 'Will']\n",
      "A ['Albert']\n",
      "S ['Steven']\n"
     ]
    }
   ],
   "execution_count": 6
  },
  {
   "metadata": {
    "ExecuteTime": {
     "end_time": "2025-10-04T07:29:08.544681Z",
     "start_time": "2025-10-04T07:29:08.531681Z"
    }
   },
   "cell_type": "code",
   "source": [
    "def attempt_float(x):\n",
    "    try:\n",
    "        return float(x)\n",
    "    except ValueError:\n",
    "        return x\n",
    "\n",
    "print(attempt_float(1.5), end=\" \")\n",
    "print(type(attempt_float(\"1.5\")), end=\" \")\n",
    "print(type(attempt_float(\"1...5\")))"
   ],
   "id": "b95f8d7be8e74e5a",
   "outputs": [
    {
     "name": "stdout",
     "output_type": "stream",
     "text": [
      "1.5 <class 'float'> <class 'str'>\n"
     ]
    }
   ],
   "execution_count": 14
  },
  {
   "metadata": {
    "ExecuteTime": {
     "end_time": "2025-10-04T07:29:10.997194Z",
     "start_time": "2025-10-04T07:29:10.944302Z"
    }
   },
   "cell_type": "code",
   "source": "print((attempt_float((1, 2))))",
   "id": "1190b82e121a997a",
   "outputs": [
    {
     "ename": "TypeError",
     "evalue": "float() argument must be a string or a real number, not 'tuple'",
     "output_type": "error",
     "traceback": [
      "\u001B[1;31m---------------------------------------------------------------------------\u001B[0m",
      "\u001B[1;31mTypeError\u001B[0m                                 Traceback (most recent call last)",
      "Cell \u001B[1;32mIn[15], line 1\u001B[0m\n\u001B[1;32m----> 1\u001B[0m \u001B[38;5;28mprint\u001B[39m((\u001B[43mattempt_float\u001B[49m\u001B[43m(\u001B[49m\u001B[43m(\u001B[49m\u001B[38;5;241;43m1\u001B[39;49m\u001B[43m,\u001B[49m\u001B[43m \u001B[49m\u001B[38;5;241;43m2\u001B[39;49m\u001B[43m)\u001B[49m\u001B[43m)\u001B[49m))\n",
      "Cell \u001B[1;32mIn[14], line 3\u001B[0m, in \u001B[0;36mattempt_float\u001B[1;34m(x)\u001B[0m\n\u001B[0;32m      1\u001B[0m \u001B[38;5;28;01mdef\u001B[39;00m \u001B[38;5;21mattempt_float\u001B[39m(x):\n\u001B[0;32m      2\u001B[0m     \u001B[38;5;28;01mtry\u001B[39;00m:\n\u001B[1;32m----> 3\u001B[0m         \u001B[38;5;28;01mreturn\u001B[39;00m \u001B[38;5;28;43mfloat\u001B[39;49m\u001B[43m(\u001B[49m\u001B[43mx\u001B[49m\u001B[43m)\u001B[49m\n\u001B[0;32m      4\u001B[0m     \u001B[38;5;28;01mexcept\u001B[39;00m \u001B[38;5;167;01mValueError\u001B[39;00m:\n\u001B[0;32m      5\u001B[0m         \u001B[38;5;28;01mreturn\u001B[39;00m x\n",
      "\u001B[1;31mTypeError\u001B[0m: float() argument must be a string or a real number, not 'tuple'"
     ]
    }
   ],
   "execution_count": 15
  },
  {
   "metadata": {
    "ExecuteTime": {
     "end_time": "2025-10-04T07:29:37.431245Z",
     "start_time": "2025-10-04T07:29:37.418831Z"
    }
   },
   "cell_type": "code",
   "source": [
    "def attempt_float(x):\n",
    "    try:\n",
    "        return float(x)\n",
    "    except (ValueError, TypeError):\n",
    "        return x\n",
    "\n",
    "print((attempt_float((1, 2))))"
   ],
   "id": "e05e629ca848cc38",
   "outputs": [
    {
     "name": "stdout",
     "output_type": "stream",
     "text": [
      "(1, 2)\n"
     ]
    }
   ],
   "execution_count": 16
  },
  {
   "metadata": {
    "ExecuteTime": {
     "end_time": "2025-10-05T04:34:50.352039Z",
     "start_time": "2025-10-05T04:34:50.338972Z"
    }
   },
   "cell_type": "code",
   "source": [
    "f = open(\"README.md\")\n",
    "try:\n",
    "    f.write(\"Data Science Labs\")\n",
    "except (TypeError, ValueError):\n",
    "    print(\"Failed\")\n",
    "else:\n",
    "    print(\"Succeeded\")\n",
    "finally:\n",
    "    f.close()"
   ],
   "id": "843122feffc98443",
   "outputs": [
    {
     "name": "stdout",
     "output_type": "stream",
     "text": [
      "Failed\n"
     ]
    }
   ],
   "execution_count": 6
  },
  {
   "metadata": {
    "ExecuteTime": {
     "end_time": "2025-10-08T22:31:59.714123Z",
     "start_time": "2025-10-08T22:31:59.691814Z"
    }
   },
   "cell_type": "code",
   "source": "path = r\"C:\\Users\\20106\\PycharmProjects\\Data-Science\\scrapped_websites\\page_string.txt\"",
   "id": "31d7b61f69b83a0c",
   "outputs": [],
   "execution_count": 1
  },
  {
   "metadata": {
    "ExecuteTime": {
     "end_time": "2025-10-05T04:43:30.097711Z",
     "start_time": "2025-10-05T04:43:30.086030Z"
    }
   },
   "cell_type": "code",
   "source": "f = open(path, encoding=\"utf-8\")",
   "id": "fc055db2224aca32",
   "outputs": [],
   "execution_count": 8
  },
  {
   "metadata": {},
   "cell_type": "code",
   "source": [
    "for line in f:\n",
    "    print(line)"
   ],
   "id": "72f383c33d6243d5",
   "outputs": [],
   "execution_count": null
  },
  {
   "metadata": {},
   "cell_type": "code",
   "outputs": [],
   "execution_count": null,
   "source": "lines = [x.rstrip() for ]",
   "id": "b540825ecccc71ab"
  },
  {
   "metadata": {
    "ExecuteTime": {
     "end_time": "2025-10-08T13:55:01.659667Z",
     "start_time": "2025-10-08T13:55:01.628634Z"
    }
   },
   "cell_type": "code",
   "source": [
    "# with: automatically closes the files\n",
    "with open(path, encoding='utf-8') as f:\n",
    "    lines = [x.rstrip() for x in f]\n",
    "\n",
    "lines[:10]"
   ],
   "id": "781c006193bd3918",
   "outputs": [
    {
     "data": {
      "text/plain": [
       "['',\n",
       " '',\n",
       " '<!doctype html>',\n",
       " '',\n",
       " '<!--[if gt IE 8]><!-->',\n",
       " '',\n",
       " '<html class=\"no-js\" lang=\"ar\">',\n",
       " '',\n",
       " '<!--<![endif]-->',\n",
       " '']"
      ]
     },
     "execution_count": 10,
     "metadata": {},
     "output_type": "execute_result"
    }
   ],
   "execution_count": 10
  },
  {
   "metadata": {
    "ExecuteTime": {
     "end_time": "2025-10-08T13:54:17.126609Z",
     "start_time": "2025-10-08T13:54:17.105728Z"
    }
   },
   "cell_type": "code",
   "source": [
    "f1 = open(path, mode='rb')\n",
    "\n",
    "f1.read(1)"
   ],
   "id": "3ad3ac832a705afa",
   "outputs": [
    {
     "data": {
      "text/plain": [
       "b'\\r'"
      ]
     },
     "execution_count": 4,
     "metadata": {},
     "output_type": "execute_result"
    }
   ],
   "execution_count": 4
  },
  {
   "metadata": {
    "ExecuteTime": {
     "end_time": "2025-10-08T13:54:17.417598Z",
     "start_time": "2025-10-08T13:54:17.401479Z"
    }
   },
   "cell_type": "code",
   "source": "f1.tell()",
   "id": "448b76796a09eb3b",
   "outputs": [
    {
     "data": {
      "text/plain": [
       "1"
      ]
     },
     "execution_count": 5,
     "metadata": {},
     "output_type": "execute_result"
    }
   ],
   "execution_count": 5
  },
  {
   "metadata": {
    "ExecuteTime": {
     "end_time": "2025-10-08T13:54:18.260457Z",
     "start_time": "2025-10-08T13:54:18.244471Z"
    }
   },
   "cell_type": "code",
   "source": [
    "import sys\n",
    "sys.getdefaultencoding()"
   ],
   "id": "776c178b8cd03802",
   "outputs": [
    {
     "data": {
      "text/plain": [
       "'utf-8'"
      ]
     },
     "execution_count": 6,
     "metadata": {},
     "output_type": "execute_result"
    }
   ],
   "execution_count": 6
  },
  {
   "metadata": {
    "ExecuteTime": {
     "end_time": "2025-10-08T13:55:38.669443Z",
     "start_time": "2025-10-08T13:55:38.653683Z"
    }
   },
   "cell_type": "code",
   "source": [
    "f1.seek(3)\n",
    "f1.read(1)"
   ],
   "id": "bc4a5407f740e6b3",
   "outputs": [
    {
     "data": {
      "text/plain": [
       "b'<'"
      ]
     },
     "execution_count": 13,
     "metadata": {},
     "output_type": "execute_result"
    }
   ],
   "execution_count": 13
  },
  {
   "metadata": {
    "ExecuteTime": {
     "end_time": "2025-10-08T13:55:53.253134Z",
     "start_time": "2025-10-08T13:55:53.233300Z"
    }
   },
   "cell_type": "code",
   "source": [
    "f1.seek(1)\n",
    "f1.read(3)"
   ],
   "id": "32e3dbdbce3c253e",
   "outputs": [
    {
     "data": {
      "text/plain": [
       "b'\\r\\n<'"
      ]
     },
     "execution_count": 14,
     "metadata": {},
     "output_type": "execute_result"
    }
   ],
   "execution_count": 14
  },
  {
   "metadata": {
    "ExecuteTime": {
     "end_time": "2025-10-08T13:56:07.410585Z",
     "start_time": "2025-10-08T13:56:07.383092Z"
    }
   },
   "cell_type": "code",
   "source": "f1.close()",
   "id": "82aad491c0a7daf2",
   "outputs": [],
   "execution_count": 15
  },
  {
   "metadata": {
    "ExecuteTime": {
     "end_time": "2025-10-08T14:01:39.187302Z",
     "start_time": "2025-10-08T14:01:39.177364Z"
    }
   },
   "cell_type": "code",
   "source": [
    "# UTF-8 character can be represented in 1-4 bytes (variable)\n",
    "# So if you open a file txt (default) reader it will read number of bytes between x and 4x\n",
    "# But if you open a file binary reader, it will read only x bytes which are written in your file"
   ],
   "id": "4e1f4e9830d46486",
   "outputs": [],
   "execution_count": 17
  },
  {
   "metadata": {
    "ExecuteTime": {
     "end_time": "2025-10-08T14:02:36.252464Z",
     "start_time": "2025-10-08T14:02:36.237395Z"
    }
   },
   "cell_type": "code",
   "source": [
    "with open(path, mode='rb') as f:\n",
    "    data = f.read(10)\n",
    "\n",
    "data"
   ],
   "id": "546d45edf18a085d",
   "outputs": [
    {
     "data": {
      "text/plain": [
       "b'\\r\\r\\n<!docty'"
      ]
     },
     "execution_count": 19,
     "metadata": {},
     "output_type": "execute_result"
    }
   ],
   "execution_count": 19
  },
  {
   "metadata": {
    "ExecuteTime": {
     "end_time": "2025-10-08T14:04:27.688009Z",
     "start_time": "2025-10-08T14:04:27.670177Z"
    }
   },
   "cell_type": "code",
   "source": [
    "with open(path, mode='r', encoding='utf-8') as f:\n",
    "    data = f.read(10)\n",
    "\n",
    "data"
   ],
   "id": "3c2bd8a5512276bd",
   "outputs": [
    {
     "data": {
      "text/plain": [
       "'\\n\\n<!doctyp'"
      ]
     },
     "execution_count": 22,
     "metadata": {},
     "output_type": "execute_result"
    }
   ],
   "execution_count": 22
  },
  {
   "metadata": {
    "ExecuteTime": {
     "end_time": "2025-10-08T22:33:44.067130Z",
     "start_time": "2025-10-08T22:33:44.049241Z"
    }
   },
   "cell_type": "code",
   "source": [
    "with open(path, mode=\"rb\") as f:\n",
    "    data = f.read(15)\n",
    "\n",
    "data"
   ],
   "id": "d32a4d8a97f28d14",
   "outputs": [
    {
     "data": {
      "text/plain": [
       "b'\\r\\r\\n<!doctype ht'"
      ]
     },
     "execution_count": 9,
     "metadata": {},
     "output_type": "execute_result"
    }
   ],
   "execution_count": 9
  },
  {
   "metadata": {
    "ExecuteTime": {
     "end_time": "2025-10-08T22:33:44.874023Z",
     "start_time": "2025-10-08T22:33:44.848549Z"
    }
   },
   "cell_type": "code",
   "source": "data.decode(\"utf-8\")",
   "id": "5088ee6cecf31b0b",
   "outputs": [
    {
     "data": {
      "text/plain": [
       "'\\r\\r\\n<!doctype ht'"
      ]
     },
     "execution_count": 10,
     "metadata": {},
     "output_type": "execute_result"
    }
   ],
   "execution_count": 10
  },
  {
   "metadata": {
    "ExecuteTime": {
     "end_time": "2025-10-08T22:33:52.069082Z",
     "start_time": "2025-10-08T22:33:52.042458Z"
    }
   },
   "cell_type": "code",
   "source": "data[:11].decode(\"utf-8\")",
   "id": "14fb60fa3d16dafc",
   "outputs": [
    {
     "data": {
      "text/plain": [
       "'\\r\\r\\n<!doctyp'"
      ]
     },
     "execution_count": 12,
     "metadata": {},
     "output_type": "execute_result"
    }
   ],
   "execution_count": 12
  },
  {
   "metadata": {
    "ExecuteTime": {
     "end_time": "2025-10-09T18:14:01.595076Z",
     "start_time": "2025-10-09T18:14:01.583955Z"
    }
   },
   "cell_type": "code",
   "source": [
    "path = r\"C:\\Users\\20106\\PycharmProjects\\Data-Science\\Datasets\\IMDB Dataset.csv\"\n",
    "sink_path = r\"C:\\Users\\20106\\PycharmProjects\\Data-Science\\Datasets\\IMDB_binary.csv\""
   ],
   "id": "c181c2f563fba313",
   "outputs": [],
   "execution_count": 3
  },
  {
   "metadata": {
    "ExecuteTime": {
     "end_time": "2025-10-09T18:18:39.118825Z",
     "start_time": "2025-10-09T18:18:38.432670Z"
    }
   },
   "cell_type": "code",
   "source": [
    "with open(path, encoding=\"utf-8\") as source:\n",
    "    with open(sink_path, \"x\", encoding=\"iso-8859-1\") as sink:\n",
    "        sink.write(source.read())"
   ],
   "id": "c838d72e3112363b",
   "outputs": [
    {
     "ename": "UnicodeEncodeError",
     "evalue": "'latin-1' codec can't encode character '\\u2019' in position 466570: ordinal not in range(256)",
     "output_type": "error",
     "traceback": [
      "\u001B[1;31m---------------------------------------------------------------------------\u001B[0m",
      "\u001B[1;31mUnicodeEncodeError\u001B[0m                        Traceback (most recent call last)",
      "Cell \u001B[1;32mIn[6], line 3\u001B[0m\n\u001B[0;32m      1\u001B[0m \u001B[38;5;28;01mwith\u001B[39;00m \u001B[38;5;28mopen\u001B[39m(path, encoding\u001B[38;5;241m=\u001B[39m\u001B[38;5;124m\"\u001B[39m\u001B[38;5;124mutf-8\u001B[39m\u001B[38;5;124m\"\u001B[39m) \u001B[38;5;28;01mas\u001B[39;00m source:\n\u001B[0;32m      2\u001B[0m     \u001B[38;5;28;01mwith\u001B[39;00m \u001B[38;5;28mopen\u001B[39m(sink_path, \u001B[38;5;124m\"\u001B[39m\u001B[38;5;124mx\u001B[39m\u001B[38;5;124m\"\u001B[39m, encoding\u001B[38;5;241m=\u001B[39m\u001B[38;5;124m\"\u001B[39m\u001B[38;5;124miso-8859-1\u001B[39m\u001B[38;5;124m\"\u001B[39m) \u001B[38;5;28;01mas\u001B[39;00m sink:\n\u001B[1;32m----> 3\u001B[0m         \u001B[43msink\u001B[49m\u001B[38;5;241;43m.\u001B[39;49m\u001B[43mwrite\u001B[49m\u001B[43m(\u001B[49m\u001B[43msource\u001B[49m\u001B[38;5;241;43m.\u001B[39;49m\u001B[43mread\u001B[49m\u001B[43m(\u001B[49m\u001B[43m)\u001B[49m\u001B[43m)\u001B[49m\n",
      "\u001B[1;31mUnicodeEncodeError\u001B[0m: 'latin-1' codec can't encode character '\\u2019' in position 466570: ordinal not in range(256)"
     ]
    }
   ],
   "execution_count": 6
  },
  {
   "metadata": {},
   "cell_type": "code",
   "outputs": [],
   "execution_count": null,
   "source": [
    "\"\"\"Beware using seek when opening files in any mode other than binary. If the\n",
    "file position falls in the middle of the bytes defining a Unicode character, then\n",
    "subsequent reads will result in an error:\n",
    "In [269]: f = open(path, encoding=\"\"\""
   ],
   "id": "3451762b93a7bdf9"
  },
  {
   "metadata": {},
   "cell_type": "markdown",
   "source": "## Chapter 4: NumPy Basics: Arrays and Vectorized Computation",
   "id": "fc45981d52400d7b"
  },
  {
   "metadata": {
    "ExecuteTime": {
     "end_time": "2025-10-10T16:47:17.318793Z",
     "start_time": "2025-10-10T16:47:17.284681Z"
    }
   },
   "cell_type": "code",
   "source": [
    "\"\"\"مكونات نامباي:\n",
    "* ndarray: السرعة في العلميات\n",
    "* math functions: عمليات سرعة على الأرراي من غير لووبس\n",
    "* للكتابة القراءة من والى الديسك\n",
    "* الجبر الخطي؛ توليد الأرقام العشوائية؛ قدرات فوريرية ترانسفورمية\n",
    " * واجهة تربط النامباي بال c,c++, fortran\"\"\""
   ],
   "id": "bbde61f6c33fb3fc",
   "outputs": [
    {
     "data": {
      "text/plain": [
       "'مكونات نامباي:\\n* ndarray: السرعة في العلميات\\n* math functions: عمليات سرعة على الأرراي من غير لووبس\\n* للكتابة القراءة من والى الديسك\\n* الجبر الخطي؛ توليد الأرقام العشوائية؛ قدرات فوريرية ترانسفورمية\\n * واجهة تربط النامباي بال c,c++, fortran'"
      ]
     },
     "execution_count": 1,
     "metadata": {},
     "output_type": "execute_result"
    }
   ],
   "execution_count": 1
  },
  {
   "metadata": {
    "ExecuteTime": {
     "end_time": "2025-10-15T01:19:33.444951Z",
     "start_time": "2025-10-15T01:19:33.151102Z"
    }
   },
   "cell_type": "code",
   "source": "import numpy as np",
   "id": "2579c333db192b87",
   "outputs": [],
   "execution_count": 2
  },
  {
   "metadata": {
    "ExecuteTime": {
     "end_time": "2025-10-13T02:09:01.842271Z",
     "start_time": "2025-10-13T02:08:55.258295Z"
    }
   },
   "cell_type": "code",
   "source": [
    "my_arr = np.arange(1000000)\n",
    "my_list = list(range(1000000))"
   ],
   "id": "1448d8ce20f0b2b1",
   "outputs": [],
   "execution_count": 1
  },
  {
   "metadata": {
    "ExecuteTime": {
     "end_time": "2025-10-13T02:09:57.723323Z",
     "start_time": "2025-10-13T02:09:41.114559Z"
    }
   },
   "cell_type": "code",
   "source": "%timeit my_arr2 = my_arr * 2",
   "id": "721960be29fd5274",
   "outputs": [
    {
     "name": "stdout",
     "output_type": "stream",
     "text": [
      "1.85 ms ± 10.4 µs per loop (mean ± std. dev. of 7 runs, 1,000 loops each)\n"
     ]
    }
   ],
   "execution_count": 2
  },
  {
   "metadata": {
    "ExecuteTime": {
     "end_time": "2025-10-13T02:10:21.199370Z",
     "start_time": "2025-10-13T02:10:08.443653Z"
    }
   },
   "cell_type": "code",
   "source": "%timeit myist2 = [x * 2 for x in my_list]",
   "id": "3b1cf5eec9a7a2de",
   "outputs": [
    {
     "name": "stdout",
     "output_type": "stream",
     "text": [
      "154 ms ± 3.01 ms per loop (mean ± std. dev. of 7 runs, 10 loops each)\n"
     ]
    }
   ],
   "execution_count": 3
  },
  {
   "metadata": {},
   "cell_type": "code",
   "outputs": [],
   "execution_count": null,
   "source": "# NumPy-based algorithms are generally 10 to 100 times faster (or more) than their pure Python counterparts and use significantly less memory.",
   "id": "5593dd025cf243a4"
  },
  {
   "metadata": {
    "ExecuteTime": {
     "end_time": "2025-10-13T02:14:09.317121Z",
     "start_time": "2025-10-13T02:14:09.295348Z"
    }
   },
   "cell_type": "code",
   "source": [
    "# Batch ops in numpy\n",
    "data = np.array([[0,1,2],[3,4,5]])\n",
    "data"
   ],
   "id": "a0732f2f34a08eb8",
   "outputs": [
    {
     "data": {
      "text/plain": [
       "array([[0, 1, 2],\n",
       "       [3, 4, 5]])"
      ]
     },
     "execution_count": 10,
     "metadata": {},
     "output_type": "execute_result"
    }
   ],
   "execution_count": 10
  },
  {
   "metadata": {
    "ExecuteTime": {
     "end_time": "2025-10-13T02:25:11.822995Z",
     "start_time": "2025-10-13T02:25:11.806500Z"
    }
   },
   "cell_type": "code",
   "source": "data * 10",
   "id": "1b5baf5012fec14c",
   "outputs": [
    {
     "data": {
      "text/plain": [
       "array([[ 0, 10, 20],\n",
       "       [30, 40, 50]])"
      ]
     },
     "execution_count": 11,
     "metadata": {},
     "output_type": "execute_result"
    }
   ],
   "execution_count": 11
  },
  {
   "metadata": {
    "ExecuteTime": {
     "end_time": "2025-10-13T02:25:22.493718Z",
     "start_time": "2025-10-13T02:25:22.474485Z"
    }
   },
   "cell_type": "code",
   "source": "data + data",
   "id": "1c5eb0ea1bef870f",
   "outputs": [
    {
     "data": {
      "text/plain": [
       "array([[ 0,  2,  4],\n",
       "       [ 6,  8, 10]])"
      ]
     },
     "execution_count": 12,
     "metadata": {},
     "output_type": "execute_result"
    }
   ],
   "execution_count": 12
  },
  {
   "metadata": {
    "ExecuteTime": {
     "end_time": "2025-10-13T02:26:26.050802Z",
     "start_time": "2025-10-13T02:26:26.036207Z"
    }
   },
   "cell_type": "code",
   "source": "data.shape",
   "id": "cdad05e02ab1d62c",
   "outputs": [
    {
     "data": {
      "text/plain": [
       "(2, 3)"
      ]
     },
     "execution_count": 13,
     "metadata": {},
     "output_type": "execute_result"
    }
   ],
   "execution_count": 13
  },
  {
   "metadata": {
    "ExecuteTime": {
     "end_time": "2025-10-13T02:26:35.504165Z",
     "start_time": "2025-10-13T02:26:35.484193Z"
    }
   },
   "cell_type": "code",
   "source": "data.dtype",
   "id": "7916ddd091d17704",
   "outputs": [
    {
     "data": {
      "text/plain": [
       "dtype('int32')"
      ]
     },
     "execution_count": 14,
     "metadata": {},
     "output_type": "execute_result"
    }
   ],
   "execution_count": 14
  },
  {
   "metadata": {
    "ExecuteTime": {
     "end_time": "2025-10-13T02:27:12.698701Z",
     "start_time": "2025-10-13T02:27:12.677540Z"
    }
   },
   "cell_type": "code",
   "source": "type(data)",
   "id": "6f79d706066a271e",
   "outputs": [
    {
     "data": {
      "text/plain": [
       "numpy.ndarray"
      ]
     },
     "execution_count": 15,
     "metadata": {},
     "output_type": "execute_result"
    }
   ],
   "execution_count": 15
  },
  {
   "metadata": {
    "ExecuteTime": {
     "end_time": "2025-10-13T02:33:19.181298Z",
     "start_time": "2025-10-13T02:33:19.161242Z"
    }
   },
   "cell_type": "code",
   "source": [
    "data1 = [6, 7.5, 8, 0, 1]\n",
    "arr1 = np.array(data1)\n",
    "arr1\n",
    "# Easiest way => from a any sequence data"
   ],
   "id": "402221bea65e895c",
   "outputs": [
    {
     "data": {
      "text/plain": [
       "array([6. , 7.5, 8. , 0. , 1. ])"
      ]
     },
     "execution_count": 16,
     "metadata": {},
     "output_type": "execute_result"
    }
   ],
   "execution_count": 16
  },
  {
   "metadata": {
    "ExecuteTime": {
     "end_time": "2025-10-13T02:34:16.323608Z",
     "start_time": "2025-10-13T02:34:16.304452Z"
    }
   },
   "cell_type": "code",
   "source": [
    "seq2 = (1, 2, 5)\n",
    "arr2 = np.array(seq2)\n",
    "arr2"
   ],
   "id": "5ef53be945988d17",
   "outputs": [
    {
     "data": {
      "text/plain": [
       "array([1, 2, 5])"
      ]
     },
     "execution_count": 17,
     "metadata": {},
     "output_type": "execute_result"
    }
   ],
   "execution_count": 17
  },
  {
   "metadata": {
    "ExecuteTime": {
     "end_time": "2025-10-13T02:34:45.289569Z",
     "start_time": "2025-10-13T02:34:45.272257Z"
    }
   },
   "cell_type": "code",
   "source": [
    "seq3 = {1, 2, 4} # Doesn't work\n",
    "arr3 = np.array(seq3)\n",
    "arr3"
   ],
   "id": "b83d913b09d63c69",
   "outputs": [
    {
     "data": {
      "text/plain": [
       "array({1, 2, 4}, dtype=object)"
      ]
     },
     "execution_count": 18,
     "metadata": {},
     "output_type": "execute_result"
    }
   ],
   "execution_count": 18
  },
  {
   "metadata": {
    "ExecuteTime": {
     "end_time": "2025-10-13T02:35:04.047505Z",
     "start_time": "2025-10-13T02:35:03.672500Z"
    }
   },
   "cell_type": "code",
   "source": "arr3[0]",
   "id": "e58a53aa15ab2d7d",
   "outputs": [
    {
     "ename": "IndexError",
     "evalue": "too many indices for array: array is 0-dimensional, but 1 were indexed",
     "output_type": "error",
     "traceback": [
      "\u001B[1;31m---------------------------------------------------------------------------\u001B[0m",
      "\u001B[1;31mIndexError\u001B[0m                                Traceback (most recent call last)",
      "Cell \u001B[1;32mIn[19], line 1\u001B[0m\n\u001B[1;32m----> 1\u001B[0m \u001B[43marr3\u001B[49m\u001B[43m[\u001B[49m\u001B[38;5;241;43m0\u001B[39;49m\u001B[43m]\u001B[49m\n",
      "\u001B[1;31mIndexError\u001B[0m: too many indices for array: array is 0-dimensional, but 1 were indexed"
     ]
    }
   ],
   "execution_count": 19
  },
  {
   "metadata": {
    "ExecuteTime": {
     "end_time": "2025-10-13T02:36:52.698627Z",
     "start_time": "2025-10-13T02:36:52.679075Z"
    }
   },
   "cell_type": "code",
   "source": [
    "seq4 = [[1, 2, 3], [4, 5, 6]]\n",
    "arr4 = np.array(seq4)\n",
    "arr4"
   ],
   "id": "d303c9d82c7c94aa",
   "outputs": [
    {
     "data": {
      "text/plain": [
       "array([[1, 2, 3],\n",
       "       [4, 5, 6]])"
      ]
     },
     "execution_count": 20,
     "metadata": {},
     "output_type": "execute_result"
    }
   ],
   "execution_count": 20
  },
  {
   "metadata": {
    "ExecuteTime": {
     "end_time": "2025-10-13T02:37:29.337895Z",
     "start_time": "2025-10-13T02:37:29.320428Z"
    }
   },
   "cell_type": "code",
   "source": "arr1.ndim, arr2.ndim, arr3.ndim, arr4.ndim",
   "id": "4b698c85920bacfa",
   "outputs": [
    {
     "data": {
      "text/plain": [
       "(1, 1, 0, 2)"
      ]
     },
     "execution_count": 21,
     "metadata": {},
     "output_type": "execute_result"
    }
   ],
   "execution_count": 21
  },
  {
   "metadata": {
    "ExecuteTime": {
     "end_time": "2025-10-13T02:37:55.188059Z",
     "start_time": "2025-10-13T02:37:55.171047Z"
    }
   },
   "cell_type": "code",
   "source": "arr1.shape, arr2.shape, arr3.shape, arr4.shape",
   "id": "2501c4badbf64089",
   "outputs": [
    {
     "data": {
      "text/plain": [
       "((5,), (3,), (), (2, 3))"
      ]
     },
     "execution_count": 22,
     "metadata": {},
     "output_type": "execute_result"
    }
   ],
   "execution_count": 22
  },
  {
   "metadata": {
    "ExecuteTime": {
     "end_time": "2025-10-13T02:40:12.769081Z",
     "start_time": "2025-10-13T02:40:12.749889Z"
    }
   },
   "cell_type": "code",
   "source": "np.zeros(10)",
   "id": "4a43f52be09e9814",
   "outputs": [
    {
     "data": {
      "text/plain": [
       "array([0., 0., 0., 0., 0., 0., 0., 0., 0., 0.])"
      ]
     },
     "execution_count": 23,
     "metadata": {},
     "output_type": "execute_result"
    }
   ],
   "execution_count": 23
  },
  {
   "metadata": {
    "ExecuteTime": {
     "end_time": "2025-10-13T02:40:25.344935Z",
     "start_time": "2025-10-13T02:40:25.318597Z"
    }
   },
   "cell_type": "code",
   "source": [
    "np.empty(10)\n",
    "\"\"\"It’s not safe to assume that numpy.empty will return an array of all\n",
    "zeros. This function returns uninitialized memory and thus may contain\n",
    "nonzero “garbage” values. You should use this function only if you intend\n",
    "to populate the new array with data.\"\"\""
   ],
   "id": "b74ac87cd1b5df54",
   "outputs": [
    {
     "data": {
      "text/plain": [
       "array([0., 0., 0., 0., 0., 0., 0., 0., 0., 0.])"
      ]
     },
     "execution_count": 25,
     "metadata": {},
     "output_type": "execute_result"
    }
   ],
   "execution_count": 25
  },
  {
   "metadata": {
    "ExecuteTime": {
     "end_time": "2025-10-13T02:40:38.662417Z",
     "start_time": "2025-10-13T02:40:38.635993Z"
    }
   },
   "cell_type": "code",
   "source": "np.ones((2, 2))",
   "id": "1b637f52ce9d9c90",
   "outputs": [
    {
     "data": {
      "text/plain": [
       "array([[1., 1.],\n",
       "       [1., 1.]])"
      ]
     },
     "execution_count": 26,
     "metadata": {},
     "output_type": "execute_result"
    }
   ],
   "execution_count": 26
  },
  {
   "metadata": {
    "ExecuteTime": {
     "end_time": "2025-10-13T02:41:00.221943Z",
     "start_time": "2025-10-13T02:41:00.186628Z"
    }
   },
   "cell_type": "code",
   "source": "np.empty((2, 2, 2))",
   "id": "55dbb28b7e8c3253",
   "outputs": [
    {
     "data": {
      "text/plain": [
       "array([[[5.43472210e-322, 1.38629608e-314],\n",
       "        [0.00000000e+000, 0.00000000e+000]],\n",
       "\n",
       "       [[0.00000000e+000, 1.37350250e-320],\n",
       "        [0.00000000e+000, 1.94693963e-308]]])"
      ]
     },
     "execution_count": 28,
     "metadata": {},
     "output_type": "execute_result"
    }
   ],
   "execution_count": 28
  },
  {
   "metadata": {
    "ExecuteTime": {
     "end_time": "2025-10-13T02:49:12.801843Z",
     "start_time": "2025-10-13T02:49:12.786505Z"
    }
   },
   "cell_type": "code",
   "source": "np.arange(15).dtype",
   "id": "daf5a4658a1e4366",
   "outputs": [
    {
     "data": {
      "text/plain": [
       "dtype('int32')"
      ]
     },
     "execution_count": 30,
     "metadata": {},
     "output_type": "execute_result"
    }
   ],
   "execution_count": 30
  },
  {
   "metadata": {
    "ExecuteTime": {
     "end_time": "2025-10-13T02:50:35.291108Z",
     "start_time": "2025-10-13T02:50:35.275637Z"
    }
   },
   "cell_type": "code",
   "source": [
    "arr1 = np.array([[1, 2, 3], [4, 5, 6]], dtype=np.float64)\n",
    "arr2 = np.array([[1, 2, 3], [4, 5, 6]], dtype=np.int32)"
   ],
   "id": "9e08e0821a06edd1",
   "outputs": [],
   "execution_count": 31
  },
  {
   "metadata": {
    "ExecuteTime": {
     "end_time": "2025-10-13T02:50:53.336691Z",
     "start_time": "2025-10-13T02:50:53.315840Z"
    }
   },
   "cell_type": "code",
   "source": "arr1.dtype, arr2.dtype",
   "id": "9538dadb2ec06161",
   "outputs": [
    {
     "data": {
      "text/plain": [
       "(dtype('float64'), dtype('int32'))"
      ]
     },
     "execution_count": 32,
     "metadata": {},
     "output_type": "execute_result"
    }
   ],
   "execution_count": 32
  },
  {
   "metadata": {
    "ExecuteTime": {
     "end_time": "2025-10-14T01:40:50.673987Z",
     "start_time": "2025-10-14T01:40:50.280452Z"
    }
   },
   "cell_type": "code",
   "source": [
    "arr = np.array([1, 2, 3, 4, 5])\n",
    "arr.dtype"
   ],
   "id": "cacfd9d16037584",
   "outputs": [
    {
     "data": {
      "text/plain": [
       "dtype('int32')"
      ]
     },
     "execution_count": 1,
     "metadata": {},
     "output_type": "execute_result"
    }
   ],
   "execution_count": 1
  },
  {
   "metadata": {
    "ExecuteTime": {
     "end_time": "2025-10-14T01:41:25.552035Z",
     "start_time": "2025-10-14T01:41:25.529491Z"
    }
   },
   "cell_type": "code",
   "source": [
    "# casting\n",
    "float_arr = arr.astype(np.float64)\n",
    "float_arr, float_arr.dtype"
   ],
   "id": "95e42636f68b384b",
   "outputs": [
    {
     "data": {
      "text/plain": [
       "(array([1., 2., 3., 4., 5.]), dtype('float64'))"
      ]
     },
     "execution_count": 2,
     "metadata": {},
     "output_type": "execute_result"
    }
   ],
   "execution_count": 2
  },
  {
   "metadata": {
    "ExecuteTime": {
     "end_time": "2025-10-14T01:42:43.818556Z",
     "start_time": "2025-10-14T01:42:43.801978Z"
    }
   },
   "cell_type": "code",
   "source": [
    "arr = np.array([3.7, 1.2, .02, 9.1, -4.5])\n",
    "arr"
   ],
   "id": "4b9caca9ef3bdda6",
   "outputs": [
    {
     "data": {
      "text/plain": [
       "array([ 3.7 ,  1.2 ,  0.02,  9.1 , -4.5 ])"
      ]
     },
     "execution_count": 4,
     "metadata": {},
     "output_type": "execute_result"
    }
   ],
   "execution_count": 4
  },
  {
   "metadata": {
    "ExecuteTime": {
     "end_time": "2025-10-14T01:42:58.848414Z",
     "start_time": "2025-10-14T01:42:58.828933Z"
    }
   },
   "cell_type": "code",
   "source": "arr.astype(np.int32)",
   "id": "90d0150fb50e1d37",
   "outputs": [
    {
     "data": {
      "text/plain": [
       "array([ 3,  1,  0,  9, -4])"
      ]
     },
     "execution_count": 5,
     "metadata": {},
     "output_type": "execute_result"
    }
   ],
   "execution_count": 5
  },
  {
   "metadata": {
    "ExecuteTime": {
     "end_time": "2025-10-14T01:45:27.817499Z",
     "start_time": "2025-10-14T01:45:27.797742Z"
    }
   },
   "cell_type": "code",
   "source": [
    "numeric_strings = np.array([\"1.25\", \"-9.6\", \"42\"])\n",
    "numeric_strings.astype(float) * 2"
   ],
   "id": "8549a45724183272",
   "outputs": [
    {
     "data": {
      "text/plain": [
       "array([  2.5, -19.2,  84. ])"
      ]
     },
     "execution_count": 7,
     "metadata": {},
     "output_type": "execute_result"
    }
   ],
   "execution_count": 7
  },
  {
   "metadata": {
    "ExecuteTime": {
     "end_time": "2025-10-15T01:19:40.486678Z",
     "start_time": "2025-10-15T01:19:40.476683Z"
    }
   },
   "cell_type": "code",
   "source": "int_array = np.arange(10)",
   "id": "cf9b2e1fa7b664e7",
   "outputs": [],
   "execution_count": 3
  },
  {
   "metadata": {
    "ExecuteTime": {
     "end_time": "2025-10-15T01:20:28.821457Z",
     "start_time": "2025-10-15T01:20:28.803710Z"
    }
   },
   "cell_type": "code",
   "source": [
    "calibers = np.array([.22, .270, .357, .380, .44, .50])\n",
    "int_array.astype(calibers.dtype)"
   ],
   "id": "bc44fb3e6bda18d8",
   "outputs": [
    {
     "data": {
      "text/plain": [
       "array([0., 1., 2., 3., 4., 5., 6., 7., 8., 9.])"
      ]
     },
     "execution_count": 5,
     "metadata": {},
     "output_type": "execute_result"
    }
   ],
   "execution_count": 5
  },
  {
   "metadata": {
    "ExecuteTime": {
     "end_time": "2025-10-15T01:21:22.183132Z",
     "start_time": "2025-10-15T01:21:22.166670Z"
    }
   },
   "cell_type": "code",
   "source": [
    "zero_uint32 = np.zeros(8, dtype=\"u4\")\n",
    "zero_uint32"
   ],
   "id": "a83a206b41930a05",
   "outputs": [
    {
     "data": {
      "text/plain": [
       "array([0, 0, 0, 0, 0, 0, 0, 0], dtype=uint32)"
      ]
     },
     "execution_count": 6,
     "metadata": {},
     "output_type": "execute_result"
    }
   ],
   "execution_count": 6
  },
  {
   "metadata": {
    "ExecuteTime": {
     "end_time": "2025-10-15T01:21:57.109164Z",
     "start_time": "2025-10-15T01:21:57.095148Z"
    }
   },
   "cell_type": "code",
   "source": [
    "arr = np.array([[1., 2., 3.], [4., 5., 6.]])\n",
    "arr"
   ],
   "id": "34f54ee04c2d6eae",
   "outputs": [
    {
     "data": {
      "text/plain": [
       "array([[1., 2., 3.],\n",
       "       [4., 5., 6.]])"
      ]
     },
     "execution_count": 7,
     "metadata": {},
     "output_type": "execute_result"
    }
   ],
   "execution_count": 7
  },
  {
   "metadata": {
    "ExecuteTime": {
     "end_time": "2025-10-15T01:22:07.588660Z",
     "start_time": "2025-10-15T01:22:07.574829Z"
    }
   },
   "cell_type": "code",
   "source": "arr * arr",
   "id": "8678dd177b13874c",
   "outputs": [
    {
     "data": {
      "text/plain": [
       "array([[ 1.,  4.,  9.],\n",
       "       [16., 25., 36.]])"
      ]
     },
     "execution_count": 8,
     "metadata": {},
     "output_type": "execute_result"
    }
   ],
   "execution_count": 8
  },
  {
   "metadata": {
    "ExecuteTime": {
     "end_time": "2025-10-15T01:22:17.637827Z",
     "start_time": "2025-10-15T01:22:17.623154Z"
    }
   },
   "cell_type": "code",
   "source": "arr/arr",
   "id": "66197b8ec075d4c9",
   "outputs": [
    {
     "data": {
      "text/plain": [
       "array([[1., 1., 1.],\n",
       "       [1., 1., 1.]])"
      ]
     },
     "execution_count": 9,
     "metadata": {},
     "output_type": "execute_result"
    }
   ],
   "execution_count": 9
  },
  {
   "metadata": {
    "ExecuteTime": {
     "end_time": "2025-10-15T01:22:36.699795Z",
     "start_time": "2025-10-15T01:22:36.684772Z"
    }
   },
   "cell_type": "code",
   "source": "arr ** -5",
   "id": "907cd4a1d882361d",
   "outputs": [
    {
     "data": {
      "text/plain": [
       "array([[1.00000000e+00, 3.12500000e-02, 4.11522634e-03],\n",
       "       [9.76562500e-04, 3.20000000e-04, 1.28600823e-04]])"
      ]
     },
     "execution_count": 10,
     "metadata": {},
     "output_type": "execute_result"
    }
   ],
   "execution_count": 10
  },
  {
   "metadata": {
    "ExecuteTime": {
     "end_time": "2025-10-15T01:24:06.399819Z",
     "start_time": "2025-10-15T01:24:06.381125Z"
    }
   },
   "cell_type": "code",
   "source": [
    "arr2 = np.array([[1., 2., 3.], [4., 5., 6.]])\n",
    "arr2"
   ],
   "id": "10d60389663b2a76",
   "outputs": [
    {
     "data": {
      "text/plain": [
       "array([[1., 2., 3.],\n",
       "       [4., 5., 6.]])"
      ]
     },
     "execution_count": 11,
     "metadata": {},
     "output_type": "execute_result"
    }
   ],
   "execution_count": 11
  },
  {
   "metadata": {
    "ExecuteTime": {
     "end_time": "2025-10-15T01:24:15.312550Z",
     "start_time": "2025-10-15T01:24:15.297370Z"
    }
   },
   "cell_type": "code",
   "source": "arr2 > arr",
   "id": "2193221db6b91342",
   "outputs": [
    {
     "data": {
      "text/plain": [
       "array([[False, False, False],\n",
       "       [False, False, False]])"
      ]
     },
     "execution_count": 12,
     "metadata": {},
     "output_type": "execute_result"
    }
   ],
   "execution_count": 12
  },
  {
   "metadata": {
    "ExecuteTime": {
     "end_time": "2025-10-15T01:25:36.461627Z",
     "start_time": "2025-10-15T01:25:36.440455Z"
    }
   },
   "cell_type": "code",
   "source": [
    "arr = np.arange(10)\n",
    "arr"
   ],
   "id": "f7b686d214322e23",
   "outputs": [
    {
     "data": {
      "text/plain": [
       "array([0, 1, 2, 3, 4, 5, 6, 7, 8, 9])"
      ]
     },
     "execution_count": 13,
     "metadata": {},
     "output_type": "execute_result"
    }
   ],
   "execution_count": 13
  },
  {
   "metadata": {
    "ExecuteTime": {
     "end_time": "2025-10-15T01:25:43.584289Z",
     "start_time": "2025-10-15T01:25:43.566737Z"
    }
   },
   "cell_type": "code",
   "source": "arr[5]",
   "id": "bcb9f1f17f43dffd",
   "outputs": [
    {
     "data": {
      "text/plain": [
       "5"
      ]
     },
     "execution_count": 14,
     "metadata": {},
     "output_type": "execute_result"
    }
   ],
   "execution_count": 14
  },
  {
   "metadata": {
    "ExecuteTime": {
     "end_time": "2025-10-15T01:25:50.388410Z",
     "start_time": "2025-10-15T01:25:50.370863Z"
    }
   },
   "cell_type": "code",
   "source": "arr[5:8]",
   "id": "24c4bb5314007a8b",
   "outputs": [
    {
     "data": {
      "text/plain": [
       "array([5, 6, 7])"
      ]
     },
     "execution_count": 15,
     "metadata": {},
     "output_type": "execute_result"
    }
   ],
   "execution_count": 15
  },
  {
   "metadata": {
    "ExecuteTime": {
     "end_time": "2025-10-15T01:26:02.956914Z",
     "start_time": "2025-10-15T01:26:02.941296Z"
    }
   },
   "cell_type": "code",
   "source": [
    "arr[5:8] = 6\n",
    "arr"
   ],
   "id": "2b2dc64ecbaf5402",
   "outputs": [
    {
     "data": {
      "text/plain": [
       "array([0, 1, 2, 3, 4, 6, 6, 6, 8, 9])"
      ]
     },
     "execution_count": 16,
     "metadata": {},
     "output_type": "execute_result"
    }
   ],
   "execution_count": 16
  },
  {
   "metadata": {
    "ExecuteTime": {
     "end_time": "2025-10-15T01:26:38.409774Z",
     "start_time": "2025-10-15T01:26:38.393012Z"
    }
   },
   "cell_type": "code",
   "source": "arr[5:8] = [7]",
   "id": "27bb838c6b5e2d9e",
   "outputs": [],
   "execution_count": 17
  },
  {
   "metadata": {
    "ExecuteTime": {
     "end_time": "2025-10-15T01:26:44.394302Z",
     "start_time": "2025-10-15T01:26:44.370889Z"
    }
   },
   "cell_type": "code",
   "source": "arr",
   "id": "76b2a1f2b399a54b",
   "outputs": [
    {
     "data": {
      "text/plain": [
       "array([0, 1, 2, 3, 4, 7, 7, 7, 8, 9])"
      ]
     },
     "execution_count": 18,
     "metadata": {},
     "output_type": "execute_result"
    }
   ],
   "execution_count": 18
  },
  {
   "metadata": {
    "ExecuteTime": {
     "end_time": "2025-10-15T01:28:58.464328Z",
     "start_time": "2025-10-15T01:28:58.453427Z"
    }
   },
   "cell_type": "code",
   "source": "arr_slice = arr[5:8]",
   "id": "f5b4c1bfc2a747c5",
   "outputs": [],
   "execution_count": 22
  },
  {
   "metadata": {
    "ExecuteTime": {
     "end_time": "2025-10-15T01:29:03.730359Z",
     "start_time": "2025-10-15T01:29:03.716479Z"
    }
   },
   "cell_type": "code",
   "source": "arr_slice[:] = 2",
   "id": "86e62b2ccd9b261f",
   "outputs": [],
   "execution_count": 23
  },
  {
   "metadata": {
    "ExecuteTime": {
     "end_time": "2025-10-15T01:29:05.038267Z",
     "start_time": "2025-10-15T01:29:05.024410Z"
    }
   },
   "cell_type": "code",
   "source": "arr",
   "id": "badf3daccb339b52",
   "outputs": [
    {
     "data": {
      "text/plain": [
       "array([0, 1, 2, 3, 4, 2, 2, 2, 8, 9])"
      ]
     },
     "execution_count": 24,
     "metadata": {},
     "output_type": "execute_result"
    }
   ],
   "execution_count": 24
  },
  {
   "metadata": {
    "ExecuteTime": {
     "end_time": "2025-10-15T01:34:02.224347Z",
     "start_time": "2025-10-15T01:34:02.199806Z"
    }
   },
   "cell_type": "code",
   "source": [
    "arr2d = np.array([[1, 2, 3], [4, 5, 6], [7, 8, 9]])\n",
    "arr2d[0]"
   ],
   "id": "abf6fb3186067321",
   "outputs": [
    {
     "data": {
      "text/plain": [
       "array([1, 2, 3])"
      ]
     },
     "execution_count": 25,
     "metadata": {},
     "output_type": "execute_result"
    }
   ],
   "execution_count": 25
  },
  {
   "metadata": {
    "ExecuteTime": {
     "end_time": "2025-10-15T01:34:18.267073Z",
     "start_time": "2025-10-15T01:34:18.249168Z"
    }
   },
   "cell_type": "code",
   "source": "arr2d[0][1]",
   "id": "a81ba1f24bcd6ae4",
   "outputs": [
    {
     "data": {
      "text/plain": [
       "2"
      ]
     },
     "execution_count": 26,
     "metadata": {},
     "output_type": "execute_result"
    }
   ],
   "execution_count": 26
  },
  {
   "metadata": {
    "ExecuteTime": {
     "end_time": "2025-10-15T01:34:40.233184Z",
     "start_time": "2025-10-15T01:34:40.214801Z"
    }
   },
   "cell_type": "code",
   "source": "arr2d[0, 1]",
   "id": "159f9c02b074ba8f",
   "outputs": [
    {
     "data": {
      "text/plain": [
       "2"
      ]
     },
     "execution_count": 27,
     "metadata": {},
     "output_type": "execute_result"
    }
   ],
   "execution_count": 27
  },
  {
   "metadata": {
    "ExecuteTime": {
     "end_time": "2025-10-15T01:35:53.621908Z",
     "start_time": "2025-10-15T01:35:53.599374Z"
    }
   },
   "cell_type": "code",
   "source": [
    "arr3d = np.array([[[1, 2, 3], [4, 5, 6]], [[7, 8, 9],\n",
    "[10, 11, 12]]])\n",
    "arr3d"
   ],
   "id": "510ec6c82187aef8",
   "outputs": [
    {
     "data": {
      "text/plain": [
       "array([[[ 1,  2,  3],\n",
       "        [ 4,  5,  6]],\n",
       "\n",
       "       [[ 7,  8,  9],\n",
       "        [10, 11, 12]]])"
      ]
     },
     "execution_count": 28,
     "metadata": {},
     "output_type": "execute_result"
    }
   ],
   "execution_count": 28
  },
  {
   "metadata": {
    "ExecuteTime": {
     "end_time": "2025-10-15T01:37:03.330694Z",
     "start_time": "2025-10-15T01:37:03.309696Z"
    }
   },
   "cell_type": "code",
   "source": "arr3d.shape",
   "id": "c2c3911172cd00fa",
   "outputs": [
    {
     "data": {
      "text/plain": [
       "(2, 2, 3)"
      ]
     },
     "execution_count": 29,
     "metadata": {},
     "output_type": "execute_result"
    }
   ],
   "execution_count": 29
  },
  {
   "metadata": {
    "ExecuteTime": {
     "end_time": "2025-10-15T01:37:18.088851Z",
     "start_time": "2025-10-15T01:37:18.074500Z"
    }
   },
   "cell_type": "code",
   "source": "arr3d[0]",
   "id": "1e3157855576f57f",
   "outputs": [
    {
     "data": {
      "text/plain": [
       "array([[1, 2, 3],\n",
       "       [4, 5, 6]])"
      ]
     },
     "execution_count": 30,
     "metadata": {},
     "output_type": "execute_result"
    }
   ],
   "execution_count": 30
  },
  {
   "metadata": {
    "ExecuteTime": {
     "end_time": "2025-10-15T01:37:34.308516Z",
     "start_time": "2025-10-15T01:37:34.292079Z"
    }
   },
   "cell_type": "code",
   "source": "arr3d[0].shape",
   "id": "314a67ae8fe03eae",
   "outputs": [
    {
     "data": {
      "text/plain": [
       "(2, 3)"
      ]
     },
     "execution_count": 31,
     "metadata": {},
     "output_type": "execute_result"
    }
   ],
   "execution_count": 31
  },
  {
   "metadata": {
    "ExecuteTime": {
     "end_time": "2025-10-15T01:38:00.539433Z",
     "start_time": "2025-10-15T01:38:00.524510Z"
    }
   },
   "cell_type": "code",
   "source": "arr3d[0, 1].shape",
   "id": "7a5d48648d85b37a",
   "outputs": [
    {
     "data": {
      "text/plain": [
       "(3,)"
      ]
     },
     "execution_count": 33,
     "metadata": {},
     "output_type": "execute_result"
    }
   ],
   "execution_count": 33
  },
  {
   "metadata": {
    "ExecuteTime": {
     "end_time": "2025-10-15T01:38:07.875281Z",
     "start_time": "2025-10-15T01:38:07.860467Z"
    }
   },
   "cell_type": "code",
   "source": "arr3d[0, 1]",
   "id": "ebd93b432858cf7d",
   "outputs": [
    {
     "data": {
      "text/plain": [
       "array([4, 5, 6])"
      ]
     },
     "execution_count": 34,
     "metadata": {},
     "output_type": "execute_result"
    }
   ],
   "execution_count": 34
  },
  {
   "metadata": {
    "ExecuteTime": {
     "end_time": "2025-10-15T01:43:01.511329Z",
     "start_time": "2025-10-15T01:43:01.489850Z"
    }
   },
   "cell_type": "code",
   "source": [
    "o = arr3d.copy()\n",
    "arr3d[0] = 1\n",
    "arr3d"
   ],
   "id": "99d07ea72682c476",
   "outputs": [
    {
     "data": {
      "text/plain": [
       "array([[[ 1,  1,  1],\n",
       "        [ 1,  1,  1]],\n",
       "\n",
       "       [[ 7,  8,  9],\n",
       "        [10, 11, 12]]])"
      ]
     },
     "execution_count": 35,
     "metadata": {},
     "output_type": "execute_result"
    }
   ],
   "execution_count": 35
  },
  {
   "metadata": {
    "ExecuteTime": {
     "end_time": "2025-10-15T01:43:36.875255Z",
     "start_time": "2025-10-15T01:43:36.857565Z"
    }
   },
   "cell_type": "code",
   "source": [
    "arr3d = o\n",
    "arr3d"
   ],
   "id": "532ab70c209362c1",
   "outputs": [
    {
     "data": {
      "text/plain": [
       "array([[[ 1,  2,  3],\n",
       "        [ 4,  5,  6]],\n",
       "\n",
       "       [[ 7,  8,  9],\n",
       "        [10, 11, 12]]])"
      ]
     },
     "execution_count": 36,
     "metadata": {},
     "output_type": "execute_result"
    }
   ],
   "execution_count": 36
  },
  {
   "metadata": {
    "ExecuteTime": {
     "end_time": "2025-10-15T01:44:06.868217Z",
     "start_time": "2025-10-15T01:44:06.852983Z"
    }
   },
   "cell_type": "code",
   "source": [
    "x = arr3d[1]\n",
    "x"
   ],
   "id": "3deef04e6045bc85",
   "outputs": [
    {
     "data": {
      "text/plain": [
       "array([[ 7,  8,  9],\n",
       "       [10, 11, 12]])"
      ]
     },
     "execution_count": 37,
     "metadata": {},
     "output_type": "execute_result"
    }
   ],
   "execution_count": 37
  },
  {
   "metadata": {
    "ExecuteTime": {
     "end_time": "2025-10-15T01:44:19.989584Z",
     "start_time": "2025-10-15T01:44:19.972754Z"
    }
   },
   "cell_type": "code",
   "source": "x[0]",
   "id": "1e21d3b28fca9f34",
   "outputs": [
    {
     "data": {
      "text/plain": [
       "array([7, 8, 9])"
      ]
     },
     "execution_count": 38,
     "metadata": {},
     "output_type": "execute_result"
    }
   ],
   "execution_count": 38
  },
  {
   "metadata": {
    "ExecuteTime": {
     "end_time": "2025-10-15T01:45:31.798745Z",
     "start_time": "2025-10-15T01:45:31.784846Z"
    }
   },
   "cell_type": "code",
   "source": "arr",
   "id": "44ffdd2eada3640d",
   "outputs": [
    {
     "data": {
      "text/plain": [
       "array([0, 1, 2, 3, 4, 2, 2, 2, 8, 9])"
      ]
     },
     "execution_count": 39,
     "metadata": {},
     "output_type": "execute_result"
    }
   ],
   "execution_count": 39
  },
  {
   "metadata": {
    "ExecuteTime": {
     "end_time": "2025-10-15T01:45:36.743986Z",
     "start_time": "2025-10-15T01:45:36.727191Z"
    }
   },
   "cell_type": "code",
   "source": "arr[1:6]",
   "id": "1ecdef66b5064a33",
   "outputs": [
    {
     "data": {
      "text/plain": [
       "array([1, 2, 3, 4, 2])"
      ]
     },
     "execution_count": 40,
     "metadata": {},
     "output_type": "execute_result"
    }
   ],
   "execution_count": 40
  },
  {
   "metadata": {
    "ExecuteTime": {
     "end_time": "2025-10-15T01:46:19.765494Z",
     "start_time": "2025-10-15T01:46:19.742810Z"
    }
   },
   "cell_type": "code",
   "source": "arr2d",
   "id": "4f657adfd666da31",
   "outputs": [
    {
     "data": {
      "text/plain": [
       "array([[1, 2, 3],\n",
       "       [4, 5, 6],\n",
       "       [7, 8, 9]])"
      ]
     },
     "execution_count": 41,
     "metadata": {},
     "output_type": "execute_result"
    }
   ],
   "execution_count": 41
  },
  {
   "metadata": {
    "ExecuteTime": {
     "end_time": "2025-10-15T01:46:35.669027Z",
     "start_time": "2025-10-15T01:46:35.650691Z"
    }
   },
   "cell_type": "code",
   "source": "arr2d[0:2]",
   "id": "e8f1222b4a2d3bb8",
   "outputs": [
    {
     "data": {
      "text/plain": [
       "array([[1, 2, 3],\n",
       "       [4, 5, 6]])"
      ]
     },
     "execution_count": 42,
     "metadata": {},
     "output_type": "execute_result"
    }
   ],
   "execution_count": 42
  },
  {
   "metadata": {
    "ExecuteTime": {
     "end_time": "2025-10-15T01:48:02.487354Z",
     "start_time": "2025-10-15T01:48:02.469614Z"
    }
   },
   "cell_type": "code",
   "source": "arr2d[0:2][1:]",
   "id": "ee2421855117bf8",
   "outputs": [
    {
     "data": {
      "text/plain": [
       "array([[4, 5, 6]])"
      ]
     },
     "execution_count": 44,
     "metadata": {},
     "output_type": "execute_result"
    }
   ],
   "execution_count": 44
  },
  {
   "metadata": {
    "ExecuteTime": {
     "end_time": "2025-10-15T01:48:32.141994Z",
     "start_time": "2025-10-15T01:48:32.121990Z"
    }
   },
   "cell_type": "code",
   "source": "arr2d[0:2, 1:]",
   "id": "a1042a8aef65f348",
   "outputs": [
    {
     "data": {
      "text/plain": [
       "array([[2, 3],\n",
       "       [5, 6]])"
      ]
     },
     "execution_count": 45,
     "metadata": {},
     "output_type": "execute_result"
    }
   ],
   "execution_count": 45
  },
  {
   "metadata": {},
   "cell_type": "code",
   "outputs": [],
   "execution_count": null,
   "source": "",
   "id": "a15fa6a7a7c27253"
  }
 ],
 "metadata": {
  "kernelspec": {
   "display_name": "Python 3",
   "language": "python",
   "name": "python3"
  },
  "language_info": {
   "codemirror_mode": {
    "name": "ipython",
    "version": 2
   },
   "file_extension": ".py",
   "mimetype": "text/x-python",
   "name": "python",
   "nbconvert_exporter": "python",
   "pygments_lexer": "ipython2",
   "version": "2.7.6"
  }
 },
 "nbformat": 4,
 "nbformat_minor": 5
}
