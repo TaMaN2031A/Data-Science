{
 "cells": [
  {
   "metadata": {},
   "cell_type": "markdown",
   "source": "## Chapter 1, 2",
   "id": "9353a60654196a84"
  },
  {
   "metadata": {
    "ExecuteTime": {
     "end_time": "2025-09-25T12:39:50.576311Z",
     "start_time": "2025-09-25T12:39:43.580054Z"
    }
   },
   "cell_type": "code",
   "source": [
    "# Main imports\n",
    "\n",
    "# Secondary imports\n",
    "import numpy as np\n",
    "import pandas as pd\n",
    "import matplotlib.pyplot as plt\n",
    "# Local imports"
   ],
   "id": "initial_id",
   "outputs": [],
   "execution_count": 1
  },
  {
   "metadata": {
    "ExecuteTime": {
     "end_time": "2025-09-15T15:08:57.509368Z",
     "start_time": "2025-09-15T15:08:57.496635Z"
    }
   },
   "cell_type": "code",
   "source": [
    "pd.options.display.max_columns = 20\n",
    "pd.options.display.max_rows = 20\n",
    "pd.options.display.max_colwidth = 20\n",
    "np.set_printoptions(precision=4, suppress=True)\n"
   ],
   "id": "70e41b9cbc45b038",
   "outputs": [],
   "execution_count": 3
  },
  {
   "metadata": {
    "ExecuteTime": {
     "end_time": "2025-09-15T15:09:59.478704Z",
     "start_time": "2025-09-15T15:08:57.543465Z"
    }
   },
   "cell_type": "code",
   "source": "!python",
   "id": "b99fef45c59c5b4f",
   "outputs": [
    {
     "name": "stdout",
     "output_type": "stream",
     "text": [
      "^C\n"
     ]
    }
   ],
   "execution_count": 4
  },
  {
   "metadata": {
    "ExecuteTime": {
     "end_time": "2025-09-15T15:10:03.691008Z",
     "start_time": "2025-09-15T15:10:03.678331Z"
    }
   },
   "cell_type": "code",
   "source": "print(\"Hello World!\")",
   "id": "53e535a4c7dff6e4",
   "outputs": [
    {
     "name": "stdout",
     "output_type": "stream",
     "text": [
      "Hello World!\n"
     ]
    }
   ],
   "execution_count": 5
  },
  {
   "metadata": {
    "ExecuteTime": {
     "end_time": "2025-09-15T15:10:03.801320Z",
     "start_time": "2025-09-15T15:10:03.779141Z"
    }
   },
   "cell_type": "code",
   "source": [
    "a = 5\n",
    "a"
   ],
   "id": "5ea970557256d52b",
   "outputs": [
    {
     "data": {
      "text/plain": [
       "5"
      ]
     },
     "execution_count": 6,
     "metadata": {},
     "output_type": "execute_result"
    }
   ],
   "execution_count": 6
  },
  {
   "metadata": {
    "ExecuteTime": {
     "end_time": "2025-09-15T15:10:04.013380Z",
     "start_time": "2025-09-15T15:10:03.997728Z"
    }
   },
   "cell_type": "code",
   "source": [
    "data = [np.random.standard_normal() for i in range(7)]\n",
    "data\n",
    "# Prettier print than using `print()` function"
   ],
   "id": "9d993fbc2255bdb",
   "outputs": [
    {
     "data": {
      "text/plain": [
       "[0.3419597038896397,\n",
       " -0.14376820927105727,\n",
       " -0.987323738990567,\n",
       " -1.4548773373584702,\n",
       " -0.35231251583403905,\n",
       " -0.14540514869168378,\n",
       " -0.1552536560472769]"
      ]
     },
     "execution_count": 7,
     "metadata": {},
     "output_type": "execute_result"
    }
   ],
   "execution_count": 7
  },
  {
   "metadata": {
    "ExecuteTime": {
     "end_time": "2025-09-15T15:10:04.182241Z",
     "start_time": "2025-09-15T15:10:04.169690Z"
    }
   },
   "cell_type": "code",
   "source": "print(data)",
   "id": "7c6c9660dcb8016f",
   "outputs": [
    {
     "name": "stdout",
     "output_type": "stream",
     "text": [
      "[0.3419597038896397, -0.14376820927105727, -0.987323738990567, -1.4548773373584702, -0.35231251583403905, -0.14540514869168378, -0.1552536560472769]\n"
     ]
    }
   ],
   "execution_count": 8
  },
  {
   "metadata": {
    "ExecuteTime": {
     "end_time": "2025-09-15T15:10:04.354083Z",
     "start_time": "2025-09-15T15:10:04.343626Z"
    }
   },
   "cell_type": "code",
   "source": [
    "# Tab Completion\n",
    "an_apple = 27\n",
    "an_example = 42"
   ],
   "id": "5a26793fa925d72",
   "outputs": [],
   "execution_count": 9
  },
  {
   "metadata": {
    "ExecuteTime": {
     "end_time": "2025-09-15T15:10:04.456477Z",
     "start_time": "2025-09-15T15:10:04.443432Z"
    }
   },
   "cell_type": "code",
   "source": [
    "b = [1, 2, 3]\n",
    "b.sort()"
   ],
   "id": "80294b4083595df",
   "outputs": [],
   "execution_count": 10
  },
  {
   "metadata": {
    "ExecuteTime": {
     "end_time": "2025-09-15T15:10:04.530874Z",
     "start_time": "2025-09-15T15:10:04.517464Z"
    }
   },
   "cell_type": "code",
   "source": "b",
   "id": "b9d09e0e091fccbf",
   "outputs": [
    {
     "data": {
      "text/plain": [
       "[1, 2, 3]"
      ]
     },
     "execution_count": 11,
     "metadata": {},
     "output_type": "execute_result"
    }
   ],
   "execution_count": 11
  },
  {
   "metadata": {
    "ExecuteTime": {
     "end_time": "2025-09-15T15:10:04.645354Z",
     "start_time": "2025-09-15T15:10:04.631318Z"
    }
   },
   "cell_type": "code",
   "source": [
    "import datetime\n",
    "datetime.MAXYEAR"
   ],
   "id": "67233e95951c8bee",
   "outputs": [
    {
     "data": {
      "text/plain": [
       "9999"
      ]
     },
     "execution_count": 12,
     "metadata": {},
     "output_type": "execute_result"
    }
   ],
   "execution_count": 12
  },
  {
   "metadata": {
    "ExecuteTime": {
     "end_time": "2025-09-15T15:10:04.792038Z",
     "start_time": "2025-09-15T15:10:04.781370Z"
    }
   },
   "cell_type": "code",
   "source": [
    "# Introspection\n",
    "b?"
   ],
   "id": "2d6e3040d2f25ea9",
   "outputs": [],
   "execution_count": 13
  },
  {
   "metadata": {
    "ExecuteTime": {
     "end_time": "2025-09-15T15:10:05.170059Z",
     "start_time": "2025-09-15T15:10:05.018622Z"
    }
   },
   "cell_type": "code",
   "source": "print?",
   "id": "5e381c94c9363cb2",
   "outputs": [],
   "execution_count": 14
  },
  {
   "metadata": {
    "ExecuteTime": {
     "end_time": "2025-09-15T15:10:05.236744Z",
     "start_time": "2025-09-15T15:10:05.223649Z"
    }
   },
   "cell_type": "code",
   "source": [
    "def intrpospector_fn(a, b):\n",
    "    \"\"\"\n",
    "    A function to discuss how to add introspectors\n",
    "    :param a: useless\n",
    "    :param b: useless\n",
    "    :return: doesn't return anything\n",
    "    \"\"\""
   ],
   "id": "5f44eee66337e875",
   "outputs": [],
   "execution_count": 15
  },
  {
   "metadata": {
    "ExecuteTime": {
     "end_time": "2025-09-15T15:10:05.291556Z",
     "start_time": "2025-09-15T15:10:05.279105Z"
    }
   },
   "cell_type": "code",
   "source": "intrpospector_fn?",
   "id": "e1fb178e77edf517",
   "outputs": [],
   "execution_count": 16
  },
  {
   "metadata": {
    "ExecuteTime": {
     "end_time": "2025-09-15T15:10:05.372580Z",
     "start_time": "2025-09-15T15:10:05.361482Z"
    }
   },
   "cell_type": "code",
   "source": "a = [1, 2, 3]",
   "id": "f3ea7881daefcd77",
   "outputs": [],
   "execution_count": 17
  },
  {
   "metadata": {
    "ExecuteTime": {
     "end_time": "2025-09-15T15:10:05.445455Z",
     "start_time": "2025-09-15T15:10:05.430830Z"
    }
   },
   "cell_type": "code",
   "source": "b",
   "id": "361f0cc8c33fbdb",
   "outputs": [
    {
     "data": {
      "text/plain": [
       "[1, 2, 3]"
      ]
     },
     "execution_count": 18,
     "metadata": {},
     "output_type": "execute_result"
    }
   ],
   "execution_count": 18
  },
  {
   "metadata": {
    "ExecuteTime": {
     "end_time": "2025-09-15T15:10:05.585057Z",
     "start_time": "2025-09-15T15:10:05.574621Z"
    }
   },
   "cell_type": "code",
   "source": "a.append(4)",
   "id": "60190985b5ffd879",
   "outputs": [],
   "execution_count": 19
  },
  {
   "metadata": {
    "ExecuteTime": {
     "end_time": "2025-09-15T15:10:05.665409Z",
     "start_time": "2025-09-15T15:10:05.652839Z"
    }
   },
   "cell_type": "code",
   "source": "b",
   "id": "6c8b33107b95f20d",
   "outputs": [
    {
     "data": {
      "text/plain": [
       "[1, 2, 3]"
      ]
     },
     "execution_count": 20,
     "metadata": {},
     "output_type": "execute_result"
    }
   ],
   "execution_count": 20
  },
  {
   "metadata": {
    "ExecuteTime": {
     "end_time": "2025-09-15T15:10:13.465907Z",
     "start_time": "2025-09-15T15:10:13.454225Z"
    }
   },
   "cell_type": "code",
   "source": "a = 5",
   "id": "b81df331db8141b8",
   "outputs": [],
   "execution_count": 21
  },
  {
   "metadata": {
    "ExecuteTime": {
     "end_time": "2025-09-15T15:10:29.339572Z",
     "start_time": "2025-09-15T15:10:29.323070Z"
    }
   },
   "cell_type": "code",
   "source": "isinstance(a, int)",
   "id": "e446f6995370cf12",
   "outputs": [
    {
     "data": {
      "text/plain": [
       "True"
      ]
     },
     "execution_count": 23,
     "metadata": {},
     "output_type": "execute_result"
    }
   ],
   "execution_count": 23
  },
  {
   "metadata": {
    "ExecuteTime": {
     "end_time": "2025-09-15T15:10:47.658308Z",
     "start_time": "2025-09-15T15:10:47.642412Z"
    }
   },
   "cell_type": "code",
   "source": "isinstance(a, (str, bool))",
   "id": "730323b32039601d",
   "outputs": [
    {
     "data": {
      "text/plain": [
       "False"
      ]
     },
     "execution_count": 24,
     "metadata": {},
     "output_type": "execute_result"
    }
   ],
   "execution_count": 24
  },
  {
   "metadata": {
    "ExecuteTime": {
     "end_time": "2025-09-15T15:11:06.690758Z",
     "start_time": "2025-09-15T15:11:06.673109Z"
    }
   },
   "cell_type": "code",
   "source": "isinstance(a, (int, str, bool))",
   "id": "22bf33b1ca94d4b5",
   "outputs": [
    {
     "data": {
      "text/plain": [
       "True"
      ]
     },
     "execution_count": 25,
     "metadata": {},
     "output_type": "execute_result"
    }
   ],
   "execution_count": 25
  },
  {
   "metadata": {
    "ExecuteTime": {
     "end_time": "2025-09-15T15:11:47.007731Z",
     "start_time": "2025-09-15T15:11:46.998108Z"
    }
   },
   "cell_type": "code",
   "source": "a = \"foo\"",
   "id": "d183ab66833ff251",
   "outputs": [],
   "execution_count": 26
  },
  {
   "metadata": {
    "ExecuteTime": {
     "end_time": "2025-09-15T15:12:26.397999Z",
     "start_time": "2025-09-15T15:12:26.380004Z"
    }
   },
   "cell_type": "code",
   "source": "a.isalnum()",
   "id": "9e660d8be19aea07",
   "outputs": [
    {
     "data": {
      "text/plain": [
       "True"
      ]
     },
     "execution_count": 27,
     "metadata": {},
     "output_type": "execute_result"
    }
   ],
   "execution_count": 27
  },
  {
   "metadata": {
    "ExecuteTime": {
     "end_time": "2025-09-15T15:12:35.420202Z",
     "start_time": "2025-09-15T15:12:35.407451Z"
    }
   },
   "cell_type": "code",
   "source": "a.isdigit()",
   "id": "e9966eaa545adff3",
   "outputs": [
    {
     "data": {
      "text/plain": [
       "False"
      ]
     },
     "execution_count": 28,
     "metadata": {},
     "output_type": "execute_result"
    }
   ],
   "execution_count": 28
  },
  {
   "metadata": {
    "ExecuteTime": {
     "end_time": "2025-09-15T15:12:43.958095Z",
     "start_time": "2025-09-15T15:12:43.942360Z"
    }
   },
   "cell_type": "code",
   "source": "getattr(a, \"split\")",
   "id": "5e585ba3efa40051",
   "outputs": [
    {
     "data": {
      "text/plain": [
       "<function str.split(sep=None, maxsplit=-1)>"
      ]
     },
     "execution_count": 29,
     "metadata": {},
     "output_type": "execute_result"
    }
   ],
   "execution_count": 29
  },
  {
   "metadata": {},
   "cell_type": "markdown",
   "source": [
    "Duck typing\n",
    "If it walks like a duck and quacks like a duck -> then it is a duck"
   ],
   "id": "fc9f25a3615f35f2"
  },
  {
   "metadata": {
    "ExecuteTime": {
     "end_time": "2025-09-15T15:15:14.415070Z",
     "start_time": "2025-09-15T15:15:14.402607Z"
    }
   },
   "cell_type": "code",
   "source": [
    "#Duck typing\n",
    "#If it walks like a duck and quacks like a duck -> then it is a duck\n",
    "def isiterable(obj):\n",
    "    try:\n",
    "        iter(obj)\n",
    "        return True\n",
    "    except TypeError:\n",
    "        return False"
   ],
   "id": "185942cc9ee95ae2",
   "outputs": [],
   "execution_count": 30
  },
  {
   "metadata": {
    "ExecuteTime": {
     "end_time": "2025-09-15T15:15:26.909166Z",
     "start_time": "2025-09-15T15:15:26.895407Z"
    }
   },
   "cell_type": "code",
   "source": "isiterable(\"rlmvglkmvg\")",
   "id": "8990993e447f85f9",
   "outputs": [
    {
     "data": {
      "text/plain": [
       "True"
      ]
     },
     "execution_count": 31,
     "metadata": {},
     "output_type": "execute_result"
    }
   ],
   "execution_count": 31
  },
  {
   "metadata": {
    "ExecuteTime": {
     "end_time": "2025-09-15T15:15:30.147314Z",
     "start_time": "2025-09-15T15:15:30.132653Z"
    }
   },
   "cell_type": "code",
   "source": "isiterable([])",
   "id": "e905f59d16fd6849",
   "outputs": [
    {
     "data": {
      "text/plain": [
       "True"
      ]
     },
     "execution_count": 32,
     "metadata": {},
     "output_type": "execute_result"
    }
   ],
   "execution_count": 32
  },
  {
   "metadata": {
    "ExecuteTime": {
     "end_time": "2025-09-15T15:15:38.553559Z",
     "start_time": "2025-09-15T15:15:38.535652Z"
    }
   },
   "cell_type": "code",
   "source": "isiterable(5)",
   "id": "3f14597d6b674363",
   "outputs": [
    {
     "data": {
      "text/plain": [
       "False"
      ]
     },
     "execution_count": 33,
     "metadata": {},
     "output_type": "execute_result"
    }
   ],
   "execution_count": 33
  },
  {
   "metadata": {
    "ExecuteTime": {
     "end_time": "2025-09-15T15:16:51.313997Z",
     "start_time": "2025-09-15T15:16:51.279319Z"
    }
   },
   "cell_type": "code",
   "source": [
    "a = [1, 2, 3]\n",
    "b = a\n",
    "c = [1, 2, 3]"
   ],
   "id": "41325c575442a15d",
   "outputs": [],
   "execution_count": 34
  },
  {
   "metadata": {
    "ExecuteTime": {
     "end_time": "2025-09-15T15:16:56.301516Z",
     "start_time": "2025-09-15T15:16:56.287453Z"
    }
   },
   "cell_type": "code",
   "source": "a is b",
   "id": "df03dd7cb9882dc6",
   "outputs": [
    {
     "data": {
      "text/plain": [
       "True"
      ]
     },
     "execution_count": 35,
     "metadata": {},
     "output_type": "execute_result"
    }
   ],
   "execution_count": 35
  },
  {
   "metadata": {
    "ExecuteTime": {
     "end_time": "2025-09-15T15:16:58.498815Z",
     "start_time": "2025-09-15T15:16:58.483957Z"
    }
   },
   "cell_type": "code",
   "source": "a is c",
   "id": "ee78286c7b001328",
   "outputs": [
    {
     "data": {
      "text/plain": [
       "False"
      ]
     },
     "execution_count": 36,
     "metadata": {},
     "output_type": "execute_result"
    }
   ],
   "execution_count": 36
  },
  {
   "metadata": {
    "ExecuteTime": {
     "end_time": "2025-09-15T15:17:02.842745Z",
     "start_time": "2025-09-15T15:17:02.829167Z"
    }
   },
   "cell_type": "code",
   "source": "a == c",
   "id": "5fa4eff4d6f1ee17",
   "outputs": [
    {
     "data": {
      "text/plain": [
       "True"
      ]
     },
     "execution_count": 37,
     "metadata": {},
     "output_type": "execute_result"
    }
   ],
   "execution_count": 37
  },
  {
   "metadata": {
    "ExecuteTime": {
     "end_time": "2025-09-15T15:17:27.500373Z",
     "start_time": "2025-09-15T15:17:27.487759Z"
    }
   },
   "cell_type": "code",
   "source": "assert a is not c",
   "id": "149ee08f558e25fc",
   "outputs": [],
   "execution_count": 38
  },
  {
   "metadata": {
    "ExecuteTime": {
     "end_time": "2025-09-15T15:19:05.184684Z",
     "start_time": "2025-09-15T15:19:05.171129Z"
    }
   },
   "cell_type": "code",
   "source": [
    "a = 64561651\n",
    "a ** 6"
   ],
   "id": "d62fabd1260b13eb",
   "outputs": [
    {
     "data": {
      "text/plain": [
       "72418206844053502254282716836430322923584457401"
      ]
     },
     "execution_count": 39,
     "metadata": {},
     "output_type": "execute_result"
    }
   ],
   "execution_count": 39
  },
  {
   "metadata": {
    "ExecuteTime": {
     "end_time": "2025-09-15T15:19:25.050454Z",
     "start_time": "2025-09-15T15:19:25.034652Z"
    }
   },
   "cell_type": "code",
   "source": "3 // 2",
   "id": "28e241a65c46011f",
   "outputs": [
    {
     "data": {
      "text/plain": [
       "1"
      ]
     },
     "execution_count": 40,
     "metadata": {},
     "output_type": "execute_result"
    }
   ],
   "execution_count": 40
  },
  {
   "metadata": {
    "ExecuteTime": {
     "end_time": "2025-09-15T15:19:28.366584Z",
     "start_time": "2025-09-15T15:19:28.353182Z"
    }
   },
   "cell_type": "code",
   "source": "3 / 2",
   "id": "71810c1a45633e4c",
   "outputs": [
    {
     "data": {
      "text/plain": [
       "1.5"
      ]
     },
     "execution_count": 41,
     "metadata": {},
     "output_type": "execute_result"
    }
   ],
   "execution_count": 41
  },
  {
   "metadata": {
    "ExecuteTime": {
     "end_time": "2025-09-15T15:20:16.199036Z",
     "start_time": "2025-09-15T15:20:16.188956Z"
    }
   },
   "cell_type": "code",
   "source": [
    "a = 'qwe'\n",
    "b = \"eqw\""
   ],
   "id": "74485ddc4e9709b0",
   "outputs": [],
   "execution_count": 43
  },
  {
   "metadata": {
    "ExecuteTime": {
     "end_time": "2025-09-15T15:20:26.356375Z",
     "start_time": "2025-09-15T15:20:26.342925Z"
    }
   },
   "cell_type": "code",
   "source": [
    "a = \"\"\"\n",
    "rlkmrklmrl;g\n",
    "lkgmrklmg\n",
    "\"\"\"\n",
    "a"
   ],
   "id": "a3305e31fdb50098",
   "outputs": [
    {
     "data": {
      "text/plain": [
       "'\\nrlkmrklmrl;g\\nlkgmrklmg\\n'"
      ]
     },
     "execution_count": 44,
     "metadata": {},
     "output_type": "execute_result"
    }
   ],
   "execution_count": 44
  },
  {
   "metadata": {
    "ExecuteTime": {
     "end_time": "2025-09-15T15:20:36.456215Z",
     "start_time": "2025-09-15T15:20:36.442091Z"
    }
   },
   "cell_type": "code",
   "source": [
    "b = '''\n",
    "ffflr\n",
    "rl;mgl;trg\n",
    ";rl;rl;\n",
    "'''\n",
    "b"
   ],
   "id": "73d3dc82de257ede",
   "outputs": [
    {
     "data": {
      "text/plain": [
       "'\\nffflr\\nrl;mgl;trg\\n;rl;rl;\\n'"
      ]
     },
     "execution_count": 45,
     "metadata": {},
     "output_type": "execute_result"
    }
   ],
   "execution_count": 45
  },
  {
   "metadata": {
    "ExecuteTime": {
     "end_time": "2025-09-15T15:21:17.291644Z",
     "start_time": "2025-09-15T15:21:17.277524Z"
    }
   },
   "cell_type": "code",
   "source": "b.count('\\n')",
   "id": "de3418d3da01c9d5",
   "outputs": [
    {
     "data": {
      "text/plain": [
       "4"
      ]
     },
     "execution_count": 47,
     "metadata": {},
     "output_type": "execute_result"
    }
   ],
   "execution_count": 47
  },
  {
   "metadata": {
    "ExecuteTime": {
     "end_time": "2025-09-15T15:21:34.058491Z",
     "start_time": "2025-09-15T15:21:34.014671Z"
    }
   },
   "cell_type": "code",
   "source": "b[0] = 'r'",
   "id": "7fc4b0c6040f6ad7",
   "outputs": [
    {
     "ename": "TypeError",
     "evalue": "'str' object does not support item assignment",
     "output_type": "error",
     "traceback": [
      "\u001B[1;31m---------------------------------------------------------------------------\u001B[0m",
      "\u001B[1;31mTypeError\u001B[0m                                 Traceback (most recent call last)",
      "Cell \u001B[1;32mIn[48], line 1\u001B[0m\n\u001B[1;32m----> 1\u001B[0m \u001B[43mb\u001B[49m\u001B[43m[\u001B[49m\u001B[38;5;241;43m0\u001B[39;49m\u001B[43m]\u001B[49m \u001B[38;5;241m=\u001B[39m \u001B[38;5;124m'\u001B[39m\u001B[38;5;124mr\u001B[39m\u001B[38;5;124m'\u001B[39m\n",
      "\u001B[1;31mTypeError\u001B[0m: 'str' object does not support item assignment"
     ]
    }
   ],
   "execution_count": 48
  },
  {
   "metadata": {
    "ExecuteTime": {
     "end_time": "2025-09-16T14:50:01.594575Z",
     "start_time": "2025-09-16T14:50:01.576637Z"
    }
   },
   "cell_type": "code",
   "source": [
    "a = \"this is a string\"\n",
    "b = a.replace('is', 'was')"
   ],
   "id": "f75a2ff893e34e0d",
   "outputs": [],
   "execution_count": 1
  },
  {
   "metadata": {
    "ExecuteTime": {
     "end_time": "2025-09-16T14:50:01.668237Z",
     "start_time": "2025-09-16T14:50:01.643749Z"
    }
   },
   "cell_type": "code",
   "source": "a",
   "id": "abbfd95287574abb",
   "outputs": [
    {
     "data": {
      "text/plain": [
       "'this is a string'"
      ]
     },
     "execution_count": 2,
     "metadata": {},
     "output_type": "execute_result"
    }
   ],
   "execution_count": 2
  },
  {
   "metadata": {
    "ExecuteTime": {
     "end_time": "2025-09-16T14:50:06.588696Z",
     "start_time": "2025-09-16T14:50:06.573130Z"
    }
   },
   "cell_type": "code",
   "source": "b",
   "id": "97dcdeb5ec5ba540",
   "outputs": [
    {
     "data": {
      "text/plain": [
       "'thwas was a string'"
      ]
     },
     "execution_count": 3,
     "metadata": {},
     "output_type": "execute_result"
    }
   ],
   "execution_count": 3
  },
  {
   "metadata": {
    "ExecuteTime": {
     "end_time": "2025-09-16T14:50:06.879081Z",
     "start_time": "2025-09-16T14:50:06.867546Z"
    }
   },
   "cell_type": "code",
   "source": "a = 5.6",
   "id": "a20ff0175629abf7",
   "outputs": [],
   "execution_count": 4
  },
  {
   "metadata": {
    "ExecuteTime": {
     "end_time": "2025-09-16T14:50:06.989372Z",
     "start_time": "2025-09-16T14:50:06.977640Z"
    }
   },
   "cell_type": "code",
   "source": "s = str(a)",
   "id": "7431634543852b95",
   "outputs": [],
   "execution_count": 5
  },
  {
   "metadata": {
    "ExecuteTime": {
     "end_time": "2025-09-16T14:50:07.067438Z",
     "start_time": "2025-09-16T14:50:07.055343Z"
    }
   },
   "cell_type": "code",
   "source": "print(s)",
   "id": "eeeab79fdda5401d",
   "outputs": [
    {
     "name": "stdout",
     "output_type": "stream",
     "text": [
      "5.6\n"
     ]
    }
   ],
   "execution_count": 6
  },
  {
   "metadata": {
    "ExecuteTime": {
     "end_time": "2025-09-16T14:50:21.726162Z",
     "start_time": "2025-09-16T14:50:21.708606Z"
    }
   },
   "cell_type": "code",
   "source": [
    "s = \"python\"\n",
    "list(s)"
   ],
   "id": "f3a1476f9e71ef41",
   "outputs": [
    {
     "data": {
      "text/plain": [
       "['p', 'y', 't', 'h', 'o', 'n']"
      ]
     },
     "execution_count": 7,
     "metadata": {},
     "output_type": "execute_result"
    }
   ],
   "execution_count": 7
  },
  {
   "metadata": {
    "ExecuteTime": {
     "end_time": "2025-09-16T14:50:25.881701Z",
     "start_time": "2025-09-16T14:50:25.865710Z"
    }
   },
   "cell_type": "code",
   "source": "s[:3]",
   "id": "f09c83e7e748b3ae",
   "outputs": [
    {
     "data": {
      "text/plain": [
       "'pyt'"
      ]
     },
     "execution_count": 8,
     "metadata": {},
     "output_type": "execute_result"
    }
   ],
   "execution_count": 8
  },
  {
   "metadata": {
    "ExecuteTime": {
     "end_time": "2025-09-16T14:52:57.408726Z",
     "start_time": "2025-09-16T14:52:57.397805Z"
    }
   },
   "cell_type": "code",
   "source": [
    "s = \"12\\\\34\"\n",
    "print(s)"
   ],
   "id": "29237e6a3d569191",
   "outputs": [
    {
     "name": "stdout",
     "output_type": "stream",
     "text": [
      "12\\34\n"
     ]
    }
   ],
   "execution_count": 10
  },
  {
   "metadata": {
    "ExecuteTime": {
     "end_time": "2025-09-16T14:53:15.409828Z",
     "start_time": "2025-09-16T14:53:15.398318Z"
    }
   },
   "cell_type": "code",
   "source": [
    "s = r\"this\\kdfnlkgn\\fl;gml;fg\\g\"\n",
    "print(s)"
   ],
   "id": "8037240a0fb8ebf5",
   "outputs": [
    {
     "name": "stdout",
     "output_type": "stream",
     "text": [
      "this\\kdfnlkgn\\fl;gml;fg\\g\n"
     ]
    }
   ],
   "execution_count": 11
  },
  {
   "metadata": {
    "ExecuteTime": {
     "end_time": "2025-09-16T14:53:58.407283Z",
     "start_time": "2025-09-16T14:53:58.393637Z"
    }
   },
   "cell_type": "code",
   "source": "s + s",
   "id": "58985422733997fc",
   "outputs": [
    {
     "data": {
      "text/plain": [
       "'this\\\\kdfnlkgn\\\\fl;gml;fg\\\\gthis\\\\kdfnlkgn\\\\fl;gml;fg\\\\g'"
      ]
     },
     "execution_count": 12,
     "metadata": {},
     "output_type": "execute_result"
    }
   ],
   "execution_count": 12
  },
  {
   "metadata": {
    "ExecuteTime": {
     "end_time": "2025-09-16T14:55:14.190320Z",
     "start_time": "2025-09-16T14:55:14.177298Z"
    }
   },
   "cell_type": "code",
   "source": "template = \"{0:.2f} {1:s} are worth US${2:d}\"",
   "id": "972da0cadb673d1a",
   "outputs": [],
   "execution_count": 13
  },
  {
   "metadata": {
    "ExecuteTime": {
     "end_time": "2025-09-16T14:56:11.815284Z",
     "start_time": "2025-09-16T14:56:11.801839Z"
    }
   },
   "cell_type": "code",
   "source": "template.format(88.46, \"Argentine Pesos\", 1)",
   "id": "f6ca1c31e45ce2f7",
   "outputs": [
    {
     "data": {
      "text/plain": [
       "'88.46 Argentine Pesos are worth US$1'"
      ]
     },
     "execution_count": 16,
     "metadata": {},
     "output_type": "execute_result"
    }
   ],
   "execution_count": 16
  },
  {
   "metadata": {
    "ExecuteTime": {
     "end_time": "2025-09-16T14:57:16.693334Z",
     "start_time": "2025-09-16T14:57:16.681524Z"
    }
   },
   "cell_type": "code",
   "source": [
    "amount = 10\n",
    "rate = 88.46\n",
    "currency = \"pesos\"\n",
    "result = f\"{amount} {currency} is worth US${amount/rate}\""
   ],
   "id": "9422a4d3dc61f326",
   "outputs": [],
   "execution_count": 18
  },
  {
   "metadata": {
    "ExecuteTime": {
     "end_time": "2025-09-16T14:57:19.556520Z",
     "start_time": "2025-09-16T14:57:19.537009Z"
    }
   },
   "cell_type": "code",
   "source": "result",
   "id": "e48d7465d4b73feb",
   "outputs": [
    {
     "data": {
      "text/plain": [
       "'10 pesos is worth US$0.11304544426859599'"
      ]
     },
     "execution_count": 19,
     "metadata": {},
     "output_type": "execute_result"
    }
   ],
   "execution_count": 19
  },
  {
   "metadata": {
    "ExecuteTime": {
     "end_time": "2025-09-16T14:57:46.616904Z",
     "start_time": "2025-09-16T14:57:46.599868Z"
    }
   },
   "cell_type": "code",
   "source": [
    "result = f\"{amount} {currency} is worth US${amount/rate: .2f}\"\n",
    "result"
   ],
   "id": "db5df7a824d4bcf3",
   "outputs": [
    {
     "data": {
      "text/plain": [
       "'10 pesos is worth US$ 0.11'"
      ]
     },
     "execution_count": 20,
     "metadata": {},
     "output_type": "execute_result"
    }
   ],
   "execution_count": 20
  },
  {
   "metadata": {
    "ExecuteTime": {
     "end_time": "2025-09-17T15:12:07.723386Z",
     "start_time": "2025-09-17T15:12:07.702616Z"
    }
   },
   "cell_type": "code",
   "source": "val = \"اليونيكود اللي مظبطني ظبيط\"",
   "id": "55c0a25c6d0c4881",
   "outputs": [],
   "execution_count": 1
  },
  {
   "metadata": {
    "ExecuteTime": {
     "end_time": "2025-09-17T15:12:07.812950Z",
     "start_time": "2025-09-17T15:12:07.786328Z"
    }
   },
   "cell_type": "code",
   "source": "val",
   "id": "6356aeffbff8035c",
   "outputs": [
    {
     "data": {
      "text/plain": [
       "'اليونيكود اللي مظبطني ظبيط'"
      ]
     },
     "execution_count": 2,
     "metadata": {},
     "output_type": "execute_result"
    }
   ],
   "execution_count": 2
  },
  {
   "metadata": {
    "ExecuteTime": {
     "end_time": "2025-09-17T15:12:36.685953Z",
     "start_time": "2025-09-17T15:12:36.665631Z"
    }
   },
   "cell_type": "code",
   "source": [
    "a = \"lol\"\n",
    "b = a\n",
    "c = \"lol\"\n",
    "\n",
    "a is b"
   ],
   "id": "394314e34d0ae323",
   "outputs": [
    {
     "data": {
      "text/plain": [
       "True"
      ]
     },
     "execution_count": 3,
     "metadata": {},
     "output_type": "execute_result"
    }
   ],
   "execution_count": 3
  },
  {
   "metadata": {
    "ExecuteTime": {
     "end_time": "2025-09-17T15:12:57.141630Z",
     "start_time": "2025-09-17T15:12:57.120833Z"
    }
   },
   "cell_type": "code",
   "source": "a == c",
   "id": "9219e721c9c79549",
   "outputs": [
    {
     "data": {
      "text/plain": [
       "True"
      ]
     },
     "execution_count": 5,
     "metadata": {},
     "output_type": "execute_result"
    }
   ],
   "execution_count": 5
  },
  {
   "metadata": {
    "ExecuteTime": {
     "end_time": "2025-09-17T15:14:57.925370Z",
     "start_time": "2025-09-17T15:14:57.906169Z"
    }
   },
   "cell_type": "code",
   "source": [
    "b is c\n",
    "# This is strange actually! this mean that pthon makes us of strings\n",
    "# immutability so that it create them once and whoever needs them just\n",
    "# point to the existing ones since they will never change\n"
   ],
   "id": "1dbcd0e38287347",
   "outputs": [
    {
     "data": {
      "text/plain": [
       "True"
      ]
     },
     "execution_count": 7,
     "metadata": {},
     "output_type": "execute_result"
    }
   ],
   "execution_count": 7
  },
  {
   "metadata": {},
   "cell_type": "code",
   "outputs": [],
   "execution_count": null,
   "source": [
    "x = 5\n",
    "if x < 5:\n",
    "    x*=2\n",
    "elif x == 0:\n",
    "    pass\n",
    "else:\n",
    "    x /= 2"
   ],
   "id": "c57f27b5069cf33e"
  },
  {
   "metadata": {
    "ExecuteTime": {
     "end_time": "2025-09-18T13:06:18.287139Z",
     "start_time": "2025-09-18T13:06:18.255224Z"
    }
   },
   "cell_type": "code",
   "source": "list(range(0, 20, 2))",
   "id": "a8b722128bd8ece6",
   "outputs": [
    {
     "data": {
      "text/plain": [
       "[0, 2, 4, 6, 8, 10, 12, 14, 16, 18]"
      ]
     },
     "execution_count": 1,
     "metadata": {},
     "output_type": "execute_result"
    }
   ],
   "execution_count": 1
  },
  {
   "metadata": {
    "ExecuteTime": {
     "end_time": "2025-09-18T13:06:18.570636Z",
     "start_time": "2025-09-18T13:06:18.551599Z"
    }
   },
   "cell_type": "code",
   "source": [
    "seq = [1, 2, 3, 4]\n",
    "\n",
    "for i in range(len(seq)):\n",
    "    print(f\"element {i}:{seq[i]}\")"
   ],
   "id": "ddd2923beb772522",
   "outputs": [
    {
     "name": "stdout",
     "output_type": "stream",
     "text": [
      "element 0:1\n",
      "element 1:2\n",
      "element 2:3\n",
      "element 3:4\n"
     ]
    }
   ],
   "execution_count": 2
  },
  {
   "metadata": {},
   "cell_type": "code",
   "outputs": [],
   "execution_count": null,
   "source": "",
   "id": "8fd18bf91d0ebbb9"
  },
  {
   "metadata": {},
   "cell_type": "markdown",
   "source": "## Chapter 2: Built-in DS",
   "id": "6ba48962afd74be"
  },
  {
   "metadata": {},
   "cell_type": "code",
   "outputs": [],
   "execution_count": null,
   "source": [
    "\"\"\"\n",
    "Chapter 3: Built-in DS, functions and files\n",
    "\"\"\""
   ],
   "id": "9ccaf3ac511dacf9"
  },
  {
   "metadata": {
    "ExecuteTime": {
     "end_time": "2025-09-18T13:12:55.856614Z",
     "start_time": "2025-09-18T13:12:55.845523Z"
    }
   },
   "cell_type": "code",
   "source": "tup = (1, 2, 3)",
   "id": "ec021c45332ade6",
   "outputs": [],
   "execution_count": 3
  },
  {
   "metadata": {
    "ExecuteTime": {
     "end_time": "2025-09-18T13:12:58.440233Z",
     "start_time": "2025-09-18T13:12:58.424748Z"
    }
   },
   "cell_type": "code",
   "source": "tup",
   "id": "a5dccfe1b9c99607",
   "outputs": [
    {
     "data": {
      "text/plain": [
       "(1, 2, 3)"
      ]
     },
     "execution_count": 4,
     "metadata": {},
     "output_type": "execute_result"
    }
   ],
   "execution_count": 4
  },
  {
   "metadata": {
    "ExecuteTime": {
     "end_time": "2025-09-18T13:13:04.029047Z",
     "start_time": "2025-09-18T13:13:04.017722Z"
    }
   },
   "cell_type": "code",
   "source": "tup = 1,2,3",
   "id": "ca502968024eea8b",
   "outputs": [],
   "execution_count": 5
  },
  {
   "metadata": {
    "ExecuteTime": {
     "end_time": "2025-09-18T13:13:08.009868Z",
     "start_time": "2025-09-18T13:13:07.994389Z"
    }
   },
   "cell_type": "code",
   "source": "tup",
   "id": "21074ce312ac74c3",
   "outputs": [
    {
     "data": {
      "text/plain": [
       "(1, 2, 3)"
      ]
     },
     "execution_count": 6,
     "metadata": {},
     "output_type": "execute_result"
    }
   ],
   "execution_count": 6
  },
  {
   "metadata": {
    "ExecuteTime": {
     "end_time": "2025-09-18T13:13:43.647934Z",
     "start_time": "2025-09-18T13:13:43.631468Z"
    }
   },
   "cell_type": "code",
   "source": "tuple([4, 5, 6])",
   "id": "b27651e759276ff7",
   "outputs": [
    {
     "data": {
      "text/plain": [
       "(4, 5, 6)"
      ]
     },
     "execution_count": 7,
     "metadata": {},
     "output_type": "execute_result"
    }
   ],
   "execution_count": 7
  },
  {
   "metadata": {
    "ExecuteTime": {
     "end_time": "2025-09-18T13:14:08.449312Z",
     "start_time": "2025-09-18T13:14:08.436758Z"
    }
   },
   "cell_type": "code",
   "source": "tup = tuple('dklnlkdndf')",
   "id": "22935ebf44e57ae8",
   "outputs": [],
   "execution_count": 8
  },
  {
   "metadata": {
    "ExecuteTime": {
     "end_time": "2025-09-18T13:14:10.859084Z",
     "start_time": "2025-09-18T13:14:10.838151Z"
    }
   },
   "cell_type": "code",
   "source": "tup",
   "id": "8ce9b4ab1f6444c8",
   "outputs": [
    {
     "data": {
      "text/plain": [
       "('d', 'k', 'l', 'n', 'l', 'k', 'd', 'n', 'd', 'f')"
      ]
     },
     "execution_count": 9,
     "metadata": {},
     "output_type": "execute_result"
    }
   ],
   "execution_count": 9
  },
  {
   "metadata": {
    "ExecuteTime": {
     "end_time": "2025-09-18T13:14:28.745389Z",
     "start_time": "2025-09-18T13:14:28.538655Z"
    }
   },
   "cell_type": "code",
   "source": "tuple?",
   "id": "a91ce7288ab78805",
   "outputs": [],
   "execution_count": 11
  },
  {
   "metadata": {
    "ExecuteTime": {
     "end_time": "2025-09-18T13:14:51.771723Z",
     "start_time": "2025-09-18T13:14:51.753591Z"
    }
   },
   "cell_type": "code",
   "source": "str?",
   "id": "638033e9a1d9595e",
   "outputs": [],
   "execution_count": 13
  },
  {
   "metadata": {
    "ExecuteTime": {
     "end_time": "2025-09-18T13:17:16.827596Z",
     "start_time": "2025-09-18T13:17:16.813285Z"
    }
   },
   "cell_type": "code",
   "source": "(1, 2, 'dfdf') + ([\"Gh\", 54], 7)",
   "id": "92b407ac43d330da",
   "outputs": [
    {
     "data": {
      "text/plain": [
       "(1, 2, 'dfdf', ['Gh', 54], 7)"
      ]
     },
     "execution_count": 14,
     "metadata": {},
     "output_type": "execute_result"
    }
   ],
   "execution_count": 14
  },
  {
   "metadata": {
    "ExecuteTime": {
     "end_time": "2025-09-18T13:17:28.394140Z",
     "start_time": "2025-09-18T13:17:28.373448Z"
    }
   },
   "cell_type": "code",
   "source": "(1, 2, 'dfdf') + ([\"Gh\", 54], 7) * 2",
   "id": "ac5f14ade1a5604a",
   "outputs": [
    {
     "data": {
      "text/plain": [
       "(1, 2, 'dfdf', ['Gh', 54], 7, ['Gh', 54], 7)"
      ]
     },
     "execution_count": 15,
     "metadata": {},
     "output_type": "execute_result"
    }
   ],
   "execution_count": 15
  },
  {
   "metadata": {
    "ExecuteTime": {
     "end_time": "2025-09-18T13:18:46.978205Z",
     "start_time": "2025-09-18T13:18:46.966051Z"
    }
   },
   "cell_type": "code",
   "source": [
    "a = 4\n",
    "b = 6"
   ],
   "id": "fb1fd0419c88d7bd",
   "outputs": [],
   "execution_count": 16
  },
  {
   "metadata": {
    "ExecuteTime": {
     "end_time": "2025-09-18T13:18:52.002255Z",
     "start_time": "2025-09-18T13:18:51.991319Z"
    }
   },
   "cell_type": "code",
   "source": "a, b = b, a",
   "id": "45d4e308dd3fe316",
   "outputs": [],
   "execution_count": 17
  },
  {
   "metadata": {
    "ExecuteTime": {
     "end_time": "2025-09-18T13:18:54.104822Z",
     "start_time": "2025-09-18T13:18:54.090540Z"
    }
   },
   "cell_type": "code",
   "source": "a",
   "id": "3562d2adaf5a39ef",
   "outputs": [
    {
     "data": {
      "text/plain": [
       "6"
      ]
     },
     "execution_count": 18,
     "metadata": {},
     "output_type": "execute_result"
    }
   ],
   "execution_count": 18
  },
  {
   "metadata": {
    "ExecuteTime": {
     "end_time": "2025-09-18T13:20:18.416448Z",
     "start_time": "2025-09-18T13:20:18.401617Z"
    }
   },
   "cell_type": "code",
   "source": [
    "seq = [(1, 2, 3), (4, 5, 6), (7, 8, 9)]\n",
    "for a, b, c in seq:\n",
    "    print(f\"a = {a}, b = {b}, c = {c}\")"
   ],
   "id": "2551dc5bc53a0876",
   "outputs": [
    {
     "name": "stdout",
     "output_type": "stream",
     "text": [
      "a = 1, b = 2, c = 3\n",
      "a = 4, b = 5, c = 6\n",
      "a = 7, b = 8, c = 9\n"
     ]
    }
   ],
   "execution_count": 20
  },
  {
   "metadata": {
    "ExecuteTime": {
     "end_time": "2025-09-18T13:21:08.192076Z",
     "start_time": "2025-09-18T13:21:08.182564Z"
    }
   },
   "cell_type": "code",
   "source": "a, *b = seq[0]",
   "id": "fbb999ab0a3ff076",
   "outputs": [],
   "execution_count": 21
  },
  {
   "metadata": {
    "ExecuteTime": {
     "end_time": "2025-09-18T13:21:25.094060Z",
     "start_time": "2025-09-18T13:21:25.079979Z"
    }
   },
   "cell_type": "code",
   "source": [
    "b\n",
    "# llliiiissssssttttt"
   ],
   "id": "4d9272dbc618e971",
   "outputs": [
    {
     "data": {
      "text/plain": [
       "[2, 3]"
      ]
     },
     "execution_count": 24,
     "metadata": {},
     "output_type": "execute_result"
    }
   ],
   "execution_count": 24
  },
  {
   "metadata": {
    "ExecuteTime": {
     "end_time": "2025-09-18T13:21:11.485012Z",
     "start_time": "2025-09-18T13:21:11.470537Z"
    }
   },
   "cell_type": "code",
   "source": "a",
   "id": "6b4753c9c80d0db3",
   "outputs": [
    {
     "data": {
      "text/plain": [
       "1"
      ]
     },
     "execution_count": 23,
     "metadata": {},
     "output_type": "execute_result"
    }
   ],
   "execution_count": 23
  },
  {
   "metadata": {
    "ExecuteTime": {
     "end_time": "2025-09-18T13:21:58.267085Z",
     "start_time": "2025-09-18T13:21:58.252460Z"
    }
   },
   "cell_type": "code",
   "source": "a?",
   "id": "1d6f77347a6658d",
   "outputs": [],
   "execution_count": 25
  },
  {
   "metadata": {
    "ExecuteTime": {
     "end_time": "2025-09-18T13:22:17.071655Z",
     "start_time": "2025-09-18T13:22:17.057251Z"
    }
   },
   "cell_type": "code",
   "source": "a = 1,2,5,8,7,4,2,15,7,5",
   "id": "cf39c89ee3aba8be",
   "outputs": [],
   "execution_count": 26
  },
  {
   "metadata": {
    "ExecuteTime": {
     "end_time": "2025-09-18T13:22:23.409534Z",
     "start_time": "2025-09-18T13:22:23.392277Z"
    }
   },
   "cell_type": "code",
   "source": "a.count(2)",
   "id": "5ae6b2cbea73233a",
   "outputs": [
    {
     "data": {
      "text/plain": [
       "2"
      ]
     },
     "execution_count": 27,
     "metadata": {},
     "output_type": "execute_result"
    }
   ],
   "execution_count": 27
  },
  {
   "metadata": {
    "ExecuteTime": {
     "end_time": "2025-09-19T13:09:50.222710Z",
     "start_time": "2025-09-19T13:09:50.213357Z"
    }
   },
   "cell_type": "code",
   "source": "gen = range(10)",
   "id": "35323aba133e09a0",
   "outputs": [],
   "execution_count": 1
  },
  {
   "metadata": {
    "ExecuteTime": {
     "end_time": "2025-09-19T13:10:07.531857Z",
     "start_time": "2025-09-19T13:10:07.518361Z"
    }
   },
   "cell_type": "code",
   "source": "gen",
   "id": "613fd21b13d52f17",
   "outputs": [
    {
     "data": {
      "text/plain": [
       "range(0, 10)"
      ]
     },
     "execution_count": 2,
     "metadata": {},
     "output_type": "execute_result"
    }
   ],
   "execution_count": 2
  },
  {
   "metadata": {
    "ExecuteTime": {
     "end_time": "2025-09-19T13:10:47.856096Z",
     "start_time": "2025-09-19T13:10:47.847948Z"
    }
   },
   "cell_type": "code",
   "source": [
    "# Materialize an iterator or generator by list\n",
    "list(gen)"
   ],
   "id": "32d15e1f4ceee7ea",
   "outputs": [
    {
     "data": {
      "text/plain": [
       "[0, 1, 2, 3, 4, 5, 6, 7, 8, 9]"
      ]
     },
     "execution_count": 3,
     "metadata": {},
     "output_type": "execute_result"
    }
   ],
   "execution_count": 3
  },
  {
   "metadata": {
    "ExecuteTime": {
     "end_time": "2025-09-19T13:11:23.567815Z",
     "start_time": "2025-09-19T13:11:23.560013Z"
    }
   },
   "cell_type": "code",
   "source": "a = list(gen)",
   "id": "49c893caf0672c3d",
   "outputs": [],
   "execution_count": 4
  },
  {
   "metadata": {
    "ExecuteTime": {
     "end_time": "2025-09-19T13:11:37.075053Z",
     "start_time": "2025-09-19T13:11:37.069002Z"
    }
   },
   "cell_type": "code",
   "source": "a.append(\"klgnfg\")",
   "id": "b0ca8d6e4a6b22b",
   "outputs": [],
   "execution_count": 5
  },
  {
   "metadata": {
    "ExecuteTime": {
     "end_time": "2025-09-19T13:11:37.638083Z",
     "start_time": "2025-09-19T13:11:37.627948Z"
    }
   },
   "cell_type": "code",
   "source": "a",
   "id": "4923b8f70aa9a25c",
   "outputs": [
    {
     "data": {
      "text/plain": [
       "[0, 1, 2, 3, 4, 5, 6, 7, 8, 9, 'klgnfg']"
      ]
     },
     "execution_count": 6,
     "metadata": {},
     "output_type": "execute_result"
    }
   ],
   "execution_count": 6
  },
  {
   "metadata": {
    "ExecuteTime": {
     "end_time": "2025-09-19T13:11:54.076410Z",
     "start_time": "2025-09-19T13:11:54.065465Z"
    }
   },
   "cell_type": "code",
   "source": [
    "a.insert(2, \"After 1 before 2\")\n",
    "# Or just only in the 2nd index and push whatever there forward"
   ],
   "id": "10caafcf69224bb1",
   "outputs": [],
   "execution_count": 7
  },
  {
   "metadata": {
    "ExecuteTime": {
     "end_time": "2025-09-19T13:11:56.627701Z",
     "start_time": "2025-09-19T13:11:56.617613Z"
    }
   },
   "cell_type": "code",
   "source": "a",
   "id": "e5edc30e5f191bb8",
   "outputs": [
    {
     "data": {
      "text/plain": [
       "[0, 1, 'After 1 before 2', 2, 3, 4, 5, 6, 7, 8, 9, 'klgnfg']"
      ]
     },
     "execution_count": 8,
     "metadata": {},
     "output_type": "execute_result"
    }
   ],
   "execution_count": 8
  },
  {
   "metadata": {
    "ExecuteTime": {
     "end_time": "2025-09-19T13:13:14.637237Z",
     "start_time": "2025-09-19T13:13:14.628110Z"
    }
   },
   "cell_type": "code",
   "source": "# insert is computationally expensive compared with append",
   "id": "9ea7f2160b6bb977",
   "outputs": [],
   "execution_count": 9
  },
  {
   "metadata": {
    "ExecuteTime": {
     "end_time": "2025-09-19T13:14:17.194311Z",
     "start_time": "2025-09-19T13:14:17.184210Z"
    }
   },
   "cell_type": "code",
   "source": [
    "# Insert XXXXXX Pop\n",
    "a.pop(2)"
   ],
   "id": "d13a65a888607546",
   "outputs": [
    {
     "data": {
      "text/plain": [
       "'After 1 before 2'"
      ]
     },
     "execution_count": 10,
     "metadata": {},
     "output_type": "execute_result"
    }
   ],
   "execution_count": 10
  },
  {
   "metadata": {
    "ExecuteTime": {
     "end_time": "2025-09-19T13:14:17.870070Z",
     "start_time": "2025-09-19T13:14:17.859439Z"
    }
   },
   "cell_type": "code",
   "source": "a",
   "id": "bcded527fd7b8dcd",
   "outputs": [
    {
     "data": {
      "text/plain": [
       "[0, 1, 2, 3, 4, 5, 6, 7, 8, 9, 'klgnfg']"
      ]
     },
     "execution_count": 11,
     "metadata": {},
     "output_type": "execute_result"
    }
   ],
   "execution_count": 11
  },
  {
   "metadata": {
    "ExecuteTime": {
     "end_time": "2025-09-19T13:15:58.721476Z",
     "start_time": "2025-09-19T13:15:58.713802Z"
    }
   },
   "cell_type": "code",
   "source": [
    "# Remove by value not index\n",
    "a.remove('klgnfg')"
   ],
   "id": "1bb9590572fe63f3",
   "outputs": [],
   "execution_count": 12
  },
  {
   "metadata": {
    "ExecuteTime": {
     "end_time": "2025-09-19T13:15:59.445464Z",
     "start_time": "2025-09-19T13:15:59.437848Z"
    }
   },
   "cell_type": "code",
   "source": "a",
   "id": "3f12a6c08ffb7e27",
   "outputs": [
    {
     "data": {
      "text/plain": [
       "[0, 1, 2, 3, 4, 5, 6, 7, 8, 9]"
      ]
     },
     "execution_count": 13,
     "metadata": {},
     "output_type": "execute_result"
    }
   ],
   "execution_count": 13
  },
  {
   "metadata": {
    "ExecuteTime": {
     "end_time": "2025-09-19T13:16:53.000798Z",
     "start_time": "2025-09-19T13:16:52.994126Z"
    }
   },
   "cell_type": "code",
   "source": [
    "if(a):\n",
    "   print(\"Exist\")"
   ],
   "id": "5e66a2841968307b",
   "outputs": [
    {
     "name": "stdout",
     "output_type": "stream",
     "text": [
      "Exist\n"
     ]
    }
   ],
   "execution_count": 14
  },
  {
   "metadata": {
    "ExecuteTime": {
     "end_time": "2025-09-19T13:17:15.190617Z",
     "start_time": "2025-09-19T13:17:15.183609Z"
    }
   },
   "cell_type": "code",
   "source": [
    "b = None\n",
    "if(not b):\n",
    "    print(\"Not exist\")"
   ],
   "id": "b8b9b7e76f69f368",
   "outputs": [
    {
     "name": "stdout",
     "output_type": "stream",
     "text": [
      "Not exist\n"
     ]
    }
   ],
   "execution_count": 15
  },
  {
   "metadata": {
    "ExecuteTime": {
     "end_time": "2025-09-19T13:17:26.598550Z",
     "start_time": "2025-09-19T13:17:26.592612Z"
    }
   },
   "cell_type": "code",
   "source": "0 in a",
   "id": "83ba9bb12f6410ab",
   "outputs": [
    {
     "data": {
      "text/plain": [
       "True"
      ]
     },
     "execution_count": 16,
     "metadata": {},
     "output_type": "execute_result"
    }
   ],
   "execution_count": 16
  },
  {
   "metadata": {
    "ExecuteTime": {
     "end_time": "2025-09-19T13:17:32.090358Z",
     "start_time": "2025-09-19T13:17:32.083323Z"
    }
   },
   "cell_type": "code",
   "source": "51 not in a",
   "id": "b9818de41dfc5c19",
   "outputs": [
    {
     "data": {
      "text/plain": [
       "True"
      ]
     },
     "execution_count": 17,
     "metadata": {},
     "output_type": "execute_result"
    }
   ],
   "execution_count": 17
  },
  {
   "metadata": {
    "ExecuteTime": {
     "end_time": "2025-09-19T13:18:02.442195Z",
     "start_time": "2025-09-19T13:18:02.433432Z"
    }
   },
   "cell_type": "code",
   "source": "(1, 2, 3) + (8, 9)",
   "id": "3168990278c8b827",
   "outputs": [
    {
     "data": {
      "text/plain": [
       "(1, 2, 3, 8, 9)"
      ]
     },
     "execution_count": 18,
     "metadata": {},
     "output_type": "execute_result"
    }
   ],
   "execution_count": 18
  },
  {
   "metadata": {
    "ExecuteTime": {
     "end_time": "2025-09-19T13:18:15.795814Z",
     "start_time": "2025-09-19T13:18:15.786141Z"
    }
   },
   "cell_type": "code",
   "source": "[1, 4, 9] + [65, 79, 988]",
   "id": "bbbea2f2d2a276f1",
   "outputs": [
    {
     "data": {
      "text/plain": [
       "[1, 4, 9, 65, 79, 988]"
      ]
     },
     "execution_count": 19,
     "metadata": {},
     "output_type": "execute_result"
    }
   ],
   "execution_count": 19
  },
  {
   "metadata": {
    "ExecuteTime": {
     "end_time": "2025-09-19T13:19:21.551819Z",
     "start_time": "2025-09-19T13:19:21.542686Z"
    }
   },
   "cell_type": "code",
   "source": "x = [1, None, 3]",
   "id": "2635eca9936b0cb7",
   "outputs": [],
   "execution_count": 20
  },
  {
   "metadata": {
    "ExecuteTime": {
     "end_time": "2025-09-19T13:19:28.178017Z",
     "start_time": "2025-09-19T13:19:28.170514Z"
    }
   },
   "cell_type": "code",
   "source": "x.extend([4, 5, 6])",
   "id": "f9f319347d410c22",
   "outputs": [],
   "execution_count": 21
  },
  {
   "metadata": {
    "ExecuteTime": {
     "end_time": "2025-09-19T13:19:28.624038Z",
     "start_time": "2025-09-19T13:19:28.615071Z"
    }
   },
   "cell_type": "code",
   "source": "x",
   "id": "6a6b7f88fa0210d5",
   "outputs": [
    {
     "data": {
      "text/plain": [
       "[1, None, 3, 4, 5, 6]"
      ]
     },
     "execution_count": 22,
     "metadata": {},
     "output_type": "execute_result"
    }
   ],
   "execution_count": 22
  },
  {
   "metadata": {
    "ExecuteTime": {
     "end_time": "2025-09-19T13:20:30.498587Z",
     "start_time": "2025-09-19T13:20:30.490357Z"
    }
   },
   "cell_type": "code",
   "source": [
    "a = [7, 2, 8, 2, 0, 78]\n",
    "a.sort()"
   ],
   "id": "91c0bfb89a1b18e4",
   "outputs": [],
   "execution_count": 23
  },
  {
   "metadata": {
    "ExecuteTime": {
     "end_time": "2025-09-19T13:20:30.961550Z",
     "start_time": "2025-09-19T13:20:30.952725Z"
    }
   },
   "cell_type": "code",
   "source": "a",
   "id": "aad91a8f62f6172c",
   "outputs": [
    {
     "data": {
      "text/plain": [
       "[0, 2, 2, 7, 8, 78]"
      ]
     },
     "execution_count": 24,
     "metadata": {},
     "output_type": "execute_result"
    }
   ],
   "execution_count": 24
  },
  {
   "metadata": {
    "ExecuteTime": {
     "end_time": "2025-09-20T04:10:29.053895Z",
     "start_time": "2025-09-20T04:10:29.045840Z"
    }
   },
   "cell_type": "code",
   "source": [
    "b = [\"sd\", \"f, 545\", \"Dfdf\"]\n",
    "b.sort(key=len)"
   ],
   "id": "7e45e269ccc23bd5",
   "outputs": [],
   "execution_count": 1
  },
  {
   "metadata": {
    "ExecuteTime": {
     "end_time": "2025-09-20T04:10:29.102348Z",
     "start_time": "2025-09-20T04:10:29.092168Z"
    }
   },
   "cell_type": "code",
   "source": "b",
   "id": "4842a1c0d79224d",
   "outputs": [
    {
     "data": {
      "text/plain": [
       "['sd', 'Dfdf', 'f, 545']"
      ]
     },
     "execution_count": 2,
     "metadata": {},
     "output_type": "execute_result"
    }
   ],
   "execution_count": 2
  },
  {
   "metadata": {
    "ExecuteTime": {
     "end_time": "2025-09-20T04:12:08.710241Z",
     "start_time": "2025-09-20T04:12:08.705209Z"
    }
   },
   "cell_type": "code",
   "source": "seq = [7, 2, 3, 7, 5, 6, 0, 1]",
   "id": "e5c266ac24844ca1",
   "outputs": [],
   "execution_count": 6
  },
  {
   "metadata": {
    "ExecuteTime": {
     "end_time": "2025-09-20T04:12:12.332283Z",
     "start_time": "2025-09-20T04:12:12.326757Z"
    }
   },
   "cell_type": "code",
   "source": "seq[1] = [5, 5]",
   "id": "f1bc657a8800e358",
   "outputs": [],
   "execution_count": 7
  },
  {
   "metadata": {
    "ExecuteTime": {
     "end_time": "2025-09-20T04:12:12.602704Z",
     "start_time": "2025-09-20T04:12:12.596044Z"
    }
   },
   "cell_type": "code",
   "source": "seq",
   "id": "614564cb6b83e9f5",
   "outputs": [
    {
     "data": {
      "text/plain": [
       "[7, [5, 5], 3, 7, 5, 6, 0, 1]"
      ]
     },
     "execution_count": 8,
     "metadata": {},
     "output_type": "execute_result"
    }
   ],
   "execution_count": 8
  },
  {
   "metadata": {
    "ExecuteTime": {
     "end_time": "2025-09-20T04:12:24.480842Z",
     "start_time": "2025-09-20T04:12:24.475317Z"
    }
   },
   "cell_type": "code",
   "source": "seq = [7, 2, 3, 7, 5, 6, 0, 1]\n",
   "id": "5805608996a95a29",
   "outputs": [],
   "execution_count": 9
  },
  {
   "metadata": {
    "ExecuteTime": {
     "end_time": "2025-09-20T04:12:38.136317Z",
     "start_time": "2025-09-20T04:12:38.131199Z"
    }
   },
   "cell_type": "code",
   "source": "seq[1:] = [5, 5]",
   "id": "1f0c95d8bc7e169a",
   "outputs": [],
   "execution_count": 10
  },
  {
   "metadata": {
    "ExecuteTime": {
     "end_time": "2025-09-20T04:12:39.823172Z",
     "start_time": "2025-09-20T04:12:39.817693Z"
    }
   },
   "cell_type": "code",
   "source": "seq",
   "id": "e682e807dd6edac7",
   "outputs": [
    {
     "data": {
      "text/plain": [
       "[7, 5, 5]"
      ]
     },
     "execution_count": 11,
     "metadata": {},
     "output_type": "execute_result"
    }
   ],
   "execution_count": 11
  },
  {
   "metadata": {
    "ExecuteTime": {
     "end_time": "2025-09-20T04:17:14.566480Z",
     "start_time": "2025-09-20T04:17:14.559932Z"
    }
   },
   "cell_type": "code",
   "source": "d1 = {\"a\": \"some value\", \"b\": [1, 2, 3, 4]}",
   "id": "8a96cacd7d6c5449",
   "outputs": [],
   "execution_count": 12
  },
  {
   "metadata": {
    "ExecuteTime": {
     "end_time": "2025-09-20T04:17:16.020810Z",
     "start_time": "2025-09-20T04:17:16.014286Z"
    }
   },
   "cell_type": "code",
   "source": "d1",
   "id": "67153f4398fba18d",
   "outputs": [
    {
     "data": {
      "text/plain": [
       "{'a': 'some value', 'b': [1, 2, 3, 4]}"
      ]
     },
     "execution_count": 13,
     "metadata": {},
     "output_type": "execute_result"
    }
   ],
   "execution_count": 13
  },
  {
   "metadata": {
    "ExecuteTime": {
     "end_time": "2025-09-20T04:17:34.104631Z",
     "start_time": "2025-09-20T04:17:34.099102Z"
    }
   },
   "cell_type": "code",
   "source": "d1[7] = \"an integer\"",
   "id": "4abf1864df0301f",
   "outputs": [],
   "execution_count": 14
  },
  {
   "metadata": {
    "ExecuteTime": {
     "end_time": "2025-09-20T04:17:35.449368Z",
     "start_time": "2025-09-20T04:17:35.440788Z"
    }
   },
   "cell_type": "code",
   "source": "d1",
   "id": "dbc2773451996bc0",
   "outputs": [
    {
     "data": {
      "text/plain": [
       "{'a': 'some value', 'b': [1, 2, 3, 4], 7: 'an integer'}"
      ]
     },
     "execution_count": 15,
     "metadata": {},
     "output_type": "execute_result"
    }
   ],
   "execution_count": 15
  },
  {
   "metadata": {
    "ExecuteTime": {
     "end_time": "2025-09-20T04:17:49.010841Z",
     "start_time": "2025-09-20T04:17:49.005318Z"
    }
   },
   "cell_type": "code",
   "source": "d1['b']",
   "id": "7381271d328ccb6a",
   "outputs": [
    {
     "data": {
      "text/plain": [
       "[1, 2, 3, 4]"
      ]
     },
     "execution_count": 16,
     "metadata": {},
     "output_type": "execute_result"
    }
   ],
   "execution_count": 16
  },
  {
   "metadata": {
    "ExecuteTime": {
     "end_time": "2025-09-20T04:17:57.691915Z",
     "start_time": "2025-09-20T04:17:57.685401Z"
    }
   },
   "cell_type": "code",
   "source": "'b' in d1",
   "id": "69f5357a17bd2ab7",
   "outputs": [
    {
     "data": {
      "text/plain": [
       "True"
      ]
     },
     "execution_count": 17,
     "metadata": {},
     "output_type": "execute_result"
    }
   ],
   "execution_count": 17
  },
  {
   "metadata": {
    "ExecuteTime": {
     "end_time": "2025-09-20T04:18:30.832347Z",
     "start_time": "2025-09-20T04:18:30.827014Z"
    }
   },
   "cell_type": "code",
   "source": "d1[5] = \"some value\"",
   "id": "ec4c18e31091368d",
   "outputs": [],
   "execution_count": 18
  },
  {
   "metadata": {
    "ExecuteTime": {
     "end_time": "2025-09-20T04:18:33.813435Z",
     "start_time": "2025-09-20T04:18:33.806890Z"
    }
   },
   "cell_type": "code",
   "source": "d1",
   "id": "9b22accce831531f",
   "outputs": [
    {
     "data": {
      "text/plain": [
       "{'a': 'some value', 'b': [1, 2, 3, 4], 7: 'an integer', 5: 'some value'}"
      ]
     },
     "execution_count": 19,
     "metadata": {},
     "output_type": "execute_result"
    }
   ],
   "execution_count": 19
  },
  {
   "metadata": {
    "ExecuteTime": {
     "end_time": "2025-09-20T04:18:53.066177Z",
     "start_time": "2025-09-20T04:18:53.059886Z"
    }
   },
   "cell_type": "code",
   "source": [
    "d1[\"dummy\"] = \"another value\"\n",
    "d1"
   ],
   "id": "e97869dbf9e40c0b",
   "outputs": [
    {
     "data": {
      "text/plain": [
       "{'a': 'some value',\n",
       " 'b': [1, 2, 3, 4],\n",
       " 7: 'an integer',\n",
       " 5: 'some value',\n",
       " 'dummy': 'another value'}"
      ]
     },
     "execution_count": 20,
     "metadata": {},
     "output_type": "execute_result"
    }
   ],
   "execution_count": 20
  },
  {
   "metadata": {
    "ExecuteTime": {
     "end_time": "2025-09-20T04:19:02.722262Z",
     "start_time": "2025-09-20T04:19:02.716848Z"
    }
   },
   "cell_type": "code",
   "source": "del d1[\"dummy\"]",
   "id": "d9a7099ffbe17de4",
   "outputs": [],
   "execution_count": 21
  },
  {
   "metadata": {
    "ExecuteTime": {
     "end_time": "2025-09-20T04:19:05.445968Z",
     "start_time": "2025-09-20T04:19:05.439516Z"
    }
   },
   "cell_type": "code",
   "source": "d1",
   "id": "8b8ce77aca25b1e1",
   "outputs": [
    {
     "data": {
      "text/plain": [
       "{'a': 'some value', 'b': [1, 2, 3, 4], 7: 'an integer', 5: 'some value'}"
      ]
     },
     "execution_count": 22,
     "metadata": {},
     "output_type": "execute_result"
    }
   ],
   "execution_count": 22
  },
  {
   "metadata": {
    "ExecuteTime": {
     "end_time": "2025-09-20T04:19:41.178818Z",
     "start_time": "2025-09-20T04:19:41.169287Z"
    }
   },
   "cell_type": "code",
   "source": "d1.pop(5)",
   "id": "ea30112923b8e779",
   "outputs": [
    {
     "data": {
      "text/plain": [
       "'some value'"
      ]
     },
     "execution_count": 24,
     "metadata": {},
     "output_type": "execute_result"
    }
   ],
   "execution_count": 24
  },
  {
   "metadata": {
    "ExecuteTime": {
     "end_time": "2025-09-20T04:19:42.795481Z",
     "start_time": "2025-09-20T04:19:42.788212Z"
    }
   },
   "cell_type": "code",
   "source": "d1",
   "id": "dbcedbd2da9c58a5",
   "outputs": [
    {
     "data": {
      "text/plain": [
       "{'a': 'some value', 'b': [1, 2, 3, 4], 7: 'an integer'}"
      ]
     },
     "execution_count": 25,
     "metadata": {},
     "output_type": "execute_result"
    }
   ],
   "execution_count": 25
  },
  {
   "metadata": {
    "ExecuteTime": {
     "end_time": "2025-09-20T04:20:16.754254Z",
     "start_time": "2025-09-20T04:20:16.746762Z"
    }
   },
   "cell_type": "code",
   "source": "list(d1.items())",
   "id": "8efb39b56853ca3f",
   "outputs": [
    {
     "data": {
      "text/plain": [
       "[('a', 'some value'), ('b', [1, 2, 3, 4]), (7, 'an integer')]"
      ]
     },
     "execution_count": 26,
     "metadata": {},
     "output_type": "execute_result"
    }
   ],
   "execution_count": 26
  },
  {
   "metadata": {
    "ExecuteTime": {
     "end_time": "2025-09-20T04:20:33.801084Z",
     "start_time": "2025-09-20T04:20:33.794082Z"
    }
   },
   "cell_type": "code",
   "source": "list(d1.keys())",
   "id": "360cb940a53b3d12",
   "outputs": [
    {
     "data": {
      "text/plain": [
       "['a', 'b', 7]"
      ]
     },
     "execution_count": 27,
     "metadata": {},
     "output_type": "execute_result"
    }
   ],
   "execution_count": 27
  },
  {
   "metadata": {
    "ExecuteTime": {
     "end_time": "2025-09-20T04:20:53.406382Z",
     "start_time": "2025-09-20T04:20:53.399863Z"
    }
   },
   "cell_type": "code",
   "source": "list(d1.values())",
   "id": "272c2b6b3d17c411",
   "outputs": [
    {
     "data": {
      "text/plain": [
       "['some value', [1, 2, 3, 4], 'an integer']"
      ]
     },
     "execution_count": 30,
     "metadata": {},
     "output_type": "execute_result"
    }
   ],
   "execution_count": 30
  },
  {
   "metadata": {
    "ExecuteTime": {
     "end_time": "2025-09-20T04:21:37.236091Z",
     "start_time": "2025-09-20T04:21:37.231596Z"
    }
   },
   "cell_type": "code",
   "source": "d1.update({'b': 'foo', \"c\": 54})",
   "id": "23623e83b8e4ad0c",
   "outputs": [],
   "execution_count": 31
  },
  {
   "metadata": {
    "ExecuteTime": {
     "end_time": "2025-09-20T04:21:38.803316Z",
     "start_time": "2025-09-20T04:21:38.795774Z"
    }
   },
   "cell_type": "code",
   "source": "d1",
   "id": "2e57bd169f836aee",
   "outputs": [
    {
     "data": {
      "text/plain": [
       "{'a': 'some value', 'b': 'foo', 7: 'an integer', 'c': 54}"
      ]
     },
     "execution_count": 32,
     "metadata": {},
     "output_type": "execute_result"
    }
   ],
   "execution_count": 32
  },
  {
   "metadata": {
    "ExecuteTime": {
     "end_time": "2025-09-25T12:07:33.531987Z",
     "start_time": "2025-09-25T12:07:33.525154Z"
    }
   },
   "cell_type": "code",
   "source": [
    "tuples = zip(range(10), reversed(range(10)))\n",
    "mapping = dict(tuples)\n",
    "mapping"
   ],
   "id": "feaec870becf7630",
   "outputs": [
    {
     "data": {
      "text/plain": [
       "{0: 9, 1: 8, 2: 7, 3: 6, 4: 5, 5: 4, 6: 3, 7: 2, 8: 1, 9: 0}"
      ]
     },
     "execution_count": 2,
     "metadata": {},
     "output_type": "execute_result"
    }
   ],
   "execution_count": 2
  },
  {
   "metadata": {
    "ExecuteTime": {
     "end_time": "2025-09-26T01:54:51.202134Z",
     "start_time": "2025-09-26T01:54:51.192696Z"
    }
   },
   "cell_type": "code",
   "source": [
    "words = [\"apple\", \"bat\", \"bar\", \"atom\", \"book\"]\n",
    "by_letter = {}\n",
    "for word in words:\n",
    "    by_letter.setdefault(word[0], []).append(word)"
   ],
   "id": "4dbeefa1ac324816",
   "outputs": [],
   "execution_count": 1
  },
  {
   "metadata": {
    "ExecuteTime": {
     "end_time": "2025-09-26T01:54:52.347812Z",
     "start_time": "2025-09-26T01:54:52.338418Z"
    }
   },
   "cell_type": "code",
   "source": "by_letter",
   "id": "cb8fb762ce70201",
   "outputs": [
    {
     "data": {
      "text/plain": [
       "{'a': ['apple', 'atom'], 'b': ['bat', 'bar', 'book']}"
      ]
     },
     "execution_count": 2,
     "metadata": {},
     "output_type": "execute_result"
    }
   ],
   "execution_count": 2
  },
  {
   "metadata": {
    "ExecuteTime": {
     "end_time": "2025-09-26T01:55:24.240961Z",
     "start_time": "2025-09-26T01:55:24.235873Z"
    }
   },
   "cell_type": "code",
   "source": [
    "from collections import defaultdict\n",
    "by_letter = defaultdict(list)\n",
    "\n",
    "for word in words:\n",
    "    by_letter[word[0]].append(word)"
   ],
   "id": "62557c0e083ece03",
   "outputs": [],
   "execution_count": 3
  },
  {
   "metadata": {
    "ExecuteTime": {
     "end_time": "2025-09-26T01:56:02.128121Z",
     "start_time": "2025-09-26T01:56:02.122075Z"
    }
   },
   "cell_type": "code",
   "source": "hash(\"sd\")",
   "id": "f8a50119d7986c07",
   "outputs": [
    {
     "data": {
      "text/plain": [
       "-7498495525349040318"
      ]
     },
     "execution_count": 4,
     "metadata": {},
     "output_type": "execute_result"
    }
   ],
   "execution_count": 4
  },
  {
   "metadata": {
    "ExecuteTime": {
     "end_time": "2025-09-26T01:56:15.093364Z",
     "start_time": "2025-09-26T01:56:15.086089Z"
    }
   },
   "cell_type": "code",
   "source": "hash((1, 2))",
   "id": "525dc67795c77735",
   "outputs": [
    {
     "data": {
      "text/plain": [
       "-3550055125485641917"
      ]
     },
     "execution_count": 6,
     "metadata": {},
     "output_type": "execute_result"
    }
   ],
   "execution_count": 6
  },
  {
   "metadata": {
    "ExecuteTime": {
     "end_time": "2025-09-26T01:56:24.635141Z",
     "start_time": "2025-09-26T01:56:24.619193Z"
    }
   },
   "cell_type": "code",
   "source": "hash([1, 4])",
   "id": "d186a2d5e5e65748",
   "outputs": [
    {
     "ename": "TypeError",
     "evalue": "unhashable type: 'list'",
     "output_type": "error",
     "traceback": [
      "\u001B[1;31m---------------------------------------------------------------------------\u001B[0m",
      "\u001B[1;31mTypeError\u001B[0m                                 Traceback (most recent call last)",
      "Cell \u001B[1;32mIn[7], line 1\u001B[0m\n\u001B[1;32m----> 1\u001B[0m \u001B[38;5;28;43mhash\u001B[39;49m\u001B[43m(\u001B[49m\u001B[43m[\u001B[49m\u001B[38;5;241;43m1\u001B[39;49m\u001B[43m,\u001B[49m\u001B[43m \u001B[49m\u001B[38;5;241;43m4\u001B[39;49m\u001B[43m]\u001B[49m\u001B[43m)\u001B[49m\n",
      "\u001B[1;31mTypeError\u001B[0m: unhashable type: 'list'"
     ]
    }
   ],
   "execution_count": 7
  },
  {
   "metadata": {
    "ExecuteTime": {
     "end_time": "2025-09-26T01:56:36.314895Z",
     "start_time": "2025-09-26T01:56:36.299855Z"
    }
   },
   "cell_type": "code",
   "source": "hash((1, 2, 3, []))",
   "id": "ee87852bbfe109b0",
   "outputs": [
    {
     "ename": "TypeError",
     "evalue": "unhashable type: 'list'",
     "output_type": "error",
     "traceback": [
      "\u001B[1;31m---------------------------------------------------------------------------\u001B[0m",
      "\u001B[1;31mTypeError\u001B[0m                                 Traceback (most recent call last)",
      "Cell \u001B[1;32mIn[8], line 1\u001B[0m\n\u001B[1;32m----> 1\u001B[0m \u001B[38;5;28;43mhash\u001B[39;49m\u001B[43m(\u001B[49m\u001B[43m(\u001B[49m\u001B[38;5;241;43m1\u001B[39;49m\u001B[43m,\u001B[49m\u001B[43m \u001B[49m\u001B[38;5;241;43m2\u001B[39;49m\u001B[43m,\u001B[49m\u001B[43m \u001B[49m\u001B[38;5;241;43m3\u001B[39;49m\u001B[43m,\u001B[49m\u001B[43m \u001B[49m\u001B[43m[\u001B[49m\u001B[43m]\u001B[49m\u001B[43m)\u001B[49m\u001B[43m)\u001B[49m\n",
      "\u001B[1;31mTypeError\u001B[0m: unhashable type: 'list'"
     ]
    }
   ],
   "execution_count": 8
  },
  {
   "metadata": {
    "ExecuteTime": {
     "end_time": "2025-09-26T01:57:08.919800Z",
     "start_time": "2025-09-26T01:57:08.913786Z"
    }
   },
   "cell_type": "code",
   "source": [
    "d = {}\n",
    "d[tuple([1, 2])] = 5\n",
    "d"
   ],
   "id": "b94c9ff39110e281",
   "outputs": [
    {
     "data": {
      "text/plain": [
       "{(1, 2): 5}"
      ]
     },
     "execution_count": 9,
     "metadata": {},
     "output_type": "execute_result"
    }
   ],
   "execution_count": 9
  },
  {
   "metadata": {
    "ExecuteTime": {
     "end_time": "2025-09-26T01:57:44.624904Z",
     "start_time": "2025-09-26T01:57:44.618874Z"
    }
   },
   "cell_type": "code",
   "source": [
    "sd = {1,2,1,2,4,5,8,7,6,2,2,3,4,5,6}\n",
    "sd"
   ],
   "id": "baae7d801d281c9f",
   "outputs": [
    {
     "data": {
      "text/plain": [
       "{1, 2, 3, 4, 5, 6, 7, 8}"
      ]
     },
     "execution_count": 10,
     "metadata": {},
     "output_type": "execute_result"
    }
   ],
   "execution_count": 10
  },
  {
   "metadata": {
    "ExecuteTime": {
     "end_time": "2025-09-26T01:58:15.133623Z",
     "start_time": "2025-09-26T01:58:15.128743Z"
    }
   },
   "cell_type": "code",
   "source": [
    "a = {1, 2, 3, 4, 5}\n",
    "b = {6, 7, 8, 9, 10, 11, 12}"
   ],
   "id": "4c94a9076ab02063",
   "outputs": [],
   "execution_count": 11
  },
  {
   "metadata": {
    "ExecuteTime": {
     "end_time": "2025-09-26T01:58:29.471462Z",
     "start_time": "2025-09-26T01:58:29.465423Z"
    }
   },
   "cell_type": "code",
   "source": "a.union(b)",
   "id": "2a4921a983a1cd2a",
   "outputs": [
    {
     "data": {
      "text/plain": [
       "{1, 2, 3, 4, 5, 6, 7, 8, 9, 10, 11, 12}"
      ]
     },
     "execution_count": 13,
     "metadata": {},
     "output_type": "execute_result"
    }
   ],
   "execution_count": 13
  },
  {
   "metadata": {
    "ExecuteTime": {
     "end_time": "2025-09-26T01:58:32.497397Z",
     "start_time": "2025-09-26T01:58:32.491414Z"
    }
   },
   "cell_type": "code",
   "source": "a.intersection(b)",
   "id": "3f84c742b7845284",
   "outputs": [
    {
     "data": {
      "text/plain": [
       "set()"
      ]
     },
     "execution_count": 14,
     "metadata": {},
     "output_type": "execute_result"
    }
   ],
   "execution_count": 14
  },
  {
   "metadata": {
    "ExecuteTime": {
     "end_time": "2025-09-26T01:58:35.574451Z",
     "start_time": "2025-09-26T01:58:35.569098Z"
    }
   },
   "cell_type": "code",
   "source": "a.difference(b)",
   "id": "f956f9b29b78b1e0",
   "outputs": [
    {
     "data": {
      "text/plain": [
       "{1, 2, 3, 4, 5}"
      ]
     },
     "execution_count": 15,
     "metadata": {},
     "output_type": "execute_result"
    }
   ],
   "execution_count": 15
  },
  {
   "metadata": {
    "ExecuteTime": {
     "end_time": "2025-09-26T01:58:42.361412Z",
     "start_time": "2025-09-26T01:58:42.355484Z"
    }
   },
   "cell_type": "code",
   "source": "a|b",
   "id": "690093e33ea58b5e",
   "outputs": [
    {
     "data": {
      "text/plain": [
       "{1, 2, 3, 4, 5, 6, 7, 8, 9, 10, 11, 12}"
      ]
     },
     "execution_count": 16,
     "metadata": {},
     "output_type": "execute_result"
    }
   ],
   "execution_count": 16
  },
  {
   "metadata": {
    "ExecuteTime": {
     "end_time": "2025-09-26T01:58:52.302233Z",
     "start_time": "2025-09-26T01:58:52.296233Z"
    }
   },
   "cell_type": "code",
   "source": "a & b",
   "id": "a5a95669204f0659",
   "outputs": [
    {
     "data": {
      "text/plain": [
       "set()"
      ]
     },
     "execution_count": 18,
     "metadata": {},
     "output_type": "execute_result"
    }
   ],
   "execution_count": 18
  },
  {
   "metadata": {
    "ExecuteTime": {
     "end_time": "2025-09-26T01:58:54.266338Z",
     "start_time": "2025-09-26T01:58:54.260829Z"
    }
   },
   "cell_type": "code",
   "source": "a - b",
   "id": "3057c4efcc21c033",
   "outputs": [
    {
     "data": {
      "text/plain": [
       "{1, 2, 3, 4, 5}"
      ]
     },
     "execution_count": 19,
     "metadata": {},
     "output_type": "execute_result"
    }
   ],
   "execution_count": 19
  },
  {
   "metadata": {
    "ExecuteTime": {
     "end_time": "2025-09-26T01:59:23.265915Z",
     "start_time": "2025-09-26T01:59:23.261913Z"
    }
   },
   "cell_type": "code",
   "source": "a &= b",
   "id": "b140941ba9fa1e43",
   "outputs": [],
   "execution_count": 20
  },
  {
   "metadata": {
    "ExecuteTime": {
     "end_time": "2025-09-26T01:59:24.147827Z",
     "start_time": "2025-09-26T01:59:24.142768Z"
    }
   },
   "cell_type": "code",
   "source": "a",
   "id": "efbb1aefc3933c5a",
   "outputs": [
    {
     "data": {
      "text/plain": [
       "set()"
      ]
     },
     "execution_count": 21,
     "metadata": {},
     "output_type": "execute_result"
    }
   ],
   "execution_count": 21
  },
  {
   "metadata": {
    "ExecuteTime": {
     "end_time": "2025-09-26T01:59:59.686660Z",
     "start_time": "2025-09-26T01:59:59.671362Z"
    }
   },
   "cell_type": "code",
   "source": "a.add([1, 2, 3])",
   "id": "7c0e29cd30ba58ea",
   "outputs": [
    {
     "ename": "TypeError",
     "evalue": "unhashable type: 'list'",
     "output_type": "error",
     "traceback": [
      "\u001B[1;31m---------------------------------------------------------------------------\u001B[0m",
      "\u001B[1;31mTypeError\u001B[0m                                 Traceback (most recent call last)",
      "Cell \u001B[1;32mIn[22], line 1\u001B[0m\n\u001B[1;32m----> 1\u001B[0m \u001B[43ma\u001B[49m\u001B[38;5;241;43m.\u001B[39;49m\u001B[43madd\u001B[49m\u001B[43m(\u001B[49m\u001B[43m[\u001B[49m\u001B[38;5;241;43m1\u001B[39;49m\u001B[43m,\u001B[49m\u001B[43m \u001B[49m\u001B[38;5;241;43m2\u001B[39;49m\u001B[43m,\u001B[49m\u001B[43m \u001B[49m\u001B[38;5;241;43m3\u001B[39;49m\u001B[43m]\u001B[49m\u001B[43m)\u001B[49m\n",
      "\u001B[1;31mTypeError\u001B[0m: unhashable type: 'list'"
     ]
    }
   ],
   "execution_count": 22
  },
  {
   "metadata": {
    "ExecuteTime": {
     "end_time": "2025-09-26T02:00:16.838435Z",
     "start_time": "2025-09-26T02:00:16.834066Z"
    }
   },
   "cell_type": "code",
   "source": "a.add(tuple([1, 2, 3]))",
   "id": "9385921652336c83",
   "outputs": [],
   "execution_count": 24
  },
  {
   "metadata": {
    "ExecuteTime": {
     "end_time": "2025-09-26T02:00:18.745181Z",
     "start_time": "2025-09-26T02:00:18.739527Z"
    }
   },
   "cell_type": "code",
   "source": "a",
   "id": "65b835a7121a3042",
   "outputs": [
    {
     "data": {
      "text/plain": [
       "{(1, 2, 3)}"
      ]
     },
     "execution_count": 25,
     "metadata": {},
     "output_type": "execute_result"
    }
   ],
   "execution_count": 25
  },
  {
   "metadata": {
    "ExecuteTime": {
     "end_time": "2025-09-27T12:37:47.415385Z",
     "start_time": "2025-09-27T12:37:47.403020Z"
    }
   },
   "cell_type": "code",
   "source": [
    "strings = [\"a\", \"as\", \"bat\", \"car\", \"dove\", \"python\"]\n",
    "[x.upper() for x in strings if len(x) > 2]"
   ],
   "id": "ec23fceb377db376",
   "outputs": [
    {
     "data": {
      "text/plain": [
       "['BAT', 'CAR', 'DOVE', 'PYTHON']"
      ]
     },
     "execution_count": 1,
     "metadata": {},
     "output_type": "execute_result"
    }
   ],
   "execution_count": 1
  },
  {
   "metadata": {
    "ExecuteTime": {
     "end_time": "2025-09-27T12:38:55.420708Z",
     "start_time": "2025-09-27T12:38:55.415861Z"
    }
   },
   "cell_type": "code",
   "source": "unique_lengths = {len(x) for x in strings}",
   "id": "351ab5bfe2066f40",
   "outputs": [],
   "execution_count": 2
  },
  {
   "metadata": {
    "ExecuteTime": {
     "end_time": "2025-09-27T12:39:04.901997Z",
     "start_time": "2025-09-27T12:39:04.896555Z"
    }
   },
   "cell_type": "code",
   "source": "unique_lengths",
   "id": "aafeb664ed8ea16b",
   "outputs": [
    {
     "data": {
      "text/plain": [
       "{1, 2, 3, 4, 6}"
      ]
     },
     "execution_count": 5,
     "metadata": {},
     "output_type": "execute_result"
    }
   ],
   "execution_count": 5
  },
  {
   "metadata": {
    "ExecuteTime": {
     "end_time": "2025-09-27T12:39:22.624758Z",
     "start_time": "2025-09-27T12:39:22.619643Z"
    }
   },
   "cell_type": "code",
   "source": "set(map(len, strings))",
   "id": "bf330038ad40f3d5",
   "outputs": [
    {
     "data": {
      "text/plain": [
       "{1, 2, 3, 4, 6}"
      ]
     },
     "execution_count": 6,
     "metadata": {},
     "output_type": "execute_result"
    }
   ],
   "execution_count": 6
  },
  {
   "metadata": {
    "ExecuteTime": {
     "end_time": "2025-09-27T12:40:20.611341Z",
     "start_time": "2025-09-27T12:40:20.604999Z"
    }
   },
   "cell_type": "code",
   "source": [
    "loc_mapping = {value: index for index, value in enumerate(strings)}\n",
    "loc_mapping"
   ],
   "id": "318bf4bae7816e88",
   "outputs": [
    {
     "data": {
      "text/plain": [
       "{'a': 0, 'as': 1, 'bat': 2, 'car': 3, 'dove': 4, 'python': 5}"
      ]
     },
     "execution_count": 7,
     "metadata": {},
     "output_type": "execute_result"
    }
   ],
   "execution_count": 7
  },
  {
   "metadata": {
    "ExecuteTime": {
     "end_time": "2025-09-27T12:43:01.197817Z",
     "start_time": "2025-09-27T12:43:01.193660Z"
    }
   },
   "cell_type": "code",
   "source": "all_data = [[\"John\", \"Emily\", \"Michael\", \"Mary\",\"Steven\"], [\"Maria\", \"Juan\", \"Javier\", \"Natalia\", \"Pilar\"]]",
   "id": "7c2e48bf9adde214",
   "outputs": [],
   "execution_count": 8
  },
  {
   "metadata": {
    "ExecuteTime": {
     "end_time": "2025-09-27T12:45:14.971199Z",
     "start_time": "2025-09-27T12:45:14.966654Z"
    }
   },
   "cell_type": "code",
   "source": [
    "name_of_interest = []\n",
    "\n",
    "for names in all_data:\n",
    "    enough_as = [name for name in names if name.count(\"a\") >= 2]\n",
    "    name_of_interest.extend(enough_as)"
   ],
   "id": "5ea9c73e857c83d1",
   "outputs": [],
   "execution_count": 9
  },
  {
   "metadata": {
    "ExecuteTime": {
     "end_time": "2025-09-27T12:45:21.652741Z",
     "start_time": "2025-09-27T12:45:21.647362Z"
    }
   },
   "cell_type": "code",
   "source": "name_of_interest",
   "id": "b12e35c191df070c",
   "outputs": [
    {
     "data": {
      "text/plain": [
       "['Maria', 'Natalia']"
      ]
     },
     "execution_count": 10,
     "metadata": {},
     "output_type": "execute_result"
    }
   ],
   "execution_count": 10
  },
  {
   "metadata": {
    "ExecuteTime": {
     "end_time": "2025-09-27T12:46:40.519202Z",
     "start_time": "2025-09-27T12:46:40.512198Z"
    }
   },
   "cell_type": "code",
   "source": [
    "result = [name for names in all_data for name in names if name.count(\"a\") >= 2]\n",
    "result"
   ],
   "id": "6da6adadf84e0e7",
   "outputs": [
    {
     "data": {
      "text/plain": [
       "['Maria', 'Natalia']"
      ]
     },
     "execution_count": 11,
     "metadata": {},
     "output_type": "execute_result"
    }
   ],
   "execution_count": 11
  },
  {
   "metadata": {
    "ExecuteTime": {
     "end_time": "2025-09-30T11:28:17.194734Z",
     "start_time": "2025-09-30T11:28:17.183131Z"
    }
   },
   "cell_type": "code",
   "source": [
    "some_tuples = [(1, 2, 3), (4, 5, 6), (7, 8, 9)]\n",
    "flattened = [x for tup in some_tuples for x in tup]"
   ],
   "id": "42c19ad288db3578",
   "outputs": [],
   "execution_count": 3
  },
  {
   "metadata": {
    "ExecuteTime": {
     "end_time": "2025-09-30T11:28:17.780250Z",
     "start_time": "2025-09-30T11:28:17.757463Z"
    }
   },
   "cell_type": "code",
   "source": "flattened",
   "id": "aceeb140ef9df9ae",
   "outputs": [
    {
     "data": {
      "text/plain": [
       "[1, 2, 3, 4, 5, 6, 7, 8, 9]"
      ]
     },
     "execution_count": 4,
     "metadata": {},
     "output_type": "execute_result"
    }
   ],
   "execution_count": 4
  },
  {
   "metadata": {
    "ExecuteTime": {
     "end_time": "2025-09-30T11:29:15.443070Z",
     "start_time": "2025-09-30T11:29:15.429263Z"
    }
   },
   "cell_type": "code",
   "source": [
    "\"\"\"\n",
    "You can have arbitrarily many levels of nesting, though if you have more than two or three levels of nesting, you should probably start to question whether this makes sense from a code readability standpoint.\n",
    "\"\"\""
   ],
   "id": "69aeba9f04266e05",
   "outputs": [
    {
     "data": {
      "text/plain": [
       "'\\nYou can have arbitrarily many levels of nesting, though if you have more than two or three levels of nesting, you should probably start to question whether this makes sense from a code readability standpoint.\\n'"
      ]
     },
     "execution_count": 6,
     "metadata": {},
     "output_type": "execute_result"
    }
   ],
   "execution_count": 6
  },
  {
   "metadata": {
    "ExecuteTime": {
     "end_time": "2025-09-30T11:30:06.518121Z",
     "start_time": "2025-09-30T11:30:06.504503Z"
    }
   },
   "cell_type": "code",
   "source": "[{x for x in tup} for tup in some_tuples]",
   "id": "b0416ac2a0ec4e97",
   "outputs": [
    {
     "data": {
      "text/plain": [
       "[{1, 2, 3}, {4, 5, 6}, {7, 8, 9}]"
      ]
     },
     "execution_count": 8,
     "metadata": {},
     "output_type": "execute_result"
    }
   ],
   "execution_count": 8
  },
  {
   "metadata": {
    "ExecuteTime": {
     "end_time": "2025-09-30T11:30:27.781088Z",
     "start_time": "2025-09-30T11:30:27.582709Z"
    }
   },
   "cell_type": "code",
   "source": "{[x for x in tup] for tup in some_tuples}",
   "id": "64d3b5cd06d58d60",
   "outputs": [
    {
     "ename": "TypeError",
     "evalue": "unhashable type: 'list'",
     "output_type": "error",
     "traceback": [
      "\u001B[1;31m---------------------------------------------------------------------------\u001B[0m",
      "\u001B[1;31mTypeError\u001B[0m                                 Traceback (most recent call last)",
      "Cell \u001B[1;32mIn[9], line 1\u001B[0m\n\u001B[1;32m----> 1\u001B[0m \u001B[43m{\u001B[49m\u001B[43m[\u001B[49m\u001B[43mx\u001B[49m\u001B[43m \u001B[49m\u001B[38;5;28;43;01mfor\u001B[39;49;00m\u001B[43m \u001B[49m\u001B[43mx\u001B[49m\u001B[43m \u001B[49m\u001B[38;5;129;43;01min\u001B[39;49;00m\u001B[43m \u001B[49m\u001B[43mtup\u001B[49m\u001B[43m]\u001B[49m\u001B[43m \u001B[49m\u001B[38;5;28;43;01mfor\u001B[39;49;00m\u001B[43m \u001B[49m\u001B[43mtup\u001B[49m\u001B[43m \u001B[49m\u001B[38;5;129;43;01min\u001B[39;49;00m\u001B[43m \u001B[49m\u001B[43msome_tuples\u001B[49m\u001B[43m}\u001B[49m\n",
      "Cell \u001B[1;32mIn[9], line 1\u001B[0m, in \u001B[0;36m<setcomp>\u001B[1;34m(.0)\u001B[0m\n\u001B[1;32m----> 1\u001B[0m {[x \u001B[38;5;28;01mfor\u001B[39;00m x \u001B[38;5;129;01min\u001B[39;00m tup] \u001B[38;5;28;01mfor\u001B[39;00m tup \u001B[38;5;129;01min\u001B[39;00m some_tuples}\n",
      "\u001B[1;31mTypeError\u001B[0m: unhashable type: 'list'"
     ]
    }
   ],
   "execution_count": 9
  },
  {
   "metadata": {
    "ExecuteTime": {
     "end_time": "2025-09-30T11:33:09.604194Z",
     "start_time": "2025-09-30T11:33:09.591708Z"
    }
   },
   "cell_type": "code",
   "source": [
    "def my_function2(x, y, z=1.5):\n",
    "    if z > 1:\n",
    "        return x * y / z\n",
    "    else:\n",
    "        return x * y * z"
   ],
   "id": "a05c995c44feabdb",
   "outputs": [],
   "execution_count": 10
  },
  {
   "metadata": {
    "ExecuteTime": {
     "end_time": "2025-09-30T11:33:26.362752Z",
     "start_time": "2025-09-30T11:33:26.342369Z"
    }
   },
   "cell_type": "code",
   "source": "my_function2(1, 2, 3)",
   "id": "6ac9bf029d5c8f0b",
   "outputs": [
    {
     "data": {
      "text/plain": [
       "0.6666666666666666"
      ]
     },
     "execution_count": 11,
     "metadata": {},
     "output_type": "execute_result"
    }
   ],
   "execution_count": 11
  },
  {
   "metadata": {
    "ExecuteTime": {
     "end_time": "2025-09-30T11:33:41.090899Z",
     "start_time": "2025-09-30T11:33:41.076882Z"
    }
   },
   "cell_type": "code",
   "source": "my_function2(1, 2, z=3)\n",
   "id": "9a969b63ffd43611",
   "outputs": [
    {
     "data": {
      "text/plain": [
       "0.6666666666666666"
      ]
     },
     "execution_count": 12,
     "metadata": {},
     "output_type": "execute_result"
    }
   ],
   "execution_count": 12
  },
  {
   "metadata": {
    "ExecuteTime": {
     "end_time": "2025-09-30T11:33:44.685375Z",
     "start_time": "2025-09-30T11:33:44.668688Z"
    }
   },
   "cell_type": "code",
   "source": "my_function2(1, 2)\n",
   "id": "ea55c6828b8c5116",
   "outputs": [
    {
     "data": {
      "text/plain": [
       "1.3333333333333333"
      ]
     },
     "execution_count": 13,
     "metadata": {},
     "output_type": "execute_result"
    }
   ],
   "execution_count": 13
  },
  {
   "metadata": {
    "ExecuteTime": {
     "end_time": "2025-09-30T11:34:44.461264Z",
     "start_time": "2025-09-30T11:34:44.444317Z"
    }
   },
   "cell_type": "code",
   "source": [
    "\"\"\"\n",
    "The main restriction on function arguments is that the keyword arguments must follow the positional arguments (if any). You can specify keyword arguments in any order. This frees you from having to remember the order in which the function arguments were specified. You need to remember only what their names are.\n",
    "\"\"\""
   ],
   "id": "fa4794719cc7bf95",
   "outputs": [
    {
     "data": {
      "text/plain": [
       "'\\nThe main restriction on function arguments is that the keyword arguments must follow the positional arguments (if any). You can specify keyword arguments in any order. This frees you from having to remember the order in which the function arguments were specified. You need to remember only what their names are.\\n'"
      ]
     },
     "execution_count": 14,
     "metadata": {},
     "output_type": "execute_result"
    }
   ],
   "execution_count": 14
  },
  {
   "metadata": {
    "ExecuteTime": {
     "end_time": "2025-09-30T11:37:15.438106Z",
     "start_time": "2025-09-30T11:37:15.424418Z"
    }
   },
   "cell_type": "code",
   "source": [
    "a = []\n",
    "def func():\n",
    "    for i in range(5):\n",
    "        a.append(i)\n",
    "\n",
    "a"
   ],
   "id": "c7a2ffbe2cbf64dc",
   "outputs": [
    {
     "data": {
      "text/plain": [
       "[]"
      ]
     },
     "execution_count": 15,
     "metadata": {},
     "output_type": "execute_result"
    }
   ],
   "execution_count": 15
  },
  {
   "metadata": {
    "ExecuteTime": {
     "end_time": "2025-09-30T11:37:26.370886Z",
     "start_time": "2025-09-30T11:37:26.355242Z"
    }
   },
   "cell_type": "code",
   "source": [
    "func()\n",
    "a"
   ],
   "id": "eb455eb01d114c21",
   "outputs": [
    {
     "data": {
      "text/plain": [
       "[0, 1, 2, 3, 4]"
      ]
     },
     "execution_count": 16,
     "metadata": {},
     "output_type": "execute_result"
    }
   ],
   "execution_count": 16
  },
  {
   "metadata": {
    "ExecuteTime": {
     "end_time": "2025-09-30T11:37:49.399924Z",
     "start_time": "2025-09-30T11:37:49.381095Z"
    }
   },
   "cell_type": "code",
   "source": [
    "func(); func()\n",
    "a"
   ],
   "id": "cea5d75d153048da",
   "outputs": [
    {
     "data": {
      "text/plain": [
       "[0, 1, 2, 3, 4, 0, 1, 2, 3, 4, 0, 1, 2, 3, 4]"
      ]
     },
     "execution_count": 17,
     "metadata": {},
     "output_type": "execute_result"
    }
   ],
   "execution_count": 17
  },
  {
   "metadata": {
    "ExecuteTime": {
     "end_time": "2025-09-30T11:44:03.095897Z",
     "start_time": "2025-09-30T11:44:03.090871Z"
    }
   },
   "cell_type": "code",
   "source": [
    "\"\"\"\n",
    "Assigning variables outside of the function’s scope is possible, but those\n",
    "variables must be declared explicitly using either the global or nonlocal\n",
    "keywords:\n",
    "\"\"\"\n",
    "a = 5\n",
    "def bind_a_variable():\n",
    "    global a\n",
    "    # nonlocal a\n",
    "    a = []\n",
    "\n",
    "bind_a_variable()"
   ],
   "id": "4922d6ccf72e0468",
   "outputs": [],
   "execution_count": 25
  },
  {
   "metadata": {
    "ExecuteTime": {
     "end_time": "2025-09-30T11:44:04.577993Z",
     "start_time": "2025-09-30T11:44:04.571326Z"
    }
   },
   "cell_type": "code",
   "source": "a",
   "id": "1b5f47d62bdae6f0",
   "outputs": [
    {
     "data": {
      "text/plain": [
       "[]"
      ]
     },
     "execution_count": 26,
     "metadata": {},
     "output_type": "execute_result"
    }
   ],
   "execution_count": 26
  },
  {
   "metadata": {},
   "cell_type": "code",
   "outputs": [],
   "execution_count": null,
   "source": "",
   "id": "958e61e367feb023"
  }
 ],
 "metadata": {
  "kernelspec": {
   "display_name": "Python 3",
   "language": "python",
   "name": "python3"
  },
  "language_info": {
   "codemirror_mode": {
    "name": "ipython",
    "version": 2
   },
   "file_extension": ".py",
   "mimetype": "text/x-python",
   "name": "python",
   "nbconvert_exporter": "python",
   "pygments_lexer": "ipython2",
   "version": "2.7.6"
  }
 },
 "nbformat": 4,
 "nbformat_minor": 5
}
